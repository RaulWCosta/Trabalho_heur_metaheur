{
 "cells": [
  {
   "cell_type": "code",
   "execution_count": 21,
   "metadata": {},
   "outputs": [],
   "source": [
    "import pandas as pd\n",
    "import plotly.express as px\n",
    "import warnings\n",
    "warnings.filterwarnings('ignore')"
   ]
  },
  {
   "cell_type": "code",
   "execution_count": 5,
   "metadata": {},
   "outputs": [],
   "source": [
    "df_results = pd.read_csv(\"test_data.csv\", sep=\";\")"
   ]
  },
  {
   "cell_type": "code",
   "execution_count": 6,
   "metadata": {},
   "outputs": [
    {
     "data": {
      "text/html": [
       "<div>\n",
       "<style scoped>\n",
       "    .dataframe tbody tr th:only-of-type {\n",
       "        vertical-align: middle;\n",
       "    }\n",
       "\n",
       "    .dataframe tbody tr th {\n",
       "        vertical-align: top;\n",
       "    }\n",
       "\n",
       "    .dataframe thead th {\n",
       "        text-align: right;\n",
       "    }\n",
       "</style>\n",
       "<table border=\"1\" class=\"dataframe\">\n",
       "  <thead>\n",
       "    <tr style=\"text-align: right;\">\n",
       "      <th></th>\n",
       "      <th>instance_name</th>\n",
       "      <th>num_execs</th>\n",
       "      <th>constructive_cost</th>\n",
       "      <th>constructive_exec_time (ms)</th>\n",
       "      <th>tabu_cost</th>\n",
       "      <th>tabu_exec_time (ms)</th>\n",
       "      <th>grasp_cost</th>\n",
       "      <th>grasp_exec_time (ms)</th>\n",
       "      <th>optimal_cost</th>\n",
       "    </tr>\n",
       "  </thead>\n",
       "  <tbody>\n",
       "    <tr>\n",
       "      <th>0</th>\n",
       "      <td>./data/BildeKrarup/C/C1.1</td>\n",
       "      <td>1</td>\n",
       "      <td>20761</td>\n",
       "      <td>9.602</td>\n",
       "      <td>17537</td>\n",
       "      <td>86.567</td>\n",
       "      <td>18369</td>\n",
       "      <td>111.204</td>\n",
       "      <td>16781</td>\n",
       "    </tr>\n",
       "    <tr>\n",
       "      <th>1</th>\n",
       "      <td>./data/BildeKrarup/C/C1.2</td>\n",
       "      <td>1</td>\n",
       "      <td>21623</td>\n",
       "      <td>1.991</td>\n",
       "      <td>17445</td>\n",
       "      <td>74.306</td>\n",
       "      <td>16760</td>\n",
       "      <td>111.616</td>\n",
       "      <td>15842</td>\n",
       "    </tr>\n",
       "    <tr>\n",
       "      <th>2</th>\n",
       "      <td>./data/BildeKrarup/C/C1.3</td>\n",
       "      <td>1</td>\n",
       "      <td>21461</td>\n",
       "      <td>1.958</td>\n",
       "      <td>18721</td>\n",
       "      <td>74.121</td>\n",
       "      <td>19572</td>\n",
       "      <td>109.942</td>\n",
       "      <td>17668</td>\n",
       "    </tr>\n",
       "    <tr>\n",
       "      <th>3</th>\n",
       "      <td>./data/BildeKrarup/C/C1.4</td>\n",
       "      <td>1</td>\n",
       "      <td>21659</td>\n",
       "      <td>2.038</td>\n",
       "      <td>17526</td>\n",
       "      <td>75.260</td>\n",
       "      <td>17967</td>\n",
       "      <td>112.321</td>\n",
       "      <td>16799</td>\n",
       "    </tr>\n",
       "    <tr>\n",
       "      <th>4</th>\n",
       "      <td>./data/BildeKrarup/C/C1.5</td>\n",
       "      <td>1</td>\n",
       "      <td>20886</td>\n",
       "      <td>2.001</td>\n",
       "      <td>17802</td>\n",
       "      <td>74.717</td>\n",
       "      <td>18410</td>\n",
       "      <td>109.730</td>\n",
       "      <td>17491</td>\n",
       "    </tr>\n",
       "    <tr>\n",
       "      <th>...</th>\n",
       "      <td>...</td>\n",
       "      <td>...</td>\n",
       "      <td>...</td>\n",
       "      <td>...</td>\n",
       "      <td>...</td>\n",
       "      <td>...</td>\n",
       "      <td>...</td>\n",
       "      <td>...</td>\n",
       "      <td>...</td>\n",
       "    </tr>\n",
       "    <tr>\n",
       "      <th>215</th>\n",
       "      <td>./data/BildeKrarup/Dq/4/D4.6</td>\n",
       "      <td>1</td>\n",
       "      <td>30788</td>\n",
       "      <td>0.753</td>\n",
       "      <td>26656</td>\n",
       "      <td>31.856</td>\n",
       "      <td>26590</td>\n",
       "      <td>45.880</td>\n",
       "      <td>26576</td>\n",
       "    </tr>\n",
       "    <tr>\n",
       "      <th>216</th>\n",
       "      <td>./data/BildeKrarup/Dq/4/D4.7</td>\n",
       "      <td>1</td>\n",
       "      <td>28899</td>\n",
       "      <td>0.786</td>\n",
       "      <td>26711</td>\n",
       "      <td>30.098</td>\n",
       "      <td>27417</td>\n",
       "      <td>45.852</td>\n",
       "      <td>25724</td>\n",
       "    </tr>\n",
       "    <tr>\n",
       "      <th>217</th>\n",
       "      <td>./data/BildeKrarup/Dq/4/D4.8</td>\n",
       "      <td>1</td>\n",
       "      <td>28691</td>\n",
       "      <td>0.788</td>\n",
       "      <td>27920</td>\n",
       "      <td>28.785</td>\n",
       "      <td>28358</td>\n",
       "      <td>45.337</td>\n",
       "      <td>27658</td>\n",
       "    </tr>\n",
       "    <tr>\n",
       "      <th>218</th>\n",
       "      <td>./data/BildeKrarup/Dq/4/D4.9</td>\n",
       "      <td>1</td>\n",
       "      <td>31353</td>\n",
       "      <td>0.774</td>\n",
       "      <td>27713</td>\n",
       "      <td>28.811</td>\n",
       "      <td>28638</td>\n",
       "      <td>45.532</td>\n",
       "      <td>26151</td>\n",
       "    </tr>\n",
       "    <tr>\n",
       "      <th>219</th>\n",
       "      <td>./data/BildeKrarup/Dq/4/D4.10</td>\n",
       "      <td>1</td>\n",
       "      <td>28781</td>\n",
       "      <td>0.780</td>\n",
       "      <td>27662</td>\n",
       "      <td>29.650</td>\n",
       "      <td>25261</td>\n",
       "      <td>45.857</td>\n",
       "      <td>25261</td>\n",
       "    </tr>\n",
       "  </tbody>\n",
       "</table>\n",
       "<p>220 rows × 9 columns</p>\n",
       "</div>"
      ],
      "text/plain": [
       "                     instance_name  num_execs  constructive_cost  \\\n",
       "0        ./data/BildeKrarup/C/C1.1          1              20761   \n",
       "1        ./data/BildeKrarup/C/C1.2          1              21623   \n",
       "2        ./data/BildeKrarup/C/C1.3          1              21461   \n",
       "3        ./data/BildeKrarup/C/C1.4          1              21659   \n",
       "4        ./data/BildeKrarup/C/C1.5          1              20886   \n",
       "..                             ...        ...                ...   \n",
       "215   ./data/BildeKrarup/Dq/4/D4.6          1              30788   \n",
       "216   ./data/BildeKrarup/Dq/4/D4.7          1              28899   \n",
       "217   ./data/BildeKrarup/Dq/4/D4.8          1              28691   \n",
       "218   ./data/BildeKrarup/Dq/4/D4.9          1              31353   \n",
       "219  ./data/BildeKrarup/Dq/4/D4.10          1              28781   \n",
       "\n",
       "     constructive_exec_time (ms)  tabu_cost  tabu_exec_time (ms)  grasp_cost  \\\n",
       "0                          9.602      17537               86.567       18369   \n",
       "1                          1.991      17445               74.306       16760   \n",
       "2                          1.958      18721               74.121       19572   \n",
       "3                          2.038      17526               75.260       17967   \n",
       "4                          2.001      17802               74.717       18410   \n",
       "..                           ...        ...                  ...         ...   \n",
       "215                        0.753      26656               31.856       26590   \n",
       "216                        0.786      26711               30.098       27417   \n",
       "217                        0.788      27920               28.785       28358   \n",
       "218                        0.774      27713               28.811       28638   \n",
       "219                        0.780      27662               29.650       25261   \n",
       "\n",
       "     grasp_exec_time (ms)  optimal_cost  \n",
       "0                 111.204         16781  \n",
       "1                 111.616         15842  \n",
       "2                 109.942         17668  \n",
       "3                 112.321         16799  \n",
       "4                 109.730         17491  \n",
       "..                    ...           ...  \n",
       "215                45.880         26576  \n",
       "216                45.852         25724  \n",
       "217                45.337         27658  \n",
       "218                45.532         26151  \n",
       "219                45.857         25261  \n",
       "\n",
       "[220 rows x 9 columns]"
      ]
     },
     "execution_count": 6,
     "metadata": {},
     "output_type": "execute_result"
    }
   ],
   "source": [
    "df_results"
   ]
  },
  {
   "cell_type": "code",
   "execution_count": 7,
   "metadata": {},
   "outputs": [],
   "source": [
    "df_results_time = df_results.filter(regex=\".*\\(ms\\)$\")\n",
    "df_results_time"
   ]
  },
  {
   "cell_type": "code",
   "execution_count": 14,
   "metadata": {},
   "outputs": [
    {
     "data": {
      "application/vnd.plotly.v1+json": {
       "config": {
        "plotlyServerURL": "https://plot.ly"
       },
       "data": [
        {
         "alignmentgroup": "True",
         "hovertemplate": "variable=%{x}<br>value=%{y}<extra></extra>",
         "legendgroup": "",
         "marker": {
          "color": "#636efa"
         },
         "name": "",
         "notched": false,
         "offsetgroup": "",
         "orientation": "v",
         "showlegend": false,
         "type": "box",
         "x": [
          "constructive_exec_time (ms)",
          "constructive_exec_time (ms)",
          "constructive_exec_time (ms)",
          "constructive_exec_time (ms)",
          "constructive_exec_time (ms)",
          "constructive_exec_time (ms)",
          "constructive_exec_time (ms)",
          "constructive_exec_time (ms)",
          "constructive_exec_time (ms)",
          "constructive_exec_time (ms)",
          "constructive_exec_time (ms)",
          "constructive_exec_time (ms)",
          "constructive_exec_time (ms)",
          "constructive_exec_time (ms)",
          "constructive_exec_time (ms)",
          "constructive_exec_time (ms)",
          "constructive_exec_time (ms)",
          "constructive_exec_time (ms)",
          "constructive_exec_time (ms)",
          "constructive_exec_time (ms)",
          "constructive_exec_time (ms)",
          "constructive_exec_time (ms)",
          "constructive_exec_time (ms)",
          "constructive_exec_time (ms)",
          "constructive_exec_time (ms)",
          "constructive_exec_time (ms)",
          "constructive_exec_time (ms)",
          "constructive_exec_time (ms)",
          "constructive_exec_time (ms)",
          "constructive_exec_time (ms)",
          "constructive_exec_time (ms)",
          "constructive_exec_time (ms)",
          "constructive_exec_time (ms)",
          "constructive_exec_time (ms)",
          "constructive_exec_time (ms)",
          "constructive_exec_time (ms)",
          "constructive_exec_time (ms)",
          "constructive_exec_time (ms)",
          "constructive_exec_time (ms)",
          "constructive_exec_time (ms)",
          "constructive_exec_time (ms)",
          "constructive_exec_time (ms)",
          "constructive_exec_time (ms)",
          "constructive_exec_time (ms)",
          "constructive_exec_time (ms)",
          "constructive_exec_time (ms)",
          "constructive_exec_time (ms)",
          "constructive_exec_time (ms)",
          "constructive_exec_time (ms)",
          "constructive_exec_time (ms)",
          "constructive_exec_time (ms)",
          "constructive_exec_time (ms)",
          "constructive_exec_time (ms)",
          "constructive_exec_time (ms)",
          "constructive_exec_time (ms)",
          "constructive_exec_time (ms)",
          "constructive_exec_time (ms)",
          "constructive_exec_time (ms)",
          "constructive_exec_time (ms)",
          "constructive_exec_time (ms)",
          "constructive_exec_time (ms)",
          "constructive_exec_time (ms)",
          "constructive_exec_time (ms)",
          "constructive_exec_time (ms)",
          "constructive_exec_time (ms)",
          "constructive_exec_time (ms)",
          "constructive_exec_time (ms)",
          "constructive_exec_time (ms)",
          "constructive_exec_time (ms)",
          "constructive_exec_time (ms)",
          "constructive_exec_time (ms)",
          "constructive_exec_time (ms)",
          "constructive_exec_time (ms)",
          "constructive_exec_time (ms)",
          "constructive_exec_time (ms)",
          "constructive_exec_time (ms)",
          "constructive_exec_time (ms)",
          "constructive_exec_time (ms)",
          "constructive_exec_time (ms)",
          "constructive_exec_time (ms)",
          "constructive_exec_time (ms)",
          "constructive_exec_time (ms)",
          "constructive_exec_time (ms)",
          "constructive_exec_time (ms)",
          "constructive_exec_time (ms)",
          "constructive_exec_time (ms)",
          "constructive_exec_time (ms)",
          "constructive_exec_time (ms)",
          "constructive_exec_time (ms)",
          "constructive_exec_time (ms)",
          "constructive_exec_time (ms)",
          "constructive_exec_time (ms)",
          "constructive_exec_time (ms)",
          "constructive_exec_time (ms)",
          "constructive_exec_time (ms)",
          "constructive_exec_time (ms)",
          "constructive_exec_time (ms)",
          "constructive_exec_time (ms)",
          "constructive_exec_time (ms)",
          "constructive_exec_time (ms)",
          "constructive_exec_time (ms)",
          "constructive_exec_time (ms)",
          "constructive_exec_time (ms)",
          "constructive_exec_time (ms)",
          "constructive_exec_time (ms)",
          "constructive_exec_time (ms)",
          "constructive_exec_time (ms)",
          "constructive_exec_time (ms)",
          "constructive_exec_time (ms)",
          "constructive_exec_time (ms)",
          "constructive_exec_time (ms)",
          "constructive_exec_time (ms)",
          "constructive_exec_time (ms)",
          "constructive_exec_time (ms)",
          "constructive_exec_time (ms)",
          "constructive_exec_time (ms)",
          "constructive_exec_time (ms)",
          "constructive_exec_time (ms)",
          "constructive_exec_time (ms)",
          "constructive_exec_time (ms)",
          "constructive_exec_time (ms)",
          "constructive_exec_time (ms)",
          "constructive_exec_time (ms)",
          "constructive_exec_time (ms)",
          "constructive_exec_time (ms)",
          "constructive_exec_time (ms)",
          "constructive_exec_time (ms)",
          "constructive_exec_time (ms)",
          "constructive_exec_time (ms)",
          "constructive_exec_time (ms)",
          "constructive_exec_time (ms)",
          "constructive_exec_time (ms)",
          "constructive_exec_time (ms)",
          "constructive_exec_time (ms)",
          "constructive_exec_time (ms)",
          "constructive_exec_time (ms)",
          "constructive_exec_time (ms)",
          "constructive_exec_time (ms)",
          "constructive_exec_time (ms)",
          "constructive_exec_time (ms)",
          "constructive_exec_time (ms)",
          "constructive_exec_time (ms)",
          "constructive_exec_time (ms)",
          "constructive_exec_time (ms)",
          "constructive_exec_time (ms)",
          "constructive_exec_time (ms)",
          "constructive_exec_time (ms)",
          "constructive_exec_time (ms)",
          "constructive_exec_time (ms)",
          "constructive_exec_time (ms)",
          "constructive_exec_time (ms)",
          "constructive_exec_time (ms)",
          "constructive_exec_time (ms)",
          "constructive_exec_time (ms)",
          "constructive_exec_time (ms)",
          "constructive_exec_time (ms)",
          "constructive_exec_time (ms)",
          "constructive_exec_time (ms)",
          "constructive_exec_time (ms)",
          "constructive_exec_time (ms)",
          "constructive_exec_time (ms)",
          "constructive_exec_time (ms)",
          "constructive_exec_time (ms)",
          "constructive_exec_time (ms)",
          "constructive_exec_time (ms)",
          "constructive_exec_time (ms)",
          "constructive_exec_time (ms)",
          "constructive_exec_time (ms)",
          "constructive_exec_time (ms)",
          "constructive_exec_time (ms)",
          "constructive_exec_time (ms)",
          "constructive_exec_time (ms)",
          "constructive_exec_time (ms)",
          "constructive_exec_time (ms)",
          "constructive_exec_time (ms)",
          "constructive_exec_time (ms)",
          "constructive_exec_time (ms)",
          "constructive_exec_time (ms)",
          "constructive_exec_time (ms)",
          "constructive_exec_time (ms)",
          "constructive_exec_time (ms)",
          "constructive_exec_time (ms)",
          "constructive_exec_time (ms)",
          "constructive_exec_time (ms)",
          "constructive_exec_time (ms)",
          "constructive_exec_time (ms)",
          "constructive_exec_time (ms)",
          "constructive_exec_time (ms)",
          "constructive_exec_time (ms)",
          "constructive_exec_time (ms)",
          "constructive_exec_time (ms)",
          "constructive_exec_time (ms)",
          "constructive_exec_time (ms)",
          "constructive_exec_time (ms)",
          "constructive_exec_time (ms)",
          "constructive_exec_time (ms)",
          "constructive_exec_time (ms)",
          "constructive_exec_time (ms)",
          "constructive_exec_time (ms)",
          "constructive_exec_time (ms)",
          "constructive_exec_time (ms)",
          "constructive_exec_time (ms)",
          "constructive_exec_time (ms)",
          "constructive_exec_time (ms)",
          "constructive_exec_time (ms)",
          "constructive_exec_time (ms)",
          "constructive_exec_time (ms)",
          "constructive_exec_time (ms)",
          "constructive_exec_time (ms)",
          "constructive_exec_time (ms)",
          "constructive_exec_time (ms)",
          "constructive_exec_time (ms)",
          "constructive_exec_time (ms)",
          "constructive_exec_time (ms)",
          "constructive_exec_time (ms)",
          "constructive_exec_time (ms)",
          "constructive_exec_time (ms)",
          "constructive_exec_time (ms)",
          "constructive_exec_time (ms)",
          "constructive_exec_time (ms)",
          "tabu_exec_time (ms)",
          "tabu_exec_time (ms)",
          "tabu_exec_time (ms)",
          "tabu_exec_time (ms)",
          "tabu_exec_time (ms)",
          "tabu_exec_time (ms)",
          "tabu_exec_time (ms)",
          "tabu_exec_time (ms)",
          "tabu_exec_time (ms)",
          "tabu_exec_time (ms)",
          "tabu_exec_time (ms)",
          "tabu_exec_time (ms)",
          "tabu_exec_time (ms)",
          "tabu_exec_time (ms)",
          "tabu_exec_time (ms)",
          "tabu_exec_time (ms)",
          "tabu_exec_time (ms)",
          "tabu_exec_time (ms)",
          "tabu_exec_time (ms)",
          "tabu_exec_time (ms)",
          "tabu_exec_time (ms)",
          "tabu_exec_time (ms)",
          "tabu_exec_time (ms)",
          "tabu_exec_time (ms)",
          "tabu_exec_time (ms)",
          "tabu_exec_time (ms)",
          "tabu_exec_time (ms)",
          "tabu_exec_time (ms)",
          "tabu_exec_time (ms)",
          "tabu_exec_time (ms)",
          "tabu_exec_time (ms)",
          "tabu_exec_time (ms)",
          "tabu_exec_time (ms)",
          "tabu_exec_time (ms)",
          "tabu_exec_time (ms)",
          "tabu_exec_time (ms)",
          "tabu_exec_time (ms)",
          "tabu_exec_time (ms)",
          "tabu_exec_time (ms)",
          "tabu_exec_time (ms)",
          "tabu_exec_time (ms)",
          "tabu_exec_time (ms)",
          "tabu_exec_time (ms)",
          "tabu_exec_time (ms)",
          "tabu_exec_time (ms)",
          "tabu_exec_time (ms)",
          "tabu_exec_time (ms)",
          "tabu_exec_time (ms)",
          "tabu_exec_time (ms)",
          "tabu_exec_time (ms)",
          "tabu_exec_time (ms)",
          "tabu_exec_time (ms)",
          "tabu_exec_time (ms)",
          "tabu_exec_time (ms)",
          "tabu_exec_time (ms)",
          "tabu_exec_time (ms)",
          "tabu_exec_time (ms)",
          "tabu_exec_time (ms)",
          "tabu_exec_time (ms)",
          "tabu_exec_time (ms)",
          "tabu_exec_time (ms)",
          "tabu_exec_time (ms)",
          "tabu_exec_time (ms)",
          "tabu_exec_time (ms)",
          "tabu_exec_time (ms)",
          "tabu_exec_time (ms)",
          "tabu_exec_time (ms)",
          "tabu_exec_time (ms)",
          "tabu_exec_time (ms)",
          "tabu_exec_time (ms)",
          "tabu_exec_time (ms)",
          "tabu_exec_time (ms)",
          "tabu_exec_time (ms)",
          "tabu_exec_time (ms)",
          "tabu_exec_time (ms)",
          "tabu_exec_time (ms)",
          "tabu_exec_time (ms)",
          "tabu_exec_time (ms)",
          "tabu_exec_time (ms)",
          "tabu_exec_time (ms)",
          "tabu_exec_time (ms)",
          "tabu_exec_time (ms)",
          "tabu_exec_time (ms)",
          "tabu_exec_time (ms)",
          "tabu_exec_time (ms)",
          "tabu_exec_time (ms)",
          "tabu_exec_time (ms)",
          "tabu_exec_time (ms)",
          "tabu_exec_time (ms)",
          "tabu_exec_time (ms)",
          "tabu_exec_time (ms)",
          "tabu_exec_time (ms)",
          "tabu_exec_time (ms)",
          "tabu_exec_time (ms)",
          "tabu_exec_time (ms)",
          "tabu_exec_time (ms)",
          "tabu_exec_time (ms)",
          "tabu_exec_time (ms)",
          "tabu_exec_time (ms)",
          "tabu_exec_time (ms)",
          "tabu_exec_time (ms)",
          "tabu_exec_time (ms)",
          "tabu_exec_time (ms)",
          "tabu_exec_time (ms)",
          "tabu_exec_time (ms)",
          "tabu_exec_time (ms)",
          "tabu_exec_time (ms)",
          "tabu_exec_time (ms)",
          "tabu_exec_time (ms)",
          "tabu_exec_time (ms)",
          "tabu_exec_time (ms)",
          "tabu_exec_time (ms)",
          "tabu_exec_time (ms)",
          "tabu_exec_time (ms)",
          "tabu_exec_time (ms)",
          "tabu_exec_time (ms)",
          "tabu_exec_time (ms)",
          "tabu_exec_time (ms)",
          "tabu_exec_time (ms)",
          "tabu_exec_time (ms)",
          "tabu_exec_time (ms)",
          "tabu_exec_time (ms)",
          "tabu_exec_time (ms)",
          "tabu_exec_time (ms)",
          "tabu_exec_time (ms)",
          "tabu_exec_time (ms)",
          "tabu_exec_time (ms)",
          "tabu_exec_time (ms)",
          "tabu_exec_time (ms)",
          "tabu_exec_time (ms)",
          "tabu_exec_time (ms)",
          "tabu_exec_time (ms)",
          "tabu_exec_time (ms)",
          "tabu_exec_time (ms)",
          "tabu_exec_time (ms)",
          "tabu_exec_time (ms)",
          "tabu_exec_time (ms)",
          "tabu_exec_time (ms)",
          "tabu_exec_time (ms)",
          "tabu_exec_time (ms)",
          "tabu_exec_time (ms)",
          "tabu_exec_time (ms)",
          "tabu_exec_time (ms)",
          "tabu_exec_time (ms)",
          "tabu_exec_time (ms)",
          "tabu_exec_time (ms)",
          "tabu_exec_time (ms)",
          "tabu_exec_time (ms)",
          "tabu_exec_time (ms)",
          "tabu_exec_time (ms)",
          "tabu_exec_time (ms)",
          "tabu_exec_time (ms)",
          "tabu_exec_time (ms)",
          "tabu_exec_time (ms)",
          "tabu_exec_time (ms)",
          "tabu_exec_time (ms)",
          "tabu_exec_time (ms)",
          "tabu_exec_time (ms)",
          "tabu_exec_time (ms)",
          "tabu_exec_time (ms)",
          "tabu_exec_time (ms)",
          "tabu_exec_time (ms)",
          "tabu_exec_time (ms)",
          "tabu_exec_time (ms)",
          "tabu_exec_time (ms)",
          "tabu_exec_time (ms)",
          "tabu_exec_time (ms)",
          "tabu_exec_time (ms)",
          "tabu_exec_time (ms)",
          "tabu_exec_time (ms)",
          "tabu_exec_time (ms)",
          "tabu_exec_time (ms)",
          "tabu_exec_time (ms)",
          "tabu_exec_time (ms)",
          "tabu_exec_time (ms)",
          "tabu_exec_time (ms)",
          "tabu_exec_time (ms)",
          "tabu_exec_time (ms)",
          "tabu_exec_time (ms)",
          "tabu_exec_time (ms)",
          "tabu_exec_time (ms)",
          "tabu_exec_time (ms)",
          "tabu_exec_time (ms)",
          "tabu_exec_time (ms)",
          "tabu_exec_time (ms)",
          "tabu_exec_time (ms)",
          "tabu_exec_time (ms)",
          "tabu_exec_time (ms)",
          "tabu_exec_time (ms)",
          "tabu_exec_time (ms)",
          "tabu_exec_time (ms)",
          "tabu_exec_time (ms)",
          "tabu_exec_time (ms)",
          "tabu_exec_time (ms)",
          "tabu_exec_time (ms)",
          "tabu_exec_time (ms)",
          "tabu_exec_time (ms)",
          "tabu_exec_time (ms)",
          "tabu_exec_time (ms)",
          "tabu_exec_time (ms)",
          "tabu_exec_time (ms)",
          "tabu_exec_time (ms)",
          "tabu_exec_time (ms)",
          "tabu_exec_time (ms)",
          "tabu_exec_time (ms)",
          "tabu_exec_time (ms)",
          "tabu_exec_time (ms)",
          "tabu_exec_time (ms)",
          "tabu_exec_time (ms)",
          "tabu_exec_time (ms)",
          "tabu_exec_time (ms)",
          "tabu_exec_time (ms)",
          "tabu_exec_time (ms)",
          "tabu_exec_time (ms)",
          "tabu_exec_time (ms)",
          "tabu_exec_time (ms)",
          "tabu_exec_time (ms)",
          "tabu_exec_time (ms)",
          "tabu_exec_time (ms)",
          "tabu_exec_time (ms)",
          "grasp_exec_time (ms)",
          "grasp_exec_time (ms)",
          "grasp_exec_time (ms)",
          "grasp_exec_time (ms)",
          "grasp_exec_time (ms)",
          "grasp_exec_time (ms)",
          "grasp_exec_time (ms)",
          "grasp_exec_time (ms)",
          "grasp_exec_time (ms)",
          "grasp_exec_time (ms)",
          "grasp_exec_time (ms)",
          "grasp_exec_time (ms)",
          "grasp_exec_time (ms)",
          "grasp_exec_time (ms)",
          "grasp_exec_time (ms)",
          "grasp_exec_time (ms)",
          "grasp_exec_time (ms)",
          "grasp_exec_time (ms)",
          "grasp_exec_time (ms)",
          "grasp_exec_time (ms)",
          "grasp_exec_time (ms)",
          "grasp_exec_time (ms)",
          "grasp_exec_time (ms)",
          "grasp_exec_time (ms)",
          "grasp_exec_time (ms)",
          "grasp_exec_time (ms)",
          "grasp_exec_time (ms)",
          "grasp_exec_time (ms)",
          "grasp_exec_time (ms)",
          "grasp_exec_time (ms)",
          "grasp_exec_time (ms)",
          "grasp_exec_time (ms)",
          "grasp_exec_time (ms)",
          "grasp_exec_time (ms)",
          "grasp_exec_time (ms)",
          "grasp_exec_time (ms)",
          "grasp_exec_time (ms)",
          "grasp_exec_time (ms)",
          "grasp_exec_time (ms)",
          "grasp_exec_time (ms)",
          "grasp_exec_time (ms)",
          "grasp_exec_time (ms)",
          "grasp_exec_time (ms)",
          "grasp_exec_time (ms)",
          "grasp_exec_time (ms)",
          "grasp_exec_time (ms)",
          "grasp_exec_time (ms)",
          "grasp_exec_time (ms)",
          "grasp_exec_time (ms)",
          "grasp_exec_time (ms)",
          "grasp_exec_time (ms)",
          "grasp_exec_time (ms)",
          "grasp_exec_time (ms)",
          "grasp_exec_time (ms)",
          "grasp_exec_time (ms)",
          "grasp_exec_time (ms)",
          "grasp_exec_time (ms)",
          "grasp_exec_time (ms)",
          "grasp_exec_time (ms)",
          "grasp_exec_time (ms)",
          "grasp_exec_time (ms)",
          "grasp_exec_time (ms)",
          "grasp_exec_time (ms)",
          "grasp_exec_time (ms)",
          "grasp_exec_time (ms)",
          "grasp_exec_time (ms)",
          "grasp_exec_time (ms)",
          "grasp_exec_time (ms)",
          "grasp_exec_time (ms)",
          "grasp_exec_time (ms)",
          "grasp_exec_time (ms)",
          "grasp_exec_time (ms)",
          "grasp_exec_time (ms)",
          "grasp_exec_time (ms)",
          "grasp_exec_time (ms)",
          "grasp_exec_time (ms)",
          "grasp_exec_time (ms)",
          "grasp_exec_time (ms)",
          "grasp_exec_time (ms)",
          "grasp_exec_time (ms)",
          "grasp_exec_time (ms)",
          "grasp_exec_time (ms)",
          "grasp_exec_time (ms)",
          "grasp_exec_time (ms)",
          "grasp_exec_time (ms)",
          "grasp_exec_time (ms)",
          "grasp_exec_time (ms)",
          "grasp_exec_time (ms)",
          "grasp_exec_time (ms)",
          "grasp_exec_time (ms)",
          "grasp_exec_time (ms)",
          "grasp_exec_time (ms)",
          "grasp_exec_time (ms)",
          "grasp_exec_time (ms)",
          "grasp_exec_time (ms)",
          "grasp_exec_time (ms)",
          "grasp_exec_time (ms)",
          "grasp_exec_time (ms)",
          "grasp_exec_time (ms)",
          "grasp_exec_time (ms)",
          "grasp_exec_time (ms)",
          "grasp_exec_time (ms)",
          "grasp_exec_time (ms)",
          "grasp_exec_time (ms)",
          "grasp_exec_time (ms)",
          "grasp_exec_time (ms)",
          "grasp_exec_time (ms)",
          "grasp_exec_time (ms)",
          "grasp_exec_time (ms)",
          "grasp_exec_time (ms)",
          "grasp_exec_time (ms)",
          "grasp_exec_time (ms)",
          "grasp_exec_time (ms)",
          "grasp_exec_time (ms)",
          "grasp_exec_time (ms)",
          "grasp_exec_time (ms)",
          "grasp_exec_time (ms)",
          "grasp_exec_time (ms)",
          "grasp_exec_time (ms)",
          "grasp_exec_time (ms)",
          "grasp_exec_time (ms)",
          "grasp_exec_time (ms)",
          "grasp_exec_time (ms)",
          "grasp_exec_time (ms)",
          "grasp_exec_time (ms)",
          "grasp_exec_time (ms)",
          "grasp_exec_time (ms)",
          "grasp_exec_time (ms)",
          "grasp_exec_time (ms)",
          "grasp_exec_time (ms)",
          "grasp_exec_time (ms)",
          "grasp_exec_time (ms)",
          "grasp_exec_time (ms)",
          "grasp_exec_time (ms)",
          "grasp_exec_time (ms)",
          "grasp_exec_time (ms)",
          "grasp_exec_time (ms)",
          "grasp_exec_time (ms)",
          "grasp_exec_time (ms)",
          "grasp_exec_time (ms)",
          "grasp_exec_time (ms)",
          "grasp_exec_time (ms)",
          "grasp_exec_time (ms)",
          "grasp_exec_time (ms)",
          "grasp_exec_time (ms)",
          "grasp_exec_time (ms)",
          "grasp_exec_time (ms)",
          "grasp_exec_time (ms)",
          "grasp_exec_time (ms)",
          "grasp_exec_time (ms)",
          "grasp_exec_time (ms)",
          "grasp_exec_time (ms)",
          "grasp_exec_time (ms)",
          "grasp_exec_time (ms)",
          "grasp_exec_time (ms)",
          "grasp_exec_time (ms)",
          "grasp_exec_time (ms)",
          "grasp_exec_time (ms)",
          "grasp_exec_time (ms)",
          "grasp_exec_time (ms)",
          "grasp_exec_time (ms)",
          "grasp_exec_time (ms)",
          "grasp_exec_time (ms)",
          "grasp_exec_time (ms)",
          "grasp_exec_time (ms)",
          "grasp_exec_time (ms)",
          "grasp_exec_time (ms)",
          "grasp_exec_time (ms)",
          "grasp_exec_time (ms)",
          "grasp_exec_time (ms)",
          "grasp_exec_time (ms)",
          "grasp_exec_time (ms)",
          "grasp_exec_time (ms)",
          "grasp_exec_time (ms)",
          "grasp_exec_time (ms)",
          "grasp_exec_time (ms)",
          "grasp_exec_time (ms)",
          "grasp_exec_time (ms)",
          "grasp_exec_time (ms)",
          "grasp_exec_time (ms)",
          "grasp_exec_time (ms)",
          "grasp_exec_time (ms)",
          "grasp_exec_time (ms)",
          "grasp_exec_time (ms)",
          "grasp_exec_time (ms)",
          "grasp_exec_time (ms)",
          "grasp_exec_time (ms)",
          "grasp_exec_time (ms)",
          "grasp_exec_time (ms)",
          "grasp_exec_time (ms)",
          "grasp_exec_time (ms)",
          "grasp_exec_time (ms)",
          "grasp_exec_time (ms)",
          "grasp_exec_time (ms)",
          "grasp_exec_time (ms)",
          "grasp_exec_time (ms)",
          "grasp_exec_time (ms)",
          "grasp_exec_time (ms)",
          "grasp_exec_time (ms)",
          "grasp_exec_time (ms)",
          "grasp_exec_time (ms)",
          "grasp_exec_time (ms)",
          "grasp_exec_time (ms)",
          "grasp_exec_time (ms)",
          "grasp_exec_time (ms)",
          "grasp_exec_time (ms)",
          "grasp_exec_time (ms)",
          "grasp_exec_time (ms)",
          "grasp_exec_time (ms)",
          "grasp_exec_time (ms)",
          "grasp_exec_time (ms)",
          "grasp_exec_time (ms)",
          "grasp_exec_time (ms)",
          "grasp_exec_time (ms)",
          "grasp_exec_time (ms)",
          "grasp_exec_time (ms)",
          "grasp_exec_time (ms)",
          "grasp_exec_time (ms)",
          "grasp_exec_time (ms)",
          "grasp_exec_time (ms)"
         ],
         "x0": " ",
         "xaxis": "x",
         "y": [
          9.602,
          1.9909999999999999,
          1.9580000000000002,
          2.0380000000000003,
          2.001,
          1.973,
          2.016,
          2.011,
          1.805,
          1.838,
          2.1180000000000003,
          2.169,
          1.9869999999999999,
          2.237,
          1.9169999999999998,
          2.062,
          2.101,
          2.229,
          2.1319999999999997,
          2.082,
          1.4769999999999999,
          1.53,
          1.58,
          1.635,
          1.578,
          1.436,
          1.5530000000000002,
          1.495,
          1.5030000000000001,
          1.453,
          1.867,
          1.7790000000000001,
          1.785,
          1.818,
          1.78,
          1.686,
          1.795,
          1.847,
          1.72,
          1.84,
          1.3619999999999999,
          1.3980000000000001,
          1.271,
          1.354,
          1.239,
          1.3530000000000002,
          1.3869999999999998,
          1.406,
          1.3719999999999999,
          1.411,
          1.2830000000000001,
          1.287,
          1.3659999999999999,
          1.268,
          1.338,
          1.389,
          1.254,
          1.3419999999999999,
          1.3730000000000002,
          1.369,
          1.446,
          1.489,
          1.4580000000000002,
          1.505,
          1.4180000000000001,
          1.475,
          1.472,
          1.41,
          1.453,
          1.348,
          1.624,
          1.694,
          1.581,
          1.6969999999999998,
          1.5819999999999999,
          1.556,
          1.65,
          1.631,
          1.767,
          1.72,
          1.385,
          1.374,
          1.35,
          1.391,
          1.34,
          1.3659999999999999,
          1.392,
          1.402,
          1.381,
          1.3780000000000001,
          1.3730000000000002,
          1.495,
          1.358,
          1.337,
          1.399,
          1.379,
          1.426,
          1.484,
          1.3730000000000002,
          1.3630000000000002,
          1.492,
          1.702,
          1.594,
          1.607,
          1.587,
          1.621,
          1.597,
          1.581,
          1.5490000000000002,
          1.61,
          1.507,
          1.641,
          1.851,
          1.764,
          1.581,
          1.6569999999999998,
          1.7080000000000002,
          1.7530000000000001,
          1.5519999999999998,
          1.699,
          1.083,
          1.089,
          1.043,
          1.013,
          1.067,
          1.172,
          0.982,
          1.248,
          1.005,
          1.124,
          0.755,
          0.8059999999999999,
          0.7170000000000001,
          0.763,
          0.7759999999999999,
          0.723,
          0.711,
          0.883,
          0.867,
          0.705,
          0.884,
          0.9440000000000001,
          0.8370000000000001,
          0.9520000000000001,
          0.893,
          0.924,
          0.899,
          0.968,
          0.9179999999999999,
          0.935,
          0.7559999999999999,
          0.7170000000000001,
          0.647,
          0.644,
          0.722,
          0.731,
          0.73,
          0.645,
          0.7140000000000001,
          1.016,
          0.64,
          0.6409999999999999,
          0.647,
          0.638,
          0.636,
          0.66,
          0.633,
          0.799,
          0.643,
          0.64,
          0.718,
          0.731,
          0.7140000000000001,
          0.73,
          0.742,
          0.787,
          0.713,
          0.73,
          0.7170000000000001,
          0.7140000000000001,
          0.8490000000000001,
          0.838,
          0.887,
          0.84,
          0.8390000000000001,
          0.9159999999999999,
          0.905,
          0.8240000000000001,
          0.847,
          0.8490000000000001,
          0.6509999999999999,
          0.705,
          0.7120000000000001,
          0.708,
          0.7190000000000001,
          0.631,
          0.727,
          0.722,
          0.6459999999999999,
          0.78,
          0.76,
          0.7020000000000001,
          0.6940000000000001,
          0.735,
          0.752,
          0.684,
          0.7190000000000001,
          0.7390000000000001,
          0.7090000000000001,
          0.706,
          0.78,
          0.799,
          0.74,
          0.755,
          0.7809999999999999,
          0.753,
          0.7859999999999999,
          0.7879999999999999,
          0.774,
          0.78,
          86.56700000000001,
          74.306,
          74.12100000000001,
          75.26,
          74.717,
          74.943,
          76.444,
          72.632,
          73.237,
          72.748,
          74.561,
          77.52199999999999,
          78.001,
          78.888,
          74.215,
          75.52199999999999,
          75.46300000000001,
          80.1,
          75.553,
          74.583,
          70.666,
          71.514,
          71.71300000000001,
          71.41,
          71.814,
          71.437,
          71.729,
          71.017,
          70.556,
          72.344,
          72.946,
          72.17699999999999,
          73.21,
          72.625,
          70.818,
          71.741,
          75.42399999999999,
          74.862,
          71.806,
          73.794,
          70.727,
          70.31,
          69.333,
          70.032,
          69.805,
          71.074,
          72.029,
          70.595,
          70.24,
          71.54,
          70.904,
          75.914,
          70.17,
          69.934,
          70.8,
          70.908,
          70.796,
          69.979,
          70.488,
          70.233,
          70.32300000000001,
          70.377,
          71.617,
          70.439,
          69.767,
          70.406,
          70.407,
          71.348,
          70.225,
          70.671,
          72.488,
          73.687,
          73.11,
          73.13,
          71.37,
          71.421,
          71.587,
          71.933,
          73.417,
          75.111,
          69.847,
          72.351,
          70.632,
          71.342,
          70.414,
          70.122,
          77.038,
          71.197,
          70.50399999999999,
          72.108,
          70.032,
          71.34,
          70.166,
          70.013,
          70.928,
          72.236,
          71.811,
          70.34899999999999,
          70.6,
          71.76899999999999,
          70.039,
          71.566,
          74.979,
          70.93,
          72.34,
          71.604,
          70.76100000000001,
          71.683,
          75.09100000000001,
          71.93,
          72.421,
          73.582,
          72.523,
          73.969,
          73.567,
          72.652,
          72.532,
          73.667,
          70.36399999999999,
          73.77,
          30.703000000000003,
          30.825,
          29.538,
          29.944000000000003,
          30.113000000000003,
          31.113000000000003,
          30.726999999999997,
          31.75,
          30.666999999999998,
          30.803,
          29.585,
          28.454,
          28.613000000000003,
          29.189,
          29.713,
          29.011,
          29.171999999999997,
          29.448,
          30.206999999999997,
          28.643,
          29.479,
          30.002,
          30.263,
          30.136,
          29.653000000000002,
          29.869,
          29.514,
          29.861,
          30.088,
          30.47,
          29.487,
          29.123,
          28.840999999999998,
          29.12,
          29.761,
          29.017,
          29.226999999999997,
          29.053,
          29.086,
          31.805999999999997,
          30.504,
          29.141,
          29.267,
          28.64,
          28.708000000000002,
          29.081999999999997,
          28.66,
          33.368,
          28.813000000000002,
          27.943,
          29.029,
          29.461,
          29.699,
          29.245,
          29.587,
          29.689,
          29.076999999999998,
          29.104,
          29.366,
          29.784000000000002,
          29.51,
          29.778000000000002,
          29.804000000000002,
          29.401999999999997,
          29.858,
          29.642,
          29.61,
          29.55,
          29.763,
          29.421,
          28.873,
          31.697,
          29.281,
          28.561999999999998,
          29.039,
          29.081,
          29.506999999999998,
          29.363000000000003,
          28.750999999999998,
          29.272,
          29.039,
          30.813000000000002,
          28.893,
          29.164,
          28.987,
          29.409000000000002,
          29.057,
          29.038,
          29.406,
          29.08,
          29.353,
          29.21,
          29.371,
          28.680999999999997,
          29.055,
          31.855999999999998,
          30.098000000000003,
          28.785,
          28.811,
          29.65,
          111.204,
          111.616,
          109.94200000000001,
          112.321,
          109.73,
          109.96700000000001,
          112.838,
          109.491,
          107.18700000000001,
          110.226,
          117.575,
          117.087,
          118.809,
          117.56299999999999,
          132.132,
          117.742,
          117.905,
          118.26799999999999,
          118.839,
          117.73899999999999,
          84.31,
          84.81700000000001,
          83.51799999999999,
          82.50399999999999,
          83.20299999999999,
          84.38,
          85.01299999999999,
          83.926,
          83.829,
          86.133,
          100.09299999999999,
          101.242,
          101.93700000000001,
          103.08200000000001,
          101.59700000000001,
          100.75,
          102.419,
          101.155,
          103.031,
          100.48100000000001,
          75.413,
          74.676,
          74.458,
          74.758,
          74.811,
          75.637,
          74.472,
          75.132,
          75.873,
          74.312,
          74.74600000000001,
          74.775,
          73.96,
          72.762,
          73.155,
          74.188,
          72.937,
          72.846,
          74.069,
          73.252,
          82.934,
          80.84899999999999,
          80.55,
          82.381,
          81.735,
          81.08800000000001,
          80.203,
          81.476,
          80.99600000000001,
          80.74600000000001,
          95.16799999999999,
          92.75299999999999,
          92.935,
          92.382,
          94.594,
          93.272,
          92.069,
          102.344,
          93.523,
          92.78299999999999,
          77.217,
          75.821,
          76.539,
          76.85600000000001,
          76.09899999999999,
          76.942,
          77.38600000000001,
          75.809,
          76.293,
          76.098,
          77.758,
          77.66,
          79.952,
          77.695,
          78.477,
          78.265,
          77.797,
          79.164,
          78.09,
          77.919,
          86.376,
          87.226,
          87.427,
          88.262,
          88.755,
          87.09899999999999,
          88.52,
          88.305,
          87.76100000000001,
          89.27,
          91.427,
          96.705,
          104.5,
          95.652,
          92.079,
          95.45,
          96.35799999999999,
          95.765,
          89.876,
          95.074,
          65.149,
          62.332,
          62.00899999999999,
          61.946999999999996,
          63.497,
          63.955,
          63.193000000000005,
          62.277,
          62.643,
          61.742,
          43.317,
          42.75899999999999,
          43.848,
          44.045,
          43.57899999999999,
          44.04600000000001,
          42.585,
          44.248999999999995,
          42.977,
          42.693000000000005,
          56.195,
          52.137,
          53.474,
          53.221000000000004,
          55.169,
          53.071999999999996,
          54.722,
          53.438,
          52.592,
          51.056999999999995,
          37.583,
          38.888000000000005,
          36.584,
          38.165,
          37.999,
          37.995,
          38.919000000000004,
          37.652,
          39.723,
          37.419000000000004,
          37.102,
          37.154,
          36.211,
          36.26,
          37.523,
          36.743,
          38.172,
          36.755,
          36.607,
          36.445,
          41.357,
          40.505,
          40.797,
          41.044,
          41.321999999999996,
          41.648,
          41.45399999999999,
          40.79,
          41.856,
          40.678000000000004,
          48.211999999999996,
          48.089,
          49.086999999999996,
          48.806999999999995,
          48.468,
          47.788999999999994,
          49.042,
          47.633,
          47.794,
          48.44,
          38.388000000000005,
          39.827,
          39.655,
          39.838,
          39.61,
          38.578,
          39.766,
          39.315,
          39.135,
          38.615,
          39.010999999999996,
          41.355,
          40.167,
          40.65,
          41.152,
          39.921,
          40.521,
          40.336,
          40.181,
          39.688,
          45.201,
          45.08,
          44.412,
          44.828,
          44.854,
          45.88,
          45.852,
          45.336999999999996,
          45.532,
          45.857
         ],
         "y0": " ",
         "yaxis": "y"
        }
       ],
       "layout": {
        "boxmode": "group",
        "legend": {
         "tracegroupgap": 0
        },
        "margin": {
         "t": 60
        },
        "template": {
         "data": {
          "bar": [
           {
            "error_x": {
             "color": "#2a3f5f"
            },
            "error_y": {
             "color": "#2a3f5f"
            },
            "marker": {
             "line": {
              "color": "#E5ECF6",
              "width": 0.5
             }
            },
            "type": "bar"
           }
          ],
          "barpolar": [
           {
            "marker": {
             "line": {
              "color": "#E5ECF6",
              "width": 0.5
             }
            },
            "type": "barpolar"
           }
          ],
          "carpet": [
           {
            "aaxis": {
             "endlinecolor": "#2a3f5f",
             "gridcolor": "white",
             "linecolor": "white",
             "minorgridcolor": "white",
             "startlinecolor": "#2a3f5f"
            },
            "baxis": {
             "endlinecolor": "#2a3f5f",
             "gridcolor": "white",
             "linecolor": "white",
             "minorgridcolor": "white",
             "startlinecolor": "#2a3f5f"
            },
            "type": "carpet"
           }
          ],
          "choropleth": [
           {
            "colorbar": {
             "outlinewidth": 0,
             "ticks": ""
            },
            "type": "choropleth"
           }
          ],
          "contour": [
           {
            "colorbar": {
             "outlinewidth": 0,
             "ticks": ""
            },
            "colorscale": [
             [
              0,
              "#0d0887"
             ],
             [
              0.1111111111111111,
              "#46039f"
             ],
             [
              0.2222222222222222,
              "#7201a8"
             ],
             [
              0.3333333333333333,
              "#9c179e"
             ],
             [
              0.4444444444444444,
              "#bd3786"
             ],
             [
              0.5555555555555556,
              "#d8576b"
             ],
             [
              0.6666666666666666,
              "#ed7953"
             ],
             [
              0.7777777777777778,
              "#fb9f3a"
             ],
             [
              0.8888888888888888,
              "#fdca26"
             ],
             [
              1,
              "#f0f921"
             ]
            ],
            "type": "contour"
           }
          ],
          "contourcarpet": [
           {
            "colorbar": {
             "outlinewidth": 0,
             "ticks": ""
            },
            "type": "contourcarpet"
           }
          ],
          "heatmap": [
           {
            "colorbar": {
             "outlinewidth": 0,
             "ticks": ""
            },
            "colorscale": [
             [
              0,
              "#0d0887"
             ],
             [
              0.1111111111111111,
              "#46039f"
             ],
             [
              0.2222222222222222,
              "#7201a8"
             ],
             [
              0.3333333333333333,
              "#9c179e"
             ],
             [
              0.4444444444444444,
              "#bd3786"
             ],
             [
              0.5555555555555556,
              "#d8576b"
             ],
             [
              0.6666666666666666,
              "#ed7953"
             ],
             [
              0.7777777777777778,
              "#fb9f3a"
             ],
             [
              0.8888888888888888,
              "#fdca26"
             ],
             [
              1,
              "#f0f921"
             ]
            ],
            "type": "heatmap"
           }
          ],
          "heatmapgl": [
           {
            "colorbar": {
             "outlinewidth": 0,
             "ticks": ""
            },
            "colorscale": [
             [
              0,
              "#0d0887"
             ],
             [
              0.1111111111111111,
              "#46039f"
             ],
             [
              0.2222222222222222,
              "#7201a8"
             ],
             [
              0.3333333333333333,
              "#9c179e"
             ],
             [
              0.4444444444444444,
              "#bd3786"
             ],
             [
              0.5555555555555556,
              "#d8576b"
             ],
             [
              0.6666666666666666,
              "#ed7953"
             ],
             [
              0.7777777777777778,
              "#fb9f3a"
             ],
             [
              0.8888888888888888,
              "#fdca26"
             ],
             [
              1,
              "#f0f921"
             ]
            ],
            "type": "heatmapgl"
           }
          ],
          "histogram": [
           {
            "marker": {
             "colorbar": {
              "outlinewidth": 0,
              "ticks": ""
             }
            },
            "type": "histogram"
           }
          ],
          "histogram2d": [
           {
            "colorbar": {
             "outlinewidth": 0,
             "ticks": ""
            },
            "colorscale": [
             [
              0,
              "#0d0887"
             ],
             [
              0.1111111111111111,
              "#46039f"
             ],
             [
              0.2222222222222222,
              "#7201a8"
             ],
             [
              0.3333333333333333,
              "#9c179e"
             ],
             [
              0.4444444444444444,
              "#bd3786"
             ],
             [
              0.5555555555555556,
              "#d8576b"
             ],
             [
              0.6666666666666666,
              "#ed7953"
             ],
             [
              0.7777777777777778,
              "#fb9f3a"
             ],
             [
              0.8888888888888888,
              "#fdca26"
             ],
             [
              1,
              "#f0f921"
             ]
            ],
            "type": "histogram2d"
           }
          ],
          "histogram2dcontour": [
           {
            "colorbar": {
             "outlinewidth": 0,
             "ticks": ""
            },
            "colorscale": [
             [
              0,
              "#0d0887"
             ],
             [
              0.1111111111111111,
              "#46039f"
             ],
             [
              0.2222222222222222,
              "#7201a8"
             ],
             [
              0.3333333333333333,
              "#9c179e"
             ],
             [
              0.4444444444444444,
              "#bd3786"
             ],
             [
              0.5555555555555556,
              "#d8576b"
             ],
             [
              0.6666666666666666,
              "#ed7953"
             ],
             [
              0.7777777777777778,
              "#fb9f3a"
             ],
             [
              0.8888888888888888,
              "#fdca26"
             ],
             [
              1,
              "#f0f921"
             ]
            ],
            "type": "histogram2dcontour"
           }
          ],
          "mesh3d": [
           {
            "colorbar": {
             "outlinewidth": 0,
             "ticks": ""
            },
            "type": "mesh3d"
           }
          ],
          "parcoords": [
           {
            "line": {
             "colorbar": {
              "outlinewidth": 0,
              "ticks": ""
             }
            },
            "type": "parcoords"
           }
          ],
          "pie": [
           {
            "automargin": true,
            "type": "pie"
           }
          ],
          "scatter": [
           {
            "marker": {
             "colorbar": {
              "outlinewidth": 0,
              "ticks": ""
             }
            },
            "type": "scatter"
           }
          ],
          "scatter3d": [
           {
            "line": {
             "colorbar": {
              "outlinewidth": 0,
              "ticks": ""
             }
            },
            "marker": {
             "colorbar": {
              "outlinewidth": 0,
              "ticks": ""
             }
            },
            "type": "scatter3d"
           }
          ],
          "scattercarpet": [
           {
            "marker": {
             "colorbar": {
              "outlinewidth": 0,
              "ticks": ""
             }
            },
            "type": "scattercarpet"
           }
          ],
          "scattergeo": [
           {
            "marker": {
             "colorbar": {
              "outlinewidth": 0,
              "ticks": ""
             }
            },
            "type": "scattergeo"
           }
          ],
          "scattergl": [
           {
            "marker": {
             "colorbar": {
              "outlinewidth": 0,
              "ticks": ""
             }
            },
            "type": "scattergl"
           }
          ],
          "scattermapbox": [
           {
            "marker": {
             "colorbar": {
              "outlinewidth": 0,
              "ticks": ""
             }
            },
            "type": "scattermapbox"
           }
          ],
          "scatterpolar": [
           {
            "marker": {
             "colorbar": {
              "outlinewidth": 0,
              "ticks": ""
             }
            },
            "type": "scatterpolar"
           }
          ],
          "scatterpolargl": [
           {
            "marker": {
             "colorbar": {
              "outlinewidth": 0,
              "ticks": ""
             }
            },
            "type": "scatterpolargl"
           }
          ],
          "scatterternary": [
           {
            "marker": {
             "colorbar": {
              "outlinewidth": 0,
              "ticks": ""
             }
            },
            "type": "scatterternary"
           }
          ],
          "surface": [
           {
            "colorbar": {
             "outlinewidth": 0,
             "ticks": ""
            },
            "colorscale": [
             [
              0,
              "#0d0887"
             ],
             [
              0.1111111111111111,
              "#46039f"
             ],
             [
              0.2222222222222222,
              "#7201a8"
             ],
             [
              0.3333333333333333,
              "#9c179e"
             ],
             [
              0.4444444444444444,
              "#bd3786"
             ],
             [
              0.5555555555555556,
              "#d8576b"
             ],
             [
              0.6666666666666666,
              "#ed7953"
             ],
             [
              0.7777777777777778,
              "#fb9f3a"
             ],
             [
              0.8888888888888888,
              "#fdca26"
             ],
             [
              1,
              "#f0f921"
             ]
            ],
            "type": "surface"
           }
          ],
          "table": [
           {
            "cells": {
             "fill": {
              "color": "#EBF0F8"
             },
             "line": {
              "color": "white"
             }
            },
            "header": {
             "fill": {
              "color": "#C8D4E3"
             },
             "line": {
              "color": "white"
             }
            },
            "type": "table"
           }
          ]
         },
         "layout": {
          "annotationdefaults": {
           "arrowcolor": "#2a3f5f",
           "arrowhead": 0,
           "arrowwidth": 1
          },
          "coloraxis": {
           "colorbar": {
            "outlinewidth": 0,
            "ticks": ""
           }
          },
          "colorscale": {
           "diverging": [
            [
             0,
             "#8e0152"
            ],
            [
             0.1,
             "#c51b7d"
            ],
            [
             0.2,
             "#de77ae"
            ],
            [
             0.3,
             "#f1b6da"
            ],
            [
             0.4,
             "#fde0ef"
            ],
            [
             0.5,
             "#f7f7f7"
            ],
            [
             0.6,
             "#e6f5d0"
            ],
            [
             0.7,
             "#b8e186"
            ],
            [
             0.8,
             "#7fbc41"
            ],
            [
             0.9,
             "#4d9221"
            ],
            [
             1,
             "#276419"
            ]
           ],
           "sequential": [
            [
             0,
             "#0d0887"
            ],
            [
             0.1111111111111111,
             "#46039f"
            ],
            [
             0.2222222222222222,
             "#7201a8"
            ],
            [
             0.3333333333333333,
             "#9c179e"
            ],
            [
             0.4444444444444444,
             "#bd3786"
            ],
            [
             0.5555555555555556,
             "#d8576b"
            ],
            [
             0.6666666666666666,
             "#ed7953"
            ],
            [
             0.7777777777777778,
             "#fb9f3a"
            ],
            [
             0.8888888888888888,
             "#fdca26"
            ],
            [
             1,
             "#f0f921"
            ]
           ],
           "sequentialminus": [
            [
             0,
             "#0d0887"
            ],
            [
             0.1111111111111111,
             "#46039f"
            ],
            [
             0.2222222222222222,
             "#7201a8"
            ],
            [
             0.3333333333333333,
             "#9c179e"
            ],
            [
             0.4444444444444444,
             "#bd3786"
            ],
            [
             0.5555555555555556,
             "#d8576b"
            ],
            [
             0.6666666666666666,
             "#ed7953"
            ],
            [
             0.7777777777777778,
             "#fb9f3a"
            ],
            [
             0.8888888888888888,
             "#fdca26"
            ],
            [
             1,
             "#f0f921"
            ]
           ]
          },
          "colorway": [
           "#636efa",
           "#EF553B",
           "#00cc96",
           "#ab63fa",
           "#FFA15A",
           "#19d3f3",
           "#FF6692",
           "#B6E880",
           "#FF97FF",
           "#FECB52"
          ],
          "font": {
           "color": "#2a3f5f"
          },
          "geo": {
           "bgcolor": "white",
           "lakecolor": "white",
           "landcolor": "#E5ECF6",
           "showlakes": true,
           "showland": true,
           "subunitcolor": "white"
          },
          "hoverlabel": {
           "align": "left"
          },
          "hovermode": "closest",
          "mapbox": {
           "style": "light"
          },
          "paper_bgcolor": "white",
          "plot_bgcolor": "#E5ECF6",
          "polar": {
           "angularaxis": {
            "gridcolor": "white",
            "linecolor": "white",
            "ticks": ""
           },
           "bgcolor": "#E5ECF6",
           "radialaxis": {
            "gridcolor": "white",
            "linecolor": "white",
            "ticks": ""
           }
          },
          "scene": {
           "xaxis": {
            "backgroundcolor": "#E5ECF6",
            "gridcolor": "white",
            "gridwidth": 2,
            "linecolor": "white",
            "showbackground": true,
            "ticks": "",
            "zerolinecolor": "white"
           },
           "yaxis": {
            "backgroundcolor": "#E5ECF6",
            "gridcolor": "white",
            "gridwidth": 2,
            "linecolor": "white",
            "showbackground": true,
            "ticks": "",
            "zerolinecolor": "white"
           },
           "zaxis": {
            "backgroundcolor": "#E5ECF6",
            "gridcolor": "white",
            "gridwidth": 2,
            "linecolor": "white",
            "showbackground": true,
            "ticks": "",
            "zerolinecolor": "white"
           }
          },
          "shapedefaults": {
           "line": {
            "color": "#2a3f5f"
           }
          },
          "ternary": {
           "aaxis": {
            "gridcolor": "white",
            "linecolor": "white",
            "ticks": ""
           },
           "baxis": {
            "gridcolor": "white",
            "linecolor": "white",
            "ticks": ""
           },
           "bgcolor": "#E5ECF6",
           "caxis": {
            "gridcolor": "white",
            "linecolor": "white",
            "ticks": ""
           }
          },
          "title": {
           "x": 0.05
          },
          "xaxis": {
           "automargin": true,
           "gridcolor": "white",
           "linecolor": "white",
           "ticks": "",
           "title": {
            "standoff": 15
           },
           "zerolinecolor": "white",
           "zerolinewidth": 2
          },
          "yaxis": {
           "automargin": true,
           "gridcolor": "white",
           "linecolor": "white",
           "ticks": "",
           "title": {
            "standoff": 15
           },
           "zerolinecolor": "white",
           "zerolinewidth": 2
          }
         }
        },
        "xaxis": {
         "anchor": "y",
         "domain": [
          0,
          1
         ],
         "title": {
          "text": "variable"
         }
        },
        "yaxis": {
         "anchor": "x",
         "domain": [
          0,
          1
         ],
         "title": {
          "text": "value"
         }
        }
       }
      },
      "text/html": [
       "<div>\n",
       "        \n",
       "        \n",
       "            <div id=\"ee6cad3e-58a5-43ea-b399-d0b26ecbf1e5\" class=\"plotly-graph-div\" style=\"height:525px; width:100%;\"></div>\n",
       "            <script type=\"text/javascript\">\n",
       "                require([\"plotly\"], function(Plotly) {\n",
       "                    window.PLOTLYENV=window.PLOTLYENV || {};\n",
       "                    \n",
       "                if (document.getElementById(\"ee6cad3e-58a5-43ea-b399-d0b26ecbf1e5\")) {\n",
       "                    Plotly.newPlot(\n",
       "                        'ee6cad3e-58a5-43ea-b399-d0b26ecbf1e5',\n",
       "                        [{\"alignmentgroup\": \"True\", \"hovertemplate\": \"variable=%{x}<br>value=%{y}<extra></extra>\", \"legendgroup\": \"\", \"marker\": {\"color\": \"#636efa\"}, \"name\": \"\", \"notched\": false, \"offsetgroup\": \"\", \"orientation\": \"v\", \"showlegend\": false, \"type\": \"box\", \"x\": [\"constructive_exec_time (ms)\", \"constructive_exec_time (ms)\", \"constructive_exec_time (ms)\", \"constructive_exec_time (ms)\", \"constructive_exec_time (ms)\", \"constructive_exec_time (ms)\", \"constructive_exec_time (ms)\", \"constructive_exec_time (ms)\", \"constructive_exec_time (ms)\", \"constructive_exec_time (ms)\", \"constructive_exec_time (ms)\", \"constructive_exec_time (ms)\", \"constructive_exec_time (ms)\", \"constructive_exec_time (ms)\", \"constructive_exec_time (ms)\", \"constructive_exec_time (ms)\", \"constructive_exec_time (ms)\", \"constructive_exec_time (ms)\", \"constructive_exec_time (ms)\", \"constructive_exec_time (ms)\", \"constructive_exec_time (ms)\", \"constructive_exec_time (ms)\", \"constructive_exec_time (ms)\", \"constructive_exec_time (ms)\", \"constructive_exec_time (ms)\", \"constructive_exec_time (ms)\", \"constructive_exec_time (ms)\", \"constructive_exec_time (ms)\", \"constructive_exec_time (ms)\", \"constructive_exec_time (ms)\", \"constructive_exec_time (ms)\", \"constructive_exec_time (ms)\", \"constructive_exec_time (ms)\", \"constructive_exec_time (ms)\", \"constructive_exec_time (ms)\", \"constructive_exec_time (ms)\", \"constructive_exec_time (ms)\", \"constructive_exec_time (ms)\", \"constructive_exec_time (ms)\", \"constructive_exec_time (ms)\", \"constructive_exec_time (ms)\", \"constructive_exec_time (ms)\", \"constructive_exec_time (ms)\", \"constructive_exec_time (ms)\", \"constructive_exec_time (ms)\", \"constructive_exec_time (ms)\", \"constructive_exec_time (ms)\", \"constructive_exec_time (ms)\", \"constructive_exec_time (ms)\", \"constructive_exec_time (ms)\", \"constructive_exec_time (ms)\", \"constructive_exec_time (ms)\", \"constructive_exec_time (ms)\", \"constructive_exec_time (ms)\", \"constructive_exec_time (ms)\", \"constructive_exec_time (ms)\", \"constructive_exec_time (ms)\", \"constructive_exec_time (ms)\", \"constructive_exec_time (ms)\", \"constructive_exec_time (ms)\", \"constructive_exec_time (ms)\", \"constructive_exec_time (ms)\", \"constructive_exec_time (ms)\", \"constructive_exec_time (ms)\", \"constructive_exec_time (ms)\", \"constructive_exec_time (ms)\", \"constructive_exec_time (ms)\", \"constructive_exec_time (ms)\", \"constructive_exec_time (ms)\", \"constructive_exec_time (ms)\", \"constructive_exec_time (ms)\", \"constructive_exec_time (ms)\", \"constructive_exec_time (ms)\", \"constructive_exec_time (ms)\", \"constructive_exec_time (ms)\", \"constructive_exec_time (ms)\", \"constructive_exec_time (ms)\", \"constructive_exec_time (ms)\", \"constructive_exec_time (ms)\", \"constructive_exec_time (ms)\", \"constructive_exec_time (ms)\", \"constructive_exec_time (ms)\", \"constructive_exec_time (ms)\", \"constructive_exec_time (ms)\", \"constructive_exec_time (ms)\", \"constructive_exec_time (ms)\", \"constructive_exec_time (ms)\", \"constructive_exec_time (ms)\", \"constructive_exec_time (ms)\", \"constructive_exec_time (ms)\", \"constructive_exec_time (ms)\", \"constructive_exec_time (ms)\", \"constructive_exec_time (ms)\", \"constructive_exec_time (ms)\", \"constructive_exec_time (ms)\", \"constructive_exec_time (ms)\", \"constructive_exec_time (ms)\", \"constructive_exec_time (ms)\", \"constructive_exec_time (ms)\", \"constructive_exec_time (ms)\", \"constructive_exec_time (ms)\", \"constructive_exec_time (ms)\", \"constructive_exec_time (ms)\", \"constructive_exec_time (ms)\", \"constructive_exec_time (ms)\", \"constructive_exec_time (ms)\", \"constructive_exec_time (ms)\", \"constructive_exec_time (ms)\", \"constructive_exec_time (ms)\", \"constructive_exec_time (ms)\", \"constructive_exec_time (ms)\", \"constructive_exec_time (ms)\", \"constructive_exec_time (ms)\", \"constructive_exec_time (ms)\", \"constructive_exec_time (ms)\", \"constructive_exec_time (ms)\", \"constructive_exec_time (ms)\", \"constructive_exec_time (ms)\", \"constructive_exec_time (ms)\", \"constructive_exec_time (ms)\", \"constructive_exec_time (ms)\", \"constructive_exec_time (ms)\", \"constructive_exec_time (ms)\", \"constructive_exec_time (ms)\", \"constructive_exec_time (ms)\", \"constructive_exec_time (ms)\", \"constructive_exec_time (ms)\", \"constructive_exec_time (ms)\", \"constructive_exec_time (ms)\", \"constructive_exec_time (ms)\", \"constructive_exec_time (ms)\", \"constructive_exec_time (ms)\", \"constructive_exec_time (ms)\", \"constructive_exec_time (ms)\", \"constructive_exec_time (ms)\", \"constructive_exec_time (ms)\", \"constructive_exec_time (ms)\", \"constructive_exec_time (ms)\", \"constructive_exec_time (ms)\", \"constructive_exec_time (ms)\", \"constructive_exec_time (ms)\", \"constructive_exec_time (ms)\", \"constructive_exec_time (ms)\", \"constructive_exec_time (ms)\", \"constructive_exec_time (ms)\", \"constructive_exec_time (ms)\", \"constructive_exec_time (ms)\", \"constructive_exec_time (ms)\", \"constructive_exec_time (ms)\", \"constructive_exec_time (ms)\", \"constructive_exec_time (ms)\", \"constructive_exec_time (ms)\", \"constructive_exec_time (ms)\", \"constructive_exec_time (ms)\", \"constructive_exec_time (ms)\", \"constructive_exec_time (ms)\", \"constructive_exec_time (ms)\", \"constructive_exec_time (ms)\", \"constructive_exec_time (ms)\", \"constructive_exec_time (ms)\", \"constructive_exec_time (ms)\", \"constructive_exec_time (ms)\", \"constructive_exec_time (ms)\", \"constructive_exec_time (ms)\", \"constructive_exec_time (ms)\", \"constructive_exec_time (ms)\", \"constructive_exec_time (ms)\", \"constructive_exec_time (ms)\", \"constructive_exec_time (ms)\", \"constructive_exec_time (ms)\", \"constructive_exec_time (ms)\", \"constructive_exec_time (ms)\", \"constructive_exec_time (ms)\", \"constructive_exec_time (ms)\", \"constructive_exec_time (ms)\", \"constructive_exec_time (ms)\", \"constructive_exec_time (ms)\", \"constructive_exec_time (ms)\", \"constructive_exec_time (ms)\", \"constructive_exec_time (ms)\", \"constructive_exec_time (ms)\", \"constructive_exec_time (ms)\", \"constructive_exec_time (ms)\", \"constructive_exec_time (ms)\", \"constructive_exec_time (ms)\", \"constructive_exec_time (ms)\", \"constructive_exec_time (ms)\", \"constructive_exec_time (ms)\", \"constructive_exec_time (ms)\", \"constructive_exec_time (ms)\", \"constructive_exec_time (ms)\", \"constructive_exec_time (ms)\", \"constructive_exec_time (ms)\", \"constructive_exec_time (ms)\", \"constructive_exec_time (ms)\", \"constructive_exec_time (ms)\", \"constructive_exec_time (ms)\", \"constructive_exec_time (ms)\", \"constructive_exec_time (ms)\", \"constructive_exec_time (ms)\", \"constructive_exec_time (ms)\", \"constructive_exec_time (ms)\", \"constructive_exec_time (ms)\", \"constructive_exec_time (ms)\", \"constructive_exec_time (ms)\", \"constructive_exec_time (ms)\", \"constructive_exec_time (ms)\", \"constructive_exec_time (ms)\", \"constructive_exec_time (ms)\", \"constructive_exec_time (ms)\", \"constructive_exec_time (ms)\", \"constructive_exec_time (ms)\", \"constructive_exec_time (ms)\", \"constructive_exec_time (ms)\", \"constructive_exec_time (ms)\", \"constructive_exec_time (ms)\", \"constructive_exec_time (ms)\", \"constructive_exec_time (ms)\", \"constructive_exec_time (ms)\", \"constructive_exec_time (ms)\", \"tabu_exec_time (ms)\", \"tabu_exec_time (ms)\", \"tabu_exec_time (ms)\", \"tabu_exec_time (ms)\", \"tabu_exec_time (ms)\", \"tabu_exec_time (ms)\", \"tabu_exec_time (ms)\", \"tabu_exec_time (ms)\", \"tabu_exec_time (ms)\", \"tabu_exec_time (ms)\", \"tabu_exec_time (ms)\", \"tabu_exec_time (ms)\", \"tabu_exec_time (ms)\", \"tabu_exec_time (ms)\", \"tabu_exec_time (ms)\", \"tabu_exec_time (ms)\", \"tabu_exec_time (ms)\", \"tabu_exec_time (ms)\", \"tabu_exec_time (ms)\", \"tabu_exec_time (ms)\", \"tabu_exec_time (ms)\", \"tabu_exec_time (ms)\", \"tabu_exec_time (ms)\", \"tabu_exec_time (ms)\", \"tabu_exec_time (ms)\", \"tabu_exec_time (ms)\", \"tabu_exec_time (ms)\", \"tabu_exec_time (ms)\", \"tabu_exec_time (ms)\", \"tabu_exec_time (ms)\", \"tabu_exec_time (ms)\", \"tabu_exec_time (ms)\", \"tabu_exec_time (ms)\", \"tabu_exec_time (ms)\", \"tabu_exec_time (ms)\", \"tabu_exec_time (ms)\", \"tabu_exec_time (ms)\", \"tabu_exec_time (ms)\", \"tabu_exec_time (ms)\", \"tabu_exec_time (ms)\", \"tabu_exec_time (ms)\", \"tabu_exec_time (ms)\", \"tabu_exec_time (ms)\", \"tabu_exec_time (ms)\", \"tabu_exec_time (ms)\", \"tabu_exec_time (ms)\", \"tabu_exec_time (ms)\", \"tabu_exec_time (ms)\", \"tabu_exec_time (ms)\", \"tabu_exec_time (ms)\", \"tabu_exec_time (ms)\", \"tabu_exec_time (ms)\", \"tabu_exec_time (ms)\", \"tabu_exec_time (ms)\", \"tabu_exec_time (ms)\", \"tabu_exec_time (ms)\", \"tabu_exec_time (ms)\", \"tabu_exec_time (ms)\", \"tabu_exec_time (ms)\", \"tabu_exec_time (ms)\", \"tabu_exec_time (ms)\", \"tabu_exec_time (ms)\", \"tabu_exec_time (ms)\", \"tabu_exec_time (ms)\", \"tabu_exec_time (ms)\", \"tabu_exec_time (ms)\", \"tabu_exec_time (ms)\", \"tabu_exec_time (ms)\", \"tabu_exec_time (ms)\", \"tabu_exec_time (ms)\", \"tabu_exec_time (ms)\", \"tabu_exec_time (ms)\", \"tabu_exec_time (ms)\", \"tabu_exec_time (ms)\", \"tabu_exec_time (ms)\", \"tabu_exec_time (ms)\", \"tabu_exec_time (ms)\", \"tabu_exec_time (ms)\", \"tabu_exec_time (ms)\", \"tabu_exec_time (ms)\", \"tabu_exec_time (ms)\", \"tabu_exec_time (ms)\", \"tabu_exec_time (ms)\", \"tabu_exec_time (ms)\", \"tabu_exec_time (ms)\", \"tabu_exec_time (ms)\", \"tabu_exec_time (ms)\", \"tabu_exec_time (ms)\", \"tabu_exec_time (ms)\", \"tabu_exec_time (ms)\", \"tabu_exec_time (ms)\", \"tabu_exec_time (ms)\", \"tabu_exec_time (ms)\", \"tabu_exec_time (ms)\", \"tabu_exec_time (ms)\", \"tabu_exec_time (ms)\", \"tabu_exec_time (ms)\", \"tabu_exec_time (ms)\", \"tabu_exec_time (ms)\", \"tabu_exec_time (ms)\", \"tabu_exec_time (ms)\", \"tabu_exec_time (ms)\", \"tabu_exec_time (ms)\", \"tabu_exec_time (ms)\", \"tabu_exec_time (ms)\", \"tabu_exec_time (ms)\", \"tabu_exec_time (ms)\", \"tabu_exec_time (ms)\", \"tabu_exec_time (ms)\", \"tabu_exec_time (ms)\", \"tabu_exec_time (ms)\", \"tabu_exec_time (ms)\", \"tabu_exec_time (ms)\", \"tabu_exec_time (ms)\", \"tabu_exec_time (ms)\", \"tabu_exec_time (ms)\", \"tabu_exec_time (ms)\", \"tabu_exec_time (ms)\", \"tabu_exec_time (ms)\", \"tabu_exec_time (ms)\", \"tabu_exec_time (ms)\", \"tabu_exec_time (ms)\", \"tabu_exec_time (ms)\", \"tabu_exec_time (ms)\", \"tabu_exec_time (ms)\", \"tabu_exec_time (ms)\", \"tabu_exec_time (ms)\", \"tabu_exec_time (ms)\", \"tabu_exec_time (ms)\", \"tabu_exec_time (ms)\", \"tabu_exec_time (ms)\", \"tabu_exec_time (ms)\", \"tabu_exec_time (ms)\", \"tabu_exec_time (ms)\", \"tabu_exec_time (ms)\", \"tabu_exec_time (ms)\", \"tabu_exec_time (ms)\", \"tabu_exec_time (ms)\", \"tabu_exec_time (ms)\", \"tabu_exec_time (ms)\", \"tabu_exec_time (ms)\", \"tabu_exec_time (ms)\", \"tabu_exec_time (ms)\", \"tabu_exec_time (ms)\", \"tabu_exec_time (ms)\", \"tabu_exec_time (ms)\", \"tabu_exec_time (ms)\", \"tabu_exec_time (ms)\", \"tabu_exec_time (ms)\", \"tabu_exec_time (ms)\", \"tabu_exec_time (ms)\", \"tabu_exec_time (ms)\", \"tabu_exec_time (ms)\", \"tabu_exec_time (ms)\", \"tabu_exec_time (ms)\", \"tabu_exec_time (ms)\", \"tabu_exec_time (ms)\", \"tabu_exec_time (ms)\", \"tabu_exec_time (ms)\", \"tabu_exec_time (ms)\", \"tabu_exec_time (ms)\", \"tabu_exec_time (ms)\", \"tabu_exec_time (ms)\", \"tabu_exec_time (ms)\", \"tabu_exec_time (ms)\", \"tabu_exec_time (ms)\", \"tabu_exec_time (ms)\", \"tabu_exec_time (ms)\", \"tabu_exec_time (ms)\", \"tabu_exec_time (ms)\", \"tabu_exec_time (ms)\", \"tabu_exec_time (ms)\", \"tabu_exec_time (ms)\", \"tabu_exec_time (ms)\", \"tabu_exec_time (ms)\", \"tabu_exec_time (ms)\", \"tabu_exec_time (ms)\", \"tabu_exec_time (ms)\", \"tabu_exec_time (ms)\", \"tabu_exec_time (ms)\", \"tabu_exec_time (ms)\", \"tabu_exec_time (ms)\", \"tabu_exec_time (ms)\", \"tabu_exec_time (ms)\", \"tabu_exec_time (ms)\", \"tabu_exec_time (ms)\", \"tabu_exec_time (ms)\", \"tabu_exec_time (ms)\", \"tabu_exec_time (ms)\", \"tabu_exec_time (ms)\", \"tabu_exec_time (ms)\", \"tabu_exec_time (ms)\", \"tabu_exec_time (ms)\", \"tabu_exec_time (ms)\", \"tabu_exec_time (ms)\", \"tabu_exec_time (ms)\", \"tabu_exec_time (ms)\", \"tabu_exec_time (ms)\", \"tabu_exec_time (ms)\", \"tabu_exec_time (ms)\", \"tabu_exec_time (ms)\", \"tabu_exec_time (ms)\", \"tabu_exec_time (ms)\", \"tabu_exec_time (ms)\", \"tabu_exec_time (ms)\", \"tabu_exec_time (ms)\", \"tabu_exec_time (ms)\", \"tabu_exec_time (ms)\", \"tabu_exec_time (ms)\", \"tabu_exec_time (ms)\", \"tabu_exec_time (ms)\", \"tabu_exec_time (ms)\", \"tabu_exec_time (ms)\", \"tabu_exec_time (ms)\", \"tabu_exec_time (ms)\", \"tabu_exec_time (ms)\", \"tabu_exec_time (ms)\", \"tabu_exec_time (ms)\", \"tabu_exec_time (ms)\", \"tabu_exec_time (ms)\", \"grasp_exec_time (ms)\", \"grasp_exec_time (ms)\", \"grasp_exec_time (ms)\", \"grasp_exec_time (ms)\", \"grasp_exec_time (ms)\", \"grasp_exec_time (ms)\", \"grasp_exec_time (ms)\", \"grasp_exec_time (ms)\", \"grasp_exec_time (ms)\", \"grasp_exec_time (ms)\", \"grasp_exec_time (ms)\", \"grasp_exec_time (ms)\", \"grasp_exec_time (ms)\", \"grasp_exec_time (ms)\", \"grasp_exec_time (ms)\", \"grasp_exec_time (ms)\", \"grasp_exec_time (ms)\", \"grasp_exec_time (ms)\", \"grasp_exec_time (ms)\", \"grasp_exec_time (ms)\", \"grasp_exec_time (ms)\", \"grasp_exec_time (ms)\", \"grasp_exec_time (ms)\", \"grasp_exec_time (ms)\", \"grasp_exec_time (ms)\", \"grasp_exec_time (ms)\", \"grasp_exec_time (ms)\", \"grasp_exec_time (ms)\", \"grasp_exec_time (ms)\", \"grasp_exec_time (ms)\", \"grasp_exec_time (ms)\", \"grasp_exec_time (ms)\", \"grasp_exec_time (ms)\", \"grasp_exec_time (ms)\", \"grasp_exec_time (ms)\", \"grasp_exec_time (ms)\", \"grasp_exec_time (ms)\", \"grasp_exec_time (ms)\", \"grasp_exec_time (ms)\", \"grasp_exec_time (ms)\", \"grasp_exec_time (ms)\", \"grasp_exec_time (ms)\", \"grasp_exec_time (ms)\", \"grasp_exec_time (ms)\", \"grasp_exec_time (ms)\", \"grasp_exec_time (ms)\", \"grasp_exec_time (ms)\", \"grasp_exec_time (ms)\", \"grasp_exec_time (ms)\", \"grasp_exec_time (ms)\", \"grasp_exec_time (ms)\", \"grasp_exec_time (ms)\", \"grasp_exec_time (ms)\", \"grasp_exec_time (ms)\", \"grasp_exec_time (ms)\", \"grasp_exec_time (ms)\", \"grasp_exec_time (ms)\", \"grasp_exec_time (ms)\", \"grasp_exec_time (ms)\", \"grasp_exec_time (ms)\", \"grasp_exec_time (ms)\", \"grasp_exec_time (ms)\", \"grasp_exec_time (ms)\", \"grasp_exec_time (ms)\", \"grasp_exec_time (ms)\", \"grasp_exec_time (ms)\", \"grasp_exec_time (ms)\", \"grasp_exec_time (ms)\", \"grasp_exec_time (ms)\", \"grasp_exec_time (ms)\", \"grasp_exec_time (ms)\", \"grasp_exec_time (ms)\", \"grasp_exec_time (ms)\", \"grasp_exec_time (ms)\", \"grasp_exec_time (ms)\", \"grasp_exec_time (ms)\", \"grasp_exec_time (ms)\", \"grasp_exec_time (ms)\", \"grasp_exec_time (ms)\", \"grasp_exec_time (ms)\", \"grasp_exec_time (ms)\", \"grasp_exec_time (ms)\", \"grasp_exec_time (ms)\", \"grasp_exec_time (ms)\", \"grasp_exec_time (ms)\", \"grasp_exec_time (ms)\", \"grasp_exec_time (ms)\", \"grasp_exec_time (ms)\", \"grasp_exec_time (ms)\", \"grasp_exec_time (ms)\", \"grasp_exec_time (ms)\", \"grasp_exec_time (ms)\", \"grasp_exec_time (ms)\", \"grasp_exec_time (ms)\", \"grasp_exec_time (ms)\", \"grasp_exec_time (ms)\", \"grasp_exec_time (ms)\", \"grasp_exec_time (ms)\", \"grasp_exec_time (ms)\", \"grasp_exec_time (ms)\", \"grasp_exec_time (ms)\", \"grasp_exec_time (ms)\", \"grasp_exec_time (ms)\", \"grasp_exec_time (ms)\", \"grasp_exec_time (ms)\", \"grasp_exec_time (ms)\", \"grasp_exec_time (ms)\", \"grasp_exec_time (ms)\", \"grasp_exec_time (ms)\", \"grasp_exec_time (ms)\", \"grasp_exec_time (ms)\", \"grasp_exec_time (ms)\", \"grasp_exec_time (ms)\", \"grasp_exec_time (ms)\", \"grasp_exec_time (ms)\", \"grasp_exec_time (ms)\", \"grasp_exec_time (ms)\", \"grasp_exec_time (ms)\", \"grasp_exec_time (ms)\", \"grasp_exec_time (ms)\", \"grasp_exec_time (ms)\", \"grasp_exec_time (ms)\", \"grasp_exec_time (ms)\", \"grasp_exec_time (ms)\", \"grasp_exec_time (ms)\", \"grasp_exec_time (ms)\", \"grasp_exec_time (ms)\", \"grasp_exec_time (ms)\", \"grasp_exec_time (ms)\", \"grasp_exec_time (ms)\", \"grasp_exec_time (ms)\", \"grasp_exec_time (ms)\", \"grasp_exec_time (ms)\", \"grasp_exec_time (ms)\", \"grasp_exec_time (ms)\", \"grasp_exec_time (ms)\", \"grasp_exec_time (ms)\", \"grasp_exec_time (ms)\", \"grasp_exec_time (ms)\", \"grasp_exec_time (ms)\", \"grasp_exec_time (ms)\", \"grasp_exec_time (ms)\", \"grasp_exec_time (ms)\", \"grasp_exec_time (ms)\", \"grasp_exec_time (ms)\", \"grasp_exec_time (ms)\", \"grasp_exec_time (ms)\", \"grasp_exec_time (ms)\", \"grasp_exec_time (ms)\", \"grasp_exec_time (ms)\", \"grasp_exec_time (ms)\", \"grasp_exec_time (ms)\", \"grasp_exec_time (ms)\", \"grasp_exec_time (ms)\", \"grasp_exec_time (ms)\", \"grasp_exec_time (ms)\", \"grasp_exec_time (ms)\", \"grasp_exec_time (ms)\", \"grasp_exec_time (ms)\", \"grasp_exec_time (ms)\", \"grasp_exec_time (ms)\", \"grasp_exec_time (ms)\", \"grasp_exec_time (ms)\", \"grasp_exec_time (ms)\", \"grasp_exec_time (ms)\", \"grasp_exec_time (ms)\", \"grasp_exec_time (ms)\", \"grasp_exec_time (ms)\", \"grasp_exec_time (ms)\", \"grasp_exec_time (ms)\", \"grasp_exec_time (ms)\", \"grasp_exec_time (ms)\", \"grasp_exec_time (ms)\", \"grasp_exec_time (ms)\", \"grasp_exec_time (ms)\", \"grasp_exec_time (ms)\", \"grasp_exec_time (ms)\", \"grasp_exec_time (ms)\", \"grasp_exec_time (ms)\", \"grasp_exec_time (ms)\", \"grasp_exec_time (ms)\", \"grasp_exec_time (ms)\", \"grasp_exec_time (ms)\", \"grasp_exec_time (ms)\", \"grasp_exec_time (ms)\", \"grasp_exec_time (ms)\", \"grasp_exec_time (ms)\", \"grasp_exec_time (ms)\", \"grasp_exec_time (ms)\", \"grasp_exec_time (ms)\", \"grasp_exec_time (ms)\", \"grasp_exec_time (ms)\", \"grasp_exec_time (ms)\", \"grasp_exec_time (ms)\", \"grasp_exec_time (ms)\", \"grasp_exec_time (ms)\", \"grasp_exec_time (ms)\", \"grasp_exec_time (ms)\", \"grasp_exec_time (ms)\", \"grasp_exec_time (ms)\", \"grasp_exec_time (ms)\", \"grasp_exec_time (ms)\", \"grasp_exec_time (ms)\", \"grasp_exec_time (ms)\", \"grasp_exec_time (ms)\", \"grasp_exec_time (ms)\", \"grasp_exec_time (ms)\", \"grasp_exec_time (ms)\", \"grasp_exec_time (ms)\", \"grasp_exec_time (ms)\", \"grasp_exec_time (ms)\", \"grasp_exec_time (ms)\", \"grasp_exec_time (ms)\", \"grasp_exec_time (ms)\", \"grasp_exec_time (ms)\", \"grasp_exec_time (ms)\", \"grasp_exec_time (ms)\", \"grasp_exec_time (ms)\", \"grasp_exec_time (ms)\", \"grasp_exec_time (ms)\"], \"x0\": \" \", \"xaxis\": \"x\", \"y\": [9.602, 1.9909999999999999, 1.9580000000000002, 2.0380000000000003, 2.001, 1.973, 2.016, 2.011, 1.805, 1.838, 2.1180000000000003, 2.169, 1.9869999999999999, 2.237, 1.9169999999999998, 2.062, 2.101, 2.229, 2.1319999999999997, 2.082, 1.4769999999999999, 1.53, 1.58, 1.635, 1.578, 1.436, 1.5530000000000002, 1.495, 1.5030000000000001, 1.453, 1.867, 1.7790000000000001, 1.785, 1.818, 1.78, 1.686, 1.795, 1.847, 1.72, 1.84, 1.3619999999999999, 1.3980000000000001, 1.271, 1.354, 1.239, 1.3530000000000002, 1.3869999999999998, 1.406, 1.3719999999999999, 1.411, 1.2830000000000001, 1.287, 1.3659999999999999, 1.268, 1.338, 1.389, 1.254, 1.3419999999999999, 1.3730000000000002, 1.369, 1.446, 1.489, 1.4580000000000002, 1.505, 1.4180000000000001, 1.475, 1.472, 1.41, 1.453, 1.348, 1.624, 1.694, 1.581, 1.6969999999999998, 1.5819999999999999, 1.556, 1.65, 1.631, 1.767, 1.72, 1.385, 1.374, 1.35, 1.391, 1.34, 1.3659999999999999, 1.392, 1.402, 1.381, 1.3780000000000001, 1.3730000000000002, 1.495, 1.358, 1.337, 1.399, 1.379, 1.426, 1.484, 1.3730000000000002, 1.3630000000000002, 1.492, 1.702, 1.594, 1.607, 1.587, 1.621, 1.597, 1.581, 1.5490000000000002, 1.61, 1.507, 1.641, 1.851, 1.764, 1.581, 1.6569999999999998, 1.7080000000000002, 1.7530000000000001, 1.5519999999999998, 1.699, 1.083, 1.089, 1.043, 1.013, 1.067, 1.172, 0.982, 1.248, 1.005, 1.124, 0.755, 0.8059999999999999, 0.7170000000000001, 0.763, 0.7759999999999999, 0.723, 0.711, 0.883, 0.867, 0.705, 0.884, 0.9440000000000001, 0.8370000000000001, 0.9520000000000001, 0.893, 0.924, 0.899, 0.968, 0.9179999999999999, 0.935, 0.7559999999999999, 0.7170000000000001, 0.647, 0.644, 0.722, 0.731, 0.73, 0.645, 0.7140000000000001, 1.016, 0.64, 0.6409999999999999, 0.647, 0.638, 0.636, 0.66, 0.633, 0.799, 0.643, 0.64, 0.718, 0.731, 0.7140000000000001, 0.73, 0.742, 0.787, 0.713, 0.73, 0.7170000000000001, 0.7140000000000001, 0.8490000000000001, 0.838, 0.887, 0.84, 0.8390000000000001, 0.9159999999999999, 0.905, 0.8240000000000001, 0.847, 0.8490000000000001, 0.6509999999999999, 0.705, 0.7120000000000001, 0.708, 0.7190000000000001, 0.631, 0.727, 0.722, 0.6459999999999999, 0.78, 0.76, 0.7020000000000001, 0.6940000000000001, 0.735, 0.752, 0.684, 0.7190000000000001, 0.7390000000000001, 0.7090000000000001, 0.706, 0.78, 0.799, 0.74, 0.755, 0.7809999999999999, 0.753, 0.7859999999999999, 0.7879999999999999, 0.774, 0.78, 86.56700000000001, 74.306, 74.12100000000001, 75.26, 74.717, 74.943, 76.444, 72.632, 73.237, 72.748, 74.561, 77.52199999999999, 78.001, 78.888, 74.215, 75.52199999999999, 75.46300000000001, 80.1, 75.553, 74.583, 70.666, 71.514, 71.71300000000001, 71.41, 71.814, 71.437, 71.729, 71.017, 70.556, 72.344, 72.946, 72.17699999999999, 73.21, 72.625, 70.818, 71.741, 75.42399999999999, 74.862, 71.806, 73.794, 70.727, 70.31, 69.333, 70.032, 69.805, 71.074, 72.029, 70.595, 70.24, 71.54, 70.904, 75.914, 70.17, 69.934, 70.8, 70.908, 70.796, 69.979, 70.488, 70.233, 70.32300000000001, 70.377, 71.617, 70.439, 69.767, 70.406, 70.407, 71.348, 70.225, 70.671, 72.488, 73.687, 73.11, 73.13, 71.37, 71.421, 71.587, 71.933, 73.417, 75.111, 69.847, 72.351, 70.632, 71.342, 70.414, 70.122, 77.038, 71.197, 70.50399999999999, 72.108, 70.032, 71.34, 70.166, 70.013, 70.928, 72.236, 71.811, 70.34899999999999, 70.6, 71.76899999999999, 70.039, 71.566, 74.979, 70.93, 72.34, 71.604, 70.76100000000001, 71.683, 75.09100000000001, 71.93, 72.421, 73.582, 72.523, 73.969, 73.567, 72.652, 72.532, 73.667, 70.36399999999999, 73.77, 30.703000000000003, 30.825, 29.538, 29.944000000000003, 30.113000000000003, 31.113000000000003, 30.726999999999997, 31.75, 30.666999999999998, 30.803, 29.585, 28.454, 28.613000000000003, 29.189, 29.713, 29.011, 29.171999999999997, 29.448, 30.206999999999997, 28.643, 29.479, 30.002, 30.263, 30.136, 29.653000000000002, 29.869, 29.514, 29.861, 30.088, 30.47, 29.487, 29.123, 28.840999999999998, 29.12, 29.761, 29.017, 29.226999999999997, 29.053, 29.086, 31.805999999999997, 30.504, 29.141, 29.267, 28.64, 28.708000000000002, 29.081999999999997, 28.66, 33.368, 28.813000000000002, 27.943, 29.029, 29.461, 29.699, 29.245, 29.587, 29.689, 29.076999999999998, 29.104, 29.366, 29.784000000000002, 29.51, 29.778000000000002, 29.804000000000002, 29.401999999999997, 29.858, 29.642, 29.61, 29.55, 29.763, 29.421, 28.873, 31.697, 29.281, 28.561999999999998, 29.039, 29.081, 29.506999999999998, 29.363000000000003, 28.750999999999998, 29.272, 29.039, 30.813000000000002, 28.893, 29.164, 28.987, 29.409000000000002, 29.057, 29.038, 29.406, 29.08, 29.353, 29.21, 29.371, 28.680999999999997, 29.055, 31.855999999999998, 30.098000000000003, 28.785, 28.811, 29.65, 111.204, 111.616, 109.94200000000001, 112.321, 109.73, 109.96700000000001, 112.838, 109.491, 107.18700000000001, 110.226, 117.575, 117.087, 118.809, 117.56299999999999, 132.132, 117.742, 117.905, 118.26799999999999, 118.839, 117.73899999999999, 84.31, 84.81700000000001, 83.51799999999999, 82.50399999999999, 83.20299999999999, 84.38, 85.01299999999999, 83.926, 83.829, 86.133, 100.09299999999999, 101.242, 101.93700000000001, 103.08200000000001, 101.59700000000001, 100.75, 102.419, 101.155, 103.031, 100.48100000000001, 75.413, 74.676, 74.458, 74.758, 74.811, 75.637, 74.472, 75.132, 75.873, 74.312, 74.74600000000001, 74.775, 73.96, 72.762, 73.155, 74.188, 72.937, 72.846, 74.069, 73.252, 82.934, 80.84899999999999, 80.55, 82.381, 81.735, 81.08800000000001, 80.203, 81.476, 80.99600000000001, 80.74600000000001, 95.16799999999999, 92.75299999999999, 92.935, 92.382, 94.594, 93.272, 92.069, 102.344, 93.523, 92.78299999999999, 77.217, 75.821, 76.539, 76.85600000000001, 76.09899999999999, 76.942, 77.38600000000001, 75.809, 76.293, 76.098, 77.758, 77.66, 79.952, 77.695, 78.477, 78.265, 77.797, 79.164, 78.09, 77.919, 86.376, 87.226, 87.427, 88.262, 88.755, 87.09899999999999, 88.52, 88.305, 87.76100000000001, 89.27, 91.427, 96.705, 104.5, 95.652, 92.079, 95.45, 96.35799999999999, 95.765, 89.876, 95.074, 65.149, 62.332, 62.00899999999999, 61.946999999999996, 63.497, 63.955, 63.193000000000005, 62.277, 62.643, 61.742, 43.317, 42.75899999999999, 43.848, 44.045, 43.57899999999999, 44.04600000000001, 42.585, 44.248999999999995, 42.977, 42.693000000000005, 56.195, 52.137, 53.474, 53.221000000000004, 55.169, 53.071999999999996, 54.722, 53.438, 52.592, 51.056999999999995, 37.583, 38.888000000000005, 36.584, 38.165, 37.999, 37.995, 38.919000000000004, 37.652, 39.723, 37.419000000000004, 37.102, 37.154, 36.211, 36.26, 37.523, 36.743, 38.172, 36.755, 36.607, 36.445, 41.357, 40.505, 40.797, 41.044, 41.321999999999996, 41.648, 41.45399999999999, 40.79, 41.856, 40.678000000000004, 48.211999999999996, 48.089, 49.086999999999996, 48.806999999999995, 48.468, 47.788999999999994, 49.042, 47.633, 47.794, 48.44, 38.388000000000005, 39.827, 39.655, 39.838, 39.61, 38.578, 39.766, 39.315, 39.135, 38.615, 39.010999999999996, 41.355, 40.167, 40.65, 41.152, 39.921, 40.521, 40.336, 40.181, 39.688, 45.201, 45.08, 44.412, 44.828, 44.854, 45.88, 45.852, 45.336999999999996, 45.532, 45.857], \"y0\": \" \", \"yaxis\": \"y\"}],\n",
       "                        {\"boxmode\": \"group\", \"legend\": {\"tracegroupgap\": 0}, \"margin\": {\"t\": 60}, \"template\": {\"data\": {\"bar\": [{\"error_x\": {\"color\": \"#2a3f5f\"}, \"error_y\": {\"color\": \"#2a3f5f\"}, \"marker\": {\"line\": {\"color\": \"#E5ECF6\", \"width\": 0.5}}, \"type\": \"bar\"}], \"barpolar\": [{\"marker\": {\"line\": {\"color\": \"#E5ECF6\", \"width\": 0.5}}, \"type\": \"barpolar\"}], \"carpet\": [{\"aaxis\": {\"endlinecolor\": \"#2a3f5f\", \"gridcolor\": \"white\", \"linecolor\": \"white\", \"minorgridcolor\": \"white\", \"startlinecolor\": \"#2a3f5f\"}, \"baxis\": {\"endlinecolor\": \"#2a3f5f\", \"gridcolor\": \"white\", \"linecolor\": \"white\", \"minorgridcolor\": \"white\", \"startlinecolor\": \"#2a3f5f\"}, \"type\": \"carpet\"}], \"choropleth\": [{\"colorbar\": {\"outlinewidth\": 0, \"ticks\": \"\"}, \"type\": \"choropleth\"}], \"contour\": [{\"colorbar\": {\"outlinewidth\": 0, \"ticks\": \"\"}, \"colorscale\": [[0.0, \"#0d0887\"], [0.1111111111111111, \"#46039f\"], [0.2222222222222222, \"#7201a8\"], [0.3333333333333333, \"#9c179e\"], [0.4444444444444444, \"#bd3786\"], [0.5555555555555556, \"#d8576b\"], [0.6666666666666666, \"#ed7953\"], [0.7777777777777778, \"#fb9f3a\"], [0.8888888888888888, \"#fdca26\"], [1.0, \"#f0f921\"]], \"type\": \"contour\"}], \"contourcarpet\": [{\"colorbar\": {\"outlinewidth\": 0, \"ticks\": \"\"}, \"type\": \"contourcarpet\"}], \"heatmap\": [{\"colorbar\": {\"outlinewidth\": 0, \"ticks\": \"\"}, \"colorscale\": [[0.0, \"#0d0887\"], [0.1111111111111111, \"#46039f\"], [0.2222222222222222, \"#7201a8\"], [0.3333333333333333, \"#9c179e\"], [0.4444444444444444, \"#bd3786\"], [0.5555555555555556, \"#d8576b\"], [0.6666666666666666, \"#ed7953\"], [0.7777777777777778, \"#fb9f3a\"], [0.8888888888888888, \"#fdca26\"], [1.0, \"#f0f921\"]], \"type\": \"heatmap\"}], \"heatmapgl\": [{\"colorbar\": {\"outlinewidth\": 0, \"ticks\": \"\"}, \"colorscale\": [[0.0, \"#0d0887\"], [0.1111111111111111, \"#46039f\"], [0.2222222222222222, \"#7201a8\"], [0.3333333333333333, \"#9c179e\"], [0.4444444444444444, \"#bd3786\"], [0.5555555555555556, \"#d8576b\"], [0.6666666666666666, \"#ed7953\"], [0.7777777777777778, \"#fb9f3a\"], [0.8888888888888888, \"#fdca26\"], [1.0, \"#f0f921\"]], \"type\": \"heatmapgl\"}], \"histogram\": [{\"marker\": {\"colorbar\": {\"outlinewidth\": 0, \"ticks\": \"\"}}, \"type\": \"histogram\"}], \"histogram2d\": [{\"colorbar\": {\"outlinewidth\": 0, \"ticks\": \"\"}, \"colorscale\": [[0.0, \"#0d0887\"], [0.1111111111111111, \"#46039f\"], [0.2222222222222222, \"#7201a8\"], [0.3333333333333333, \"#9c179e\"], [0.4444444444444444, \"#bd3786\"], [0.5555555555555556, \"#d8576b\"], [0.6666666666666666, \"#ed7953\"], [0.7777777777777778, \"#fb9f3a\"], [0.8888888888888888, \"#fdca26\"], [1.0, \"#f0f921\"]], \"type\": \"histogram2d\"}], \"histogram2dcontour\": [{\"colorbar\": {\"outlinewidth\": 0, \"ticks\": \"\"}, \"colorscale\": [[0.0, \"#0d0887\"], [0.1111111111111111, \"#46039f\"], [0.2222222222222222, \"#7201a8\"], [0.3333333333333333, \"#9c179e\"], [0.4444444444444444, \"#bd3786\"], [0.5555555555555556, \"#d8576b\"], [0.6666666666666666, \"#ed7953\"], [0.7777777777777778, \"#fb9f3a\"], [0.8888888888888888, \"#fdca26\"], [1.0, \"#f0f921\"]], \"type\": \"histogram2dcontour\"}], \"mesh3d\": [{\"colorbar\": {\"outlinewidth\": 0, \"ticks\": \"\"}, \"type\": \"mesh3d\"}], \"parcoords\": [{\"line\": {\"colorbar\": {\"outlinewidth\": 0, \"ticks\": \"\"}}, \"type\": \"parcoords\"}], \"pie\": [{\"automargin\": true, \"type\": \"pie\"}], \"scatter\": [{\"marker\": {\"colorbar\": {\"outlinewidth\": 0, \"ticks\": \"\"}}, \"type\": \"scatter\"}], \"scatter3d\": [{\"line\": {\"colorbar\": {\"outlinewidth\": 0, \"ticks\": \"\"}}, \"marker\": {\"colorbar\": {\"outlinewidth\": 0, \"ticks\": \"\"}}, \"type\": \"scatter3d\"}], \"scattercarpet\": [{\"marker\": {\"colorbar\": {\"outlinewidth\": 0, \"ticks\": \"\"}}, \"type\": \"scattercarpet\"}], \"scattergeo\": [{\"marker\": {\"colorbar\": {\"outlinewidth\": 0, \"ticks\": \"\"}}, \"type\": \"scattergeo\"}], \"scattergl\": [{\"marker\": {\"colorbar\": {\"outlinewidth\": 0, \"ticks\": \"\"}}, \"type\": \"scattergl\"}], \"scattermapbox\": [{\"marker\": {\"colorbar\": {\"outlinewidth\": 0, \"ticks\": \"\"}}, \"type\": \"scattermapbox\"}], \"scatterpolar\": [{\"marker\": {\"colorbar\": {\"outlinewidth\": 0, \"ticks\": \"\"}}, \"type\": \"scatterpolar\"}], \"scatterpolargl\": [{\"marker\": {\"colorbar\": {\"outlinewidth\": 0, \"ticks\": \"\"}}, \"type\": \"scatterpolargl\"}], \"scatterternary\": [{\"marker\": {\"colorbar\": {\"outlinewidth\": 0, \"ticks\": \"\"}}, \"type\": \"scatterternary\"}], \"surface\": [{\"colorbar\": {\"outlinewidth\": 0, \"ticks\": \"\"}, \"colorscale\": [[0.0, \"#0d0887\"], [0.1111111111111111, \"#46039f\"], [0.2222222222222222, \"#7201a8\"], [0.3333333333333333, \"#9c179e\"], [0.4444444444444444, \"#bd3786\"], [0.5555555555555556, \"#d8576b\"], [0.6666666666666666, \"#ed7953\"], [0.7777777777777778, \"#fb9f3a\"], [0.8888888888888888, \"#fdca26\"], [1.0, \"#f0f921\"]], \"type\": \"surface\"}], \"table\": [{\"cells\": {\"fill\": {\"color\": \"#EBF0F8\"}, \"line\": {\"color\": \"white\"}}, \"header\": {\"fill\": {\"color\": \"#C8D4E3\"}, \"line\": {\"color\": \"white\"}}, \"type\": \"table\"}]}, \"layout\": {\"annotationdefaults\": {\"arrowcolor\": \"#2a3f5f\", \"arrowhead\": 0, \"arrowwidth\": 1}, \"coloraxis\": {\"colorbar\": {\"outlinewidth\": 0, \"ticks\": \"\"}}, \"colorscale\": {\"diverging\": [[0, \"#8e0152\"], [0.1, \"#c51b7d\"], [0.2, \"#de77ae\"], [0.3, \"#f1b6da\"], [0.4, \"#fde0ef\"], [0.5, \"#f7f7f7\"], [0.6, \"#e6f5d0\"], [0.7, \"#b8e186\"], [0.8, \"#7fbc41\"], [0.9, \"#4d9221\"], [1, \"#276419\"]], \"sequential\": [[0.0, \"#0d0887\"], [0.1111111111111111, \"#46039f\"], [0.2222222222222222, \"#7201a8\"], [0.3333333333333333, \"#9c179e\"], [0.4444444444444444, \"#bd3786\"], [0.5555555555555556, \"#d8576b\"], [0.6666666666666666, \"#ed7953\"], [0.7777777777777778, \"#fb9f3a\"], [0.8888888888888888, \"#fdca26\"], [1.0, \"#f0f921\"]], \"sequentialminus\": [[0.0, \"#0d0887\"], [0.1111111111111111, \"#46039f\"], [0.2222222222222222, \"#7201a8\"], [0.3333333333333333, \"#9c179e\"], [0.4444444444444444, \"#bd3786\"], [0.5555555555555556, \"#d8576b\"], [0.6666666666666666, \"#ed7953\"], [0.7777777777777778, \"#fb9f3a\"], [0.8888888888888888, \"#fdca26\"], [1.0, \"#f0f921\"]]}, \"colorway\": [\"#636efa\", \"#EF553B\", \"#00cc96\", \"#ab63fa\", \"#FFA15A\", \"#19d3f3\", \"#FF6692\", \"#B6E880\", \"#FF97FF\", \"#FECB52\"], \"font\": {\"color\": \"#2a3f5f\"}, \"geo\": {\"bgcolor\": \"white\", \"lakecolor\": \"white\", \"landcolor\": \"#E5ECF6\", \"showlakes\": true, \"showland\": true, \"subunitcolor\": \"white\"}, \"hoverlabel\": {\"align\": \"left\"}, \"hovermode\": \"closest\", \"mapbox\": {\"style\": \"light\"}, \"paper_bgcolor\": \"white\", \"plot_bgcolor\": \"#E5ECF6\", \"polar\": {\"angularaxis\": {\"gridcolor\": \"white\", \"linecolor\": \"white\", \"ticks\": \"\"}, \"bgcolor\": \"#E5ECF6\", \"radialaxis\": {\"gridcolor\": \"white\", \"linecolor\": \"white\", \"ticks\": \"\"}}, \"scene\": {\"xaxis\": {\"backgroundcolor\": \"#E5ECF6\", \"gridcolor\": \"white\", \"gridwidth\": 2, \"linecolor\": \"white\", \"showbackground\": true, \"ticks\": \"\", \"zerolinecolor\": \"white\"}, \"yaxis\": {\"backgroundcolor\": \"#E5ECF6\", \"gridcolor\": \"white\", \"gridwidth\": 2, \"linecolor\": \"white\", \"showbackground\": true, \"ticks\": \"\", \"zerolinecolor\": \"white\"}, \"zaxis\": {\"backgroundcolor\": \"#E5ECF6\", \"gridcolor\": \"white\", \"gridwidth\": 2, \"linecolor\": \"white\", \"showbackground\": true, \"ticks\": \"\", \"zerolinecolor\": \"white\"}}, \"shapedefaults\": {\"line\": {\"color\": \"#2a3f5f\"}}, \"ternary\": {\"aaxis\": {\"gridcolor\": \"white\", \"linecolor\": \"white\", \"ticks\": \"\"}, \"baxis\": {\"gridcolor\": \"white\", \"linecolor\": \"white\", \"ticks\": \"\"}, \"bgcolor\": \"#E5ECF6\", \"caxis\": {\"gridcolor\": \"white\", \"linecolor\": \"white\", \"ticks\": \"\"}}, \"title\": {\"x\": 0.05}, \"xaxis\": {\"automargin\": true, \"gridcolor\": \"white\", \"linecolor\": \"white\", \"ticks\": \"\", \"title\": {\"standoff\": 15}, \"zerolinecolor\": \"white\", \"zerolinewidth\": 2}, \"yaxis\": {\"automargin\": true, \"gridcolor\": \"white\", \"linecolor\": \"white\", \"ticks\": \"\", \"title\": {\"standoff\": 15}, \"zerolinecolor\": \"white\", \"zerolinewidth\": 2}}}, \"xaxis\": {\"anchor\": \"y\", \"domain\": [0.0, 1.0], \"title\": {\"text\": \"variable\"}}, \"yaxis\": {\"anchor\": \"x\", \"domain\": [0.0, 1.0], \"title\": {\"text\": \"value\"}}},\n",
       "                        {\"responsive\": true}\n",
       "                    ).then(function(){\n",
       "                            \n",
       "var gd = document.getElementById('ee6cad3e-58a5-43ea-b399-d0b26ecbf1e5');\n",
       "var x = new MutationObserver(function (mutations, observer) {{\n",
       "        var display = window.getComputedStyle(gd).display;\n",
       "        if (!display || display === 'none') {{\n",
       "            console.log([gd, 'removed!']);\n",
       "            Plotly.purge(gd);\n",
       "            observer.disconnect();\n",
       "        }}\n",
       "}});\n",
       "\n",
       "// Listen for the removal of the full notebook cells\n",
       "var notebookContainer = gd.closest('#notebook-container');\n",
       "if (notebookContainer) {{\n",
       "    x.observe(notebookContainer, {childList: true});\n",
       "}}\n",
       "\n",
       "// Listen for the clearing of the current output cell\n",
       "var outputEl = gd.closest('.output');\n",
       "if (outputEl) {{\n",
       "    x.observe(outputEl, {childList: true});\n",
       "}}\n",
       "\n",
       "                        })\n",
       "                };\n",
       "                });\n",
       "            </script>\n",
       "        </div>"
      ]
     },
     "metadata": {},
     "output_type": "display_data"
    }
   ],
   "source": [
    "fig = px.box(df_results_time.melt(), x=\"variable\", y=\"value\")\n",
    "fig.show()"
   ]
  },
  {
   "cell_type": "code",
   "execution_count": 19,
   "metadata": {},
   "outputs": [
    {
     "data": {
      "text/html": [
       "<div>\n",
       "<style scoped>\n",
       "    .dataframe tbody tr th:only-of-type {\n",
       "        vertical-align: middle;\n",
       "    }\n",
       "\n",
       "    .dataframe tbody tr th {\n",
       "        vertical-align: top;\n",
       "    }\n",
       "\n",
       "    .dataframe thead th {\n",
       "        text-align: right;\n",
       "    }\n",
       "</style>\n",
       "<table border=\"1\" class=\"dataframe\">\n",
       "  <thead>\n",
       "    <tr style=\"text-align: right;\">\n",
       "      <th></th>\n",
       "      <th>constructive_cost</th>\n",
       "      <th>tabu_cost</th>\n",
       "      <th>grasp_cost</th>\n",
       "      <th>optimal_cost</th>\n",
       "    </tr>\n",
       "  </thead>\n",
       "  <tbody>\n",
       "    <tr>\n",
       "      <th>0</th>\n",
       "      <td>20761</td>\n",
       "      <td>17537</td>\n",
       "      <td>18369</td>\n",
       "      <td>16781</td>\n",
       "    </tr>\n",
       "    <tr>\n",
       "      <th>1</th>\n",
       "      <td>21623</td>\n",
       "      <td>17445</td>\n",
       "      <td>16760</td>\n",
       "      <td>15842</td>\n",
       "    </tr>\n",
       "    <tr>\n",
       "      <th>2</th>\n",
       "      <td>21461</td>\n",
       "      <td>18721</td>\n",
       "      <td>19572</td>\n",
       "      <td>17668</td>\n",
       "    </tr>\n",
       "    <tr>\n",
       "      <th>3</th>\n",
       "      <td>21659</td>\n",
       "      <td>17526</td>\n",
       "      <td>17967</td>\n",
       "      <td>16799</td>\n",
       "    </tr>\n",
       "    <tr>\n",
       "      <th>4</th>\n",
       "      <td>20886</td>\n",
       "      <td>17802</td>\n",
       "      <td>18410</td>\n",
       "      <td>17491</td>\n",
       "    </tr>\n",
       "    <tr>\n",
       "      <th>...</th>\n",
       "      <td>...</td>\n",
       "      <td>...</td>\n",
       "      <td>...</td>\n",
       "      <td>...</td>\n",
       "    </tr>\n",
       "    <tr>\n",
       "      <th>215</th>\n",
       "      <td>30788</td>\n",
       "      <td>26656</td>\n",
       "      <td>26590</td>\n",
       "      <td>26576</td>\n",
       "    </tr>\n",
       "    <tr>\n",
       "      <th>216</th>\n",
       "      <td>28899</td>\n",
       "      <td>26711</td>\n",
       "      <td>27417</td>\n",
       "      <td>25724</td>\n",
       "    </tr>\n",
       "    <tr>\n",
       "      <th>217</th>\n",
       "      <td>28691</td>\n",
       "      <td>27920</td>\n",
       "      <td>28358</td>\n",
       "      <td>27658</td>\n",
       "    </tr>\n",
       "    <tr>\n",
       "      <th>218</th>\n",
       "      <td>31353</td>\n",
       "      <td>27713</td>\n",
       "      <td>28638</td>\n",
       "      <td>26151</td>\n",
       "    </tr>\n",
       "    <tr>\n",
       "      <th>219</th>\n",
       "      <td>28781</td>\n",
       "      <td>27662</td>\n",
       "      <td>25261</td>\n",
       "      <td>25261</td>\n",
       "    </tr>\n",
       "  </tbody>\n",
       "</table>\n",
       "<p>220 rows × 4 columns</p>\n",
       "</div>"
      ],
      "text/plain": [
       "     constructive_cost  tabu_cost  grasp_cost  optimal_cost\n",
       "0                20761      17537       18369         16781\n",
       "1                21623      17445       16760         15842\n",
       "2                21461      18721       19572         17668\n",
       "3                21659      17526       17967         16799\n",
       "4                20886      17802       18410         17491\n",
       "..                 ...        ...         ...           ...\n",
       "215              30788      26656       26590         26576\n",
       "216              28899      26711       27417         25724\n",
       "217              28691      27920       28358         27658\n",
       "218              31353      27713       28638         26151\n",
       "219              28781      27662       25261         25261\n",
       "\n",
       "[220 rows x 4 columns]"
      ]
     },
     "execution_count": 19,
     "metadata": {},
     "output_type": "execute_result"
    }
   ],
   "source": [
    "df_results_cost = df_results.filter(regex=\".*cost$\")\n",
    "df_results_cost"
   ]
  },
  {
   "cell_type": "code",
   "execution_count": 22,
   "metadata": {},
   "outputs": [
    {
     "data": {
      "text/html": [
       "<div>\n",
       "<style scoped>\n",
       "    .dataframe tbody tr th:only-of-type {\n",
       "        vertical-align: middle;\n",
       "    }\n",
       "\n",
       "    .dataframe tbody tr th {\n",
       "        vertical-align: top;\n",
       "    }\n",
       "\n",
       "    .dataframe thead th {\n",
       "        text-align: right;\n",
       "    }\n",
       "</style>\n",
       "<table border=\"1\" class=\"dataframe\">\n",
       "  <thead>\n",
       "    <tr style=\"text-align: right;\">\n",
       "      <th></th>\n",
       "      <th>constructive_cost_pct</th>\n",
       "      <th>tabu_cost_pct</th>\n",
       "      <th>grasp_cost_pct</th>\n",
       "    </tr>\n",
       "  </thead>\n",
       "  <tbody>\n",
       "    <tr>\n",
       "      <th>0</th>\n",
       "      <td>1.237173</td>\n",
       "      <td>1.045051</td>\n",
       "      <td>1.094631</td>\n",
       "    </tr>\n",
       "    <tr>\n",
       "      <th>1</th>\n",
       "      <td>1.364916</td>\n",
       "      <td>1.101187</td>\n",
       "      <td>1.057947</td>\n",
       "    </tr>\n",
       "    <tr>\n",
       "      <th>2</th>\n",
       "      <td>1.214682</td>\n",
       "      <td>1.059599</td>\n",
       "      <td>1.107765</td>\n",
       "    </tr>\n",
       "    <tr>\n",
       "      <th>3</th>\n",
       "      <td>1.289303</td>\n",
       "      <td>1.043276</td>\n",
       "      <td>1.069528</td>\n",
       "    </tr>\n",
       "    <tr>\n",
       "      <th>4</th>\n",
       "      <td>1.194100</td>\n",
       "      <td>1.017781</td>\n",
       "      <td>1.052541</td>\n",
       "    </tr>\n",
       "    <tr>\n",
       "      <th>...</th>\n",
       "      <td>...</td>\n",
       "      <td>...</td>\n",
       "      <td>...</td>\n",
       "    </tr>\n",
       "    <tr>\n",
       "      <th>215</th>\n",
       "      <td>1.158489</td>\n",
       "      <td>1.003010</td>\n",
       "      <td>1.000527</td>\n",
       "    </tr>\n",
       "    <tr>\n",
       "      <th>216</th>\n",
       "      <td>1.123426</td>\n",
       "      <td>1.038369</td>\n",
       "      <td>1.065814</td>\n",
       "    </tr>\n",
       "    <tr>\n",
       "      <th>217</th>\n",
       "      <td>1.037349</td>\n",
       "      <td>1.009473</td>\n",
       "      <td>1.025309</td>\n",
       "    </tr>\n",
       "    <tr>\n",
       "      <th>218</th>\n",
       "      <td>1.198922</td>\n",
       "      <td>1.059730</td>\n",
       "      <td>1.095102</td>\n",
       "    </tr>\n",
       "    <tr>\n",
       "      <th>219</th>\n",
       "      <td>1.139345</td>\n",
       "      <td>1.095048</td>\n",
       "      <td>1.000000</td>\n",
       "    </tr>\n",
       "  </tbody>\n",
       "</table>\n",
       "<p>220 rows × 3 columns</p>\n",
       "</div>"
      ],
      "text/plain": [
       "     constructive_cost_pct  tabu_cost_pct  grasp_cost_pct\n",
       "0                 1.237173       1.045051        1.094631\n",
       "1                 1.364916       1.101187        1.057947\n",
       "2                 1.214682       1.059599        1.107765\n",
       "3                 1.289303       1.043276        1.069528\n",
       "4                 1.194100       1.017781        1.052541\n",
       "..                     ...            ...             ...\n",
       "215               1.158489       1.003010        1.000527\n",
       "216               1.123426       1.038369        1.065814\n",
       "217               1.037349       1.009473        1.025309\n",
       "218               1.198922       1.059730        1.095102\n",
       "219               1.139345       1.095048        1.000000\n",
       "\n",
       "[220 rows x 3 columns]"
      ]
     },
     "execution_count": 22,
     "metadata": {},
     "output_type": "execute_result"
    }
   ],
   "source": [
    "df_results_cost[\"constructive_cost_pct\"] = df_results_cost[\"constructive_cost\"] / df_results_cost[\"optimal_cost\"]\n",
    "df_results_cost[\"tabu_cost_pct\"] = df_results_cost[\"tabu_cost\"] / df_results_cost[\"optimal_cost\"]\n",
    "df_results_cost[\"grasp_cost_pct\"] = df_results_cost[\"grasp_cost\"] / df_results_cost[\"optimal_cost\"]\n",
    "df_results_cost_pct = df_results_cost.filter(regex=\".*pct$\")\n",
    "df_results_cost_pct"
   ]
  },
  {
   "cell_type": "code",
   "execution_count": 23,
   "metadata": {},
   "outputs": [
    {
     "data": {
      "application/vnd.plotly.v1+json": {
       "config": {
        "plotlyServerURL": "https://plot.ly"
       },
       "data": [
        {
         "alignmentgroup": "True",
         "hovertemplate": "variable=%{x}<br>value=%{y}<extra></extra>",
         "legendgroup": "",
         "marker": {
          "color": "#636efa"
         },
         "name": "",
         "notched": false,
         "offsetgroup": "",
         "orientation": "v",
         "showlegend": false,
         "type": "box",
         "x": [
          "constructive_cost_pct",
          "constructive_cost_pct",
          "constructive_cost_pct",
          "constructive_cost_pct",
          "constructive_cost_pct",
          "constructive_cost_pct",
          "constructive_cost_pct",
          "constructive_cost_pct",
          "constructive_cost_pct",
          "constructive_cost_pct",
          "constructive_cost_pct",
          "constructive_cost_pct",
          "constructive_cost_pct",
          "constructive_cost_pct",
          "constructive_cost_pct",
          "constructive_cost_pct",
          "constructive_cost_pct",
          "constructive_cost_pct",
          "constructive_cost_pct",
          "constructive_cost_pct",
          "constructive_cost_pct",
          "constructive_cost_pct",
          "constructive_cost_pct",
          "constructive_cost_pct",
          "constructive_cost_pct",
          "constructive_cost_pct",
          "constructive_cost_pct",
          "constructive_cost_pct",
          "constructive_cost_pct",
          "constructive_cost_pct",
          "constructive_cost_pct",
          "constructive_cost_pct",
          "constructive_cost_pct",
          "constructive_cost_pct",
          "constructive_cost_pct",
          "constructive_cost_pct",
          "constructive_cost_pct",
          "constructive_cost_pct",
          "constructive_cost_pct",
          "constructive_cost_pct",
          "constructive_cost_pct",
          "constructive_cost_pct",
          "constructive_cost_pct",
          "constructive_cost_pct",
          "constructive_cost_pct",
          "constructive_cost_pct",
          "constructive_cost_pct",
          "constructive_cost_pct",
          "constructive_cost_pct",
          "constructive_cost_pct",
          "constructive_cost_pct",
          "constructive_cost_pct",
          "constructive_cost_pct",
          "constructive_cost_pct",
          "constructive_cost_pct",
          "constructive_cost_pct",
          "constructive_cost_pct",
          "constructive_cost_pct",
          "constructive_cost_pct",
          "constructive_cost_pct",
          "constructive_cost_pct",
          "constructive_cost_pct",
          "constructive_cost_pct",
          "constructive_cost_pct",
          "constructive_cost_pct",
          "constructive_cost_pct",
          "constructive_cost_pct",
          "constructive_cost_pct",
          "constructive_cost_pct",
          "constructive_cost_pct",
          "constructive_cost_pct",
          "constructive_cost_pct",
          "constructive_cost_pct",
          "constructive_cost_pct",
          "constructive_cost_pct",
          "constructive_cost_pct",
          "constructive_cost_pct",
          "constructive_cost_pct",
          "constructive_cost_pct",
          "constructive_cost_pct",
          "constructive_cost_pct",
          "constructive_cost_pct",
          "constructive_cost_pct",
          "constructive_cost_pct",
          "constructive_cost_pct",
          "constructive_cost_pct",
          "constructive_cost_pct",
          "constructive_cost_pct",
          "constructive_cost_pct",
          "constructive_cost_pct",
          "constructive_cost_pct",
          "constructive_cost_pct",
          "constructive_cost_pct",
          "constructive_cost_pct",
          "constructive_cost_pct",
          "constructive_cost_pct",
          "constructive_cost_pct",
          "constructive_cost_pct",
          "constructive_cost_pct",
          "constructive_cost_pct",
          "constructive_cost_pct",
          "constructive_cost_pct",
          "constructive_cost_pct",
          "constructive_cost_pct",
          "constructive_cost_pct",
          "constructive_cost_pct",
          "constructive_cost_pct",
          "constructive_cost_pct",
          "constructive_cost_pct",
          "constructive_cost_pct",
          "constructive_cost_pct",
          "constructive_cost_pct",
          "constructive_cost_pct",
          "constructive_cost_pct",
          "constructive_cost_pct",
          "constructive_cost_pct",
          "constructive_cost_pct",
          "constructive_cost_pct",
          "constructive_cost_pct",
          "constructive_cost_pct",
          "constructive_cost_pct",
          "constructive_cost_pct",
          "constructive_cost_pct",
          "constructive_cost_pct",
          "constructive_cost_pct",
          "constructive_cost_pct",
          "constructive_cost_pct",
          "constructive_cost_pct",
          "constructive_cost_pct",
          "constructive_cost_pct",
          "constructive_cost_pct",
          "constructive_cost_pct",
          "constructive_cost_pct",
          "constructive_cost_pct",
          "constructive_cost_pct",
          "constructive_cost_pct",
          "constructive_cost_pct",
          "constructive_cost_pct",
          "constructive_cost_pct",
          "constructive_cost_pct",
          "constructive_cost_pct",
          "constructive_cost_pct",
          "constructive_cost_pct",
          "constructive_cost_pct",
          "constructive_cost_pct",
          "constructive_cost_pct",
          "constructive_cost_pct",
          "constructive_cost_pct",
          "constructive_cost_pct",
          "constructive_cost_pct",
          "constructive_cost_pct",
          "constructive_cost_pct",
          "constructive_cost_pct",
          "constructive_cost_pct",
          "constructive_cost_pct",
          "constructive_cost_pct",
          "constructive_cost_pct",
          "constructive_cost_pct",
          "constructive_cost_pct",
          "constructive_cost_pct",
          "constructive_cost_pct",
          "constructive_cost_pct",
          "constructive_cost_pct",
          "constructive_cost_pct",
          "constructive_cost_pct",
          "constructive_cost_pct",
          "constructive_cost_pct",
          "constructive_cost_pct",
          "constructive_cost_pct",
          "constructive_cost_pct",
          "constructive_cost_pct",
          "constructive_cost_pct",
          "constructive_cost_pct",
          "constructive_cost_pct",
          "constructive_cost_pct",
          "constructive_cost_pct",
          "constructive_cost_pct",
          "constructive_cost_pct",
          "constructive_cost_pct",
          "constructive_cost_pct",
          "constructive_cost_pct",
          "constructive_cost_pct",
          "constructive_cost_pct",
          "constructive_cost_pct",
          "constructive_cost_pct",
          "constructive_cost_pct",
          "constructive_cost_pct",
          "constructive_cost_pct",
          "constructive_cost_pct",
          "constructive_cost_pct",
          "constructive_cost_pct",
          "constructive_cost_pct",
          "constructive_cost_pct",
          "constructive_cost_pct",
          "constructive_cost_pct",
          "constructive_cost_pct",
          "constructive_cost_pct",
          "constructive_cost_pct",
          "constructive_cost_pct",
          "constructive_cost_pct",
          "constructive_cost_pct",
          "constructive_cost_pct",
          "constructive_cost_pct",
          "constructive_cost_pct",
          "constructive_cost_pct",
          "constructive_cost_pct",
          "constructive_cost_pct",
          "constructive_cost_pct",
          "constructive_cost_pct",
          "constructive_cost_pct",
          "constructive_cost_pct",
          "constructive_cost_pct",
          "constructive_cost_pct",
          "constructive_cost_pct",
          "constructive_cost_pct",
          "constructive_cost_pct",
          "constructive_cost_pct",
          "constructive_cost_pct",
          "constructive_cost_pct",
          "constructive_cost_pct",
          "tabu_cost_pct",
          "tabu_cost_pct",
          "tabu_cost_pct",
          "tabu_cost_pct",
          "tabu_cost_pct",
          "tabu_cost_pct",
          "tabu_cost_pct",
          "tabu_cost_pct",
          "tabu_cost_pct",
          "tabu_cost_pct",
          "tabu_cost_pct",
          "tabu_cost_pct",
          "tabu_cost_pct",
          "tabu_cost_pct",
          "tabu_cost_pct",
          "tabu_cost_pct",
          "tabu_cost_pct",
          "tabu_cost_pct",
          "tabu_cost_pct",
          "tabu_cost_pct",
          "tabu_cost_pct",
          "tabu_cost_pct",
          "tabu_cost_pct",
          "tabu_cost_pct",
          "tabu_cost_pct",
          "tabu_cost_pct",
          "tabu_cost_pct",
          "tabu_cost_pct",
          "tabu_cost_pct",
          "tabu_cost_pct",
          "tabu_cost_pct",
          "tabu_cost_pct",
          "tabu_cost_pct",
          "tabu_cost_pct",
          "tabu_cost_pct",
          "tabu_cost_pct",
          "tabu_cost_pct",
          "tabu_cost_pct",
          "tabu_cost_pct",
          "tabu_cost_pct",
          "tabu_cost_pct",
          "tabu_cost_pct",
          "tabu_cost_pct",
          "tabu_cost_pct",
          "tabu_cost_pct",
          "tabu_cost_pct",
          "tabu_cost_pct",
          "tabu_cost_pct",
          "tabu_cost_pct",
          "tabu_cost_pct",
          "tabu_cost_pct",
          "tabu_cost_pct",
          "tabu_cost_pct",
          "tabu_cost_pct",
          "tabu_cost_pct",
          "tabu_cost_pct",
          "tabu_cost_pct",
          "tabu_cost_pct",
          "tabu_cost_pct",
          "tabu_cost_pct",
          "tabu_cost_pct",
          "tabu_cost_pct",
          "tabu_cost_pct",
          "tabu_cost_pct",
          "tabu_cost_pct",
          "tabu_cost_pct",
          "tabu_cost_pct",
          "tabu_cost_pct",
          "tabu_cost_pct",
          "tabu_cost_pct",
          "tabu_cost_pct",
          "tabu_cost_pct",
          "tabu_cost_pct",
          "tabu_cost_pct",
          "tabu_cost_pct",
          "tabu_cost_pct",
          "tabu_cost_pct",
          "tabu_cost_pct",
          "tabu_cost_pct",
          "tabu_cost_pct",
          "tabu_cost_pct",
          "tabu_cost_pct",
          "tabu_cost_pct",
          "tabu_cost_pct",
          "tabu_cost_pct",
          "tabu_cost_pct",
          "tabu_cost_pct",
          "tabu_cost_pct",
          "tabu_cost_pct",
          "tabu_cost_pct",
          "tabu_cost_pct",
          "tabu_cost_pct",
          "tabu_cost_pct",
          "tabu_cost_pct",
          "tabu_cost_pct",
          "tabu_cost_pct",
          "tabu_cost_pct",
          "tabu_cost_pct",
          "tabu_cost_pct",
          "tabu_cost_pct",
          "tabu_cost_pct",
          "tabu_cost_pct",
          "tabu_cost_pct",
          "tabu_cost_pct",
          "tabu_cost_pct",
          "tabu_cost_pct",
          "tabu_cost_pct",
          "tabu_cost_pct",
          "tabu_cost_pct",
          "tabu_cost_pct",
          "tabu_cost_pct",
          "tabu_cost_pct",
          "tabu_cost_pct",
          "tabu_cost_pct",
          "tabu_cost_pct",
          "tabu_cost_pct",
          "tabu_cost_pct",
          "tabu_cost_pct",
          "tabu_cost_pct",
          "tabu_cost_pct",
          "tabu_cost_pct",
          "tabu_cost_pct",
          "tabu_cost_pct",
          "tabu_cost_pct",
          "tabu_cost_pct",
          "tabu_cost_pct",
          "tabu_cost_pct",
          "tabu_cost_pct",
          "tabu_cost_pct",
          "tabu_cost_pct",
          "tabu_cost_pct",
          "tabu_cost_pct",
          "tabu_cost_pct",
          "tabu_cost_pct",
          "tabu_cost_pct",
          "tabu_cost_pct",
          "tabu_cost_pct",
          "tabu_cost_pct",
          "tabu_cost_pct",
          "tabu_cost_pct",
          "tabu_cost_pct",
          "tabu_cost_pct",
          "tabu_cost_pct",
          "tabu_cost_pct",
          "tabu_cost_pct",
          "tabu_cost_pct",
          "tabu_cost_pct",
          "tabu_cost_pct",
          "tabu_cost_pct",
          "tabu_cost_pct",
          "tabu_cost_pct",
          "tabu_cost_pct",
          "tabu_cost_pct",
          "tabu_cost_pct",
          "tabu_cost_pct",
          "tabu_cost_pct",
          "tabu_cost_pct",
          "tabu_cost_pct",
          "tabu_cost_pct",
          "tabu_cost_pct",
          "tabu_cost_pct",
          "tabu_cost_pct",
          "tabu_cost_pct",
          "tabu_cost_pct",
          "tabu_cost_pct",
          "tabu_cost_pct",
          "tabu_cost_pct",
          "tabu_cost_pct",
          "tabu_cost_pct",
          "tabu_cost_pct",
          "tabu_cost_pct",
          "tabu_cost_pct",
          "tabu_cost_pct",
          "tabu_cost_pct",
          "tabu_cost_pct",
          "tabu_cost_pct",
          "tabu_cost_pct",
          "tabu_cost_pct",
          "tabu_cost_pct",
          "tabu_cost_pct",
          "tabu_cost_pct",
          "tabu_cost_pct",
          "tabu_cost_pct",
          "tabu_cost_pct",
          "tabu_cost_pct",
          "tabu_cost_pct",
          "tabu_cost_pct",
          "tabu_cost_pct",
          "tabu_cost_pct",
          "tabu_cost_pct",
          "tabu_cost_pct",
          "tabu_cost_pct",
          "tabu_cost_pct",
          "tabu_cost_pct",
          "tabu_cost_pct",
          "tabu_cost_pct",
          "tabu_cost_pct",
          "tabu_cost_pct",
          "tabu_cost_pct",
          "tabu_cost_pct",
          "tabu_cost_pct",
          "tabu_cost_pct",
          "tabu_cost_pct",
          "tabu_cost_pct",
          "tabu_cost_pct",
          "tabu_cost_pct",
          "tabu_cost_pct",
          "tabu_cost_pct",
          "tabu_cost_pct",
          "tabu_cost_pct",
          "tabu_cost_pct",
          "tabu_cost_pct",
          "tabu_cost_pct",
          "tabu_cost_pct",
          "tabu_cost_pct",
          "tabu_cost_pct",
          "tabu_cost_pct",
          "tabu_cost_pct",
          "tabu_cost_pct",
          "tabu_cost_pct",
          "grasp_cost_pct",
          "grasp_cost_pct",
          "grasp_cost_pct",
          "grasp_cost_pct",
          "grasp_cost_pct",
          "grasp_cost_pct",
          "grasp_cost_pct",
          "grasp_cost_pct",
          "grasp_cost_pct",
          "grasp_cost_pct",
          "grasp_cost_pct",
          "grasp_cost_pct",
          "grasp_cost_pct",
          "grasp_cost_pct",
          "grasp_cost_pct",
          "grasp_cost_pct",
          "grasp_cost_pct",
          "grasp_cost_pct",
          "grasp_cost_pct",
          "grasp_cost_pct",
          "grasp_cost_pct",
          "grasp_cost_pct",
          "grasp_cost_pct",
          "grasp_cost_pct",
          "grasp_cost_pct",
          "grasp_cost_pct",
          "grasp_cost_pct",
          "grasp_cost_pct",
          "grasp_cost_pct",
          "grasp_cost_pct",
          "grasp_cost_pct",
          "grasp_cost_pct",
          "grasp_cost_pct",
          "grasp_cost_pct",
          "grasp_cost_pct",
          "grasp_cost_pct",
          "grasp_cost_pct",
          "grasp_cost_pct",
          "grasp_cost_pct",
          "grasp_cost_pct",
          "grasp_cost_pct",
          "grasp_cost_pct",
          "grasp_cost_pct",
          "grasp_cost_pct",
          "grasp_cost_pct",
          "grasp_cost_pct",
          "grasp_cost_pct",
          "grasp_cost_pct",
          "grasp_cost_pct",
          "grasp_cost_pct",
          "grasp_cost_pct",
          "grasp_cost_pct",
          "grasp_cost_pct",
          "grasp_cost_pct",
          "grasp_cost_pct",
          "grasp_cost_pct",
          "grasp_cost_pct",
          "grasp_cost_pct",
          "grasp_cost_pct",
          "grasp_cost_pct",
          "grasp_cost_pct",
          "grasp_cost_pct",
          "grasp_cost_pct",
          "grasp_cost_pct",
          "grasp_cost_pct",
          "grasp_cost_pct",
          "grasp_cost_pct",
          "grasp_cost_pct",
          "grasp_cost_pct",
          "grasp_cost_pct",
          "grasp_cost_pct",
          "grasp_cost_pct",
          "grasp_cost_pct",
          "grasp_cost_pct",
          "grasp_cost_pct",
          "grasp_cost_pct",
          "grasp_cost_pct",
          "grasp_cost_pct",
          "grasp_cost_pct",
          "grasp_cost_pct",
          "grasp_cost_pct",
          "grasp_cost_pct",
          "grasp_cost_pct",
          "grasp_cost_pct",
          "grasp_cost_pct",
          "grasp_cost_pct",
          "grasp_cost_pct",
          "grasp_cost_pct",
          "grasp_cost_pct",
          "grasp_cost_pct",
          "grasp_cost_pct",
          "grasp_cost_pct",
          "grasp_cost_pct",
          "grasp_cost_pct",
          "grasp_cost_pct",
          "grasp_cost_pct",
          "grasp_cost_pct",
          "grasp_cost_pct",
          "grasp_cost_pct",
          "grasp_cost_pct",
          "grasp_cost_pct",
          "grasp_cost_pct",
          "grasp_cost_pct",
          "grasp_cost_pct",
          "grasp_cost_pct",
          "grasp_cost_pct",
          "grasp_cost_pct",
          "grasp_cost_pct",
          "grasp_cost_pct",
          "grasp_cost_pct",
          "grasp_cost_pct",
          "grasp_cost_pct",
          "grasp_cost_pct",
          "grasp_cost_pct",
          "grasp_cost_pct",
          "grasp_cost_pct",
          "grasp_cost_pct",
          "grasp_cost_pct",
          "grasp_cost_pct",
          "grasp_cost_pct",
          "grasp_cost_pct",
          "grasp_cost_pct",
          "grasp_cost_pct",
          "grasp_cost_pct",
          "grasp_cost_pct",
          "grasp_cost_pct",
          "grasp_cost_pct",
          "grasp_cost_pct",
          "grasp_cost_pct",
          "grasp_cost_pct",
          "grasp_cost_pct",
          "grasp_cost_pct",
          "grasp_cost_pct",
          "grasp_cost_pct",
          "grasp_cost_pct",
          "grasp_cost_pct",
          "grasp_cost_pct",
          "grasp_cost_pct",
          "grasp_cost_pct",
          "grasp_cost_pct",
          "grasp_cost_pct",
          "grasp_cost_pct",
          "grasp_cost_pct",
          "grasp_cost_pct",
          "grasp_cost_pct",
          "grasp_cost_pct",
          "grasp_cost_pct",
          "grasp_cost_pct",
          "grasp_cost_pct",
          "grasp_cost_pct",
          "grasp_cost_pct",
          "grasp_cost_pct",
          "grasp_cost_pct",
          "grasp_cost_pct",
          "grasp_cost_pct",
          "grasp_cost_pct",
          "grasp_cost_pct",
          "grasp_cost_pct",
          "grasp_cost_pct",
          "grasp_cost_pct",
          "grasp_cost_pct",
          "grasp_cost_pct",
          "grasp_cost_pct",
          "grasp_cost_pct",
          "grasp_cost_pct",
          "grasp_cost_pct",
          "grasp_cost_pct",
          "grasp_cost_pct",
          "grasp_cost_pct",
          "grasp_cost_pct",
          "grasp_cost_pct",
          "grasp_cost_pct",
          "grasp_cost_pct",
          "grasp_cost_pct",
          "grasp_cost_pct",
          "grasp_cost_pct",
          "grasp_cost_pct",
          "grasp_cost_pct",
          "grasp_cost_pct",
          "grasp_cost_pct",
          "grasp_cost_pct",
          "grasp_cost_pct",
          "grasp_cost_pct",
          "grasp_cost_pct",
          "grasp_cost_pct",
          "grasp_cost_pct",
          "grasp_cost_pct",
          "grasp_cost_pct",
          "grasp_cost_pct",
          "grasp_cost_pct",
          "grasp_cost_pct",
          "grasp_cost_pct",
          "grasp_cost_pct",
          "grasp_cost_pct",
          "grasp_cost_pct",
          "grasp_cost_pct",
          "grasp_cost_pct",
          "grasp_cost_pct",
          "grasp_cost_pct",
          "grasp_cost_pct",
          "grasp_cost_pct",
          "grasp_cost_pct",
          "grasp_cost_pct",
          "grasp_cost_pct",
          "grasp_cost_pct",
          "grasp_cost_pct",
          "grasp_cost_pct",
          "grasp_cost_pct",
          "grasp_cost_pct",
          "grasp_cost_pct",
          "grasp_cost_pct",
          "grasp_cost_pct",
          "grasp_cost_pct",
          "grasp_cost_pct",
          "grasp_cost_pct",
          "grasp_cost_pct",
          "grasp_cost_pct",
          "grasp_cost_pct",
          "grasp_cost_pct",
          "grasp_cost_pct"
         ],
         "x0": " ",
         "xaxis": "x",
         "y": [
          1.237172993266194,
          1.3649160459537937,
          1.2146819107991849,
          1.2893029346984939,
          1.194099822765994,
          1.2222098151973648,
          1.2514477646513782,
          1.0871188550093343,
          1.1307714204383719,
          1.1690563521173725,
          1.2469751362850685,
          1.2283698734352306,
          1.169668183917145,
          1.3356543981810431,
          1.1472643010306427,
          1.2317343685013171,
          1.336118522679399,
          1.4133700021155067,
          1.2863039141500998,
          1.291045796308954,
          1.163449362201563,
          1.2068740685543964,
          1.195902462065301,
          1.2042614595806085,
          1.20764312267658,
          1.1053804904500812,
          1.297322077839957,
          1.1768969354305134,
          1.1980707776068173,
          1.1669013671302,
          1.1948155067725361,
          1.1924783027965284,
          1.2424623115577889,
          1.1532213145191237,
          1.1357472590882862,
          1.1280619427498826,
          1.2451489868891537,
          1.2439478584729982,
          1.109738337952741,
          1.1807356809895233,
          1.137231397620316,
          1.1405696314670446,
          1.0626118868600072,
          1.1285665334094803,
          1.069023075361469,
          1.2871851659873241,
          1.220522092891852,
          1.094606426757727,
          1.153448044091948,
          1.135636972963181,
          1.087760505637171,
          1.047130975384357,
          1.1451005300275965,
          1.0893090813923056,
          1.1096281373289683,
          1.1826569470133828,
          1.105020370330452,
          1.0947984061013754,
          1.0812822946325003,
          1.1318046744926131,
          1.232842116948353,
          1.1405834087977826,
          1.224571866280024,
          1.184224801996311,
          1.1242448933719198,
          1.1327326667399187,
          1.1186364596535698,
          1.1001650303488015,
          1.166275700289775,
          1.0968662502692226,
          1.1286588715373147,
          1.2282344779743324,
          1.163798127355375,
          1.2219051966826449,
          1.1399707512315271,
          1.0876583652366105,
          1.1931682978315103,
          1.0997253825029423,
          1.2608967837858986,
          1.2174478141000393,
          1.1452644793703677,
          1.0681754221388369,
          1.0887708094669364,
          1.1488970148897015,
          1.1110928048579565,
          1.0277896842406058,
          1.1670268238831212,
          1.1644090305444887,
          1.0764187151603766,
          1.1481795293889803,
          1.1633793639257162,
          1.1851423106928052,
          1.1624039928624996,
          1.0999273528896014,
          1.0741414042155948,
          1.164106234503208,
          1.1680782597502897,
          1.1560979397453153,
          1.1820321293359255,
          1.1283832754354834,
          1.151494230200217,
          1.2913324063179663,
          1.1781151832460732,
          1.2354282990603296,
          1.2325963149078727,
          1.1464880932500585,
          1.220515018629035,
          1.1607905982905984,
          1.2003588111840768,
          1.2209192092974264,
          1.323376512698142,
          1.4610515846105159,
          1.3146630430166886,
          1.5114956379235551,
          1.3047213880547215,
          1.4171980584372323,
          1.3466950187757318,
          1.558314485200118,
          1.2300902628005432,
          1.388904134650567,
          1.1654686398872445,
          1.2646750157419715,
          1.1381560482739264,
          1.1174956469074115,
          1.2487259575867171,
          1.2879867559202476,
          1.1337763652123665,
          1.3591011235955057,
          1.0686588402703665,
          1.1445947792811262,
          1.1218603731294086,
          1.1415801235703957,
          1.1241938700884249,
          1.168920521945433,
          1.122550625860148,
          1.0922473365966023,
          1.0861967790311013,
          1.1534603473811769,
          1.2222111652900787,
          1.0761468203742346,
          1.1618064657055482,
          1.1485839233652644,
          1.0782542113323124,
          1.2077138775726153,
          1.1945173069999486,
          1.1749534965562314,
          1.1380044668363372,
          1.1733485075785008,
          1.2527684425100545,
          1.189029265952343,
          1.1100764963218221,
          1.1736630247268545,
          1.1086453057796555,
          1.1360074113022358,
          1.2029725609756097,
          1.1728970778315635,
          1.1781266216917488,
          1.1094413750767342,
          1.197245424314629,
          1.1318748410073773,
          1.08601756954612,
          1.0404439565800707,
          1.1496896387076236,
          1.0857465120270702,
          1.084390194997243,
          1.0880756820181872,
          1.0689113410035773,
          1.0837360259646591,
          1.1100021037376406,
          1.0263912372270823,
          1.1135970838701568,
          1.1522076372315035,
          1.1309505277250225,
          1.106426313229572,
          1.1848843904360737,
          1.083151976786362,
          1.1093973061883184,
          1.0287303058387396,
          1.0897311108407348,
          1.1160273893112052,
          1.1472459859243964,
          1.1410411875392013,
          1.2552955244277417,
          1.1947340519526417,
          1.1640999533324847,
          1.172484960259957,
          1.2830270645988098,
          1.1493692537951679,
          1.1272218564845293,
          1.1670023723199499,
          1.139498774175974,
          1.1337921727395412,
          1.1583832655681574,
          1.0849383250378706,
          1.1271217423095001,
          1.0441418922512364,
          1.2380021948020663,
          1.307031595227574,
          1.0546386796987661,
          1.1325486596657939,
          1.0918585261679783,
          1.039877300613497,
          1.082892062855998,
          1.1228813559322033,
          1.1218505251654423,
          1.0779908927832207,
          1.1709943725540606,
          1.2264578051430641,
          1.1738832008236573,
          1.0981973295935956,
          1.1006493506493507,
          1.095677622692481,
          1.1441807242257576,
          1.106429840142096,
          1.1091335434765894,
          1.1584888621312461,
          1.1234255947753071,
          1.037349049099718,
          1.1989216473557416,
          1.139345235738886,
          1.0450509504797092,
          1.1011867188486302,
          1.0595992755263755,
          1.043276385499137,
          1.0177805728660454,
          1.0050248450672772,
          1.0360203845262914,
          1.029020761441421,
          1.0287503558212354,
          1.0923085472935423,
          1.0828347294242786,
          1.0361712428245384,
          1.0212415066956924,
          1.0309791104163706,
          1.0566507574185515,
          1.0164979897407458,
          1.0538547956747648,
          1.025315563077357,
          1.0293045332599573,
          1.085099111414901,
          1.0452172838743552,
          1.0601092896174864,
          1.0467910491822636,
          1.0517638389978816,
          1,
          1.0263601855757065,
          1.084321350659205,
          1,
          1.0833826488341816,
          1.01417004048583,
          1.0423166744511911,
          1.0379942140790743,
          1.069192114418245,
          1.0224192350538432,
          1.1080977110982881,
          1.0299859221022993,
          1.014207389749702,
          1.0277467411545624,
          1.035843472541927,
          1.0508146028522638,
          1.0338083821701296,
          1.0111180014174344,
          1.011076799140709,
          1.0306796116504855,
          1.0186993887172084,
          1.0428339184317792,
          1.0205220928918521,
          1.0080772261623325,
          1.0175650849128468,
          1.0177528191657987,
          1,
          1.03625136520205,
          1.0659468220246178,
          1.0449707755386897,
          1.0361160077226559,
          1,
          1,
          1.0130896782210035,
          1.002109037224507,
          1.0638791123100593,
          1.0361890489273722,
          1,
          1.0399135525523882,
          1.058994249755886,
          1.0577674131100558,
          1.0385397209097902,
          1,
          1,
          1,
          1.010580443678656,
          1,
          1.0365360157243613,
          1.027196083763938,
          1.0520048695122879,
          1.0006542487684729,
          1.0428227493389115,
          1.0457493763193244,
          1.0145939584150647,
          1.0317708740903044,
          1.0204017329657344,
          1.0384828951498033,
          1.007481238273921,
          1,
          1.00052580005258,
          1,
          1,
          1.0435242166580543,
          1.0355668236146325,
          1.0144612994608426,
          1.0225380071656822,
          1.1044585348738127,
          1.0107456526662808,
          1.020843569784582,
          1.013853052431173,
          1,
          1.0142890007924132,
          1.0436607027931524,
          1,
          1.043308093727617,
          1.0594556769050059,
          1.1181904855837197,
          1.0267408278960317,
          1.0035602094240839,
          1.1016614462753642,
          1.0385594639865996,
          1,
          1.0705595304823765,
          1.0471420940170941,
          1.0016248053618577,
          1.031705347424599,
          1,
          1.0376599303765992,
          1,
          1.0430905673109365,
          1.0060477143810478,
          1,
          1.0008596118174005,
          1,
          1.083233485102644,
          1.004024881083059,
          1.0472163495419309,
          1.049814594556776,
          1.0674291327532979,
          1.0080248315542433,
          1.0191517343416077,
          1.061253868854819,
          1.0065732447269575,
          1.0393258426966292,
          1,
          1.00136668033347,
          1.0462456325400489,
          1.0502169054817931,
          1.0142942623495779,
          1.0377224199288255,
          1.0355527885182516,
          1.059350705441981,
          1.0629197365847298,
          1,
          1.0383454406740307,
          1.0665001881435363,
          1.0433049366535605,
          1.019783423573511,
          1.0335885655946913,
          1.033119940743876,
          1.0996759759296404,
          1.048162485546227,
          1.0338129122734119,
          1.0735606021416377,
          1.049363671423062,
          1.0255877178954103,
          1.050248063152235,
          1,
          1.0567022115898506,
          1.0769673752472522,
          1.0105945121951219,
          1.0861444103707834,
          1.095096004151531,
          1.0214855739717619,
          1.087664633028724,
          1.0256168913762402,
          1.0499023914104442,
          1.0116111720941579,
          1,
          1.0192972562096951,
          1.0576971276755727,
          1.0752175613571917,
          1,
          1.0337300156268783,
          1.006170963745588,
          1.0263912372270823,
          1,
          1.0070704057279236,
          1.0055418910924998,
          1.0117035505836576,
          1.023243128579654,
          1.01662435013904,
          1.0593693749612065,
          1.0287303058387396,
          1.0083951818956078,
          1.0188011373527535,
          1.0543638585696826,
          1.00422329082166,
          1.0515886573283224,
          1.0217794663368087,
          1.0791650757286495,
          1.0164668686602556,
          1.1001781137321343,
          1.0624331836647423,
          1.0246872942725478,
          1.0675887381943512,
          1.062489784799782,
          1.0854790823211875,
          1.016584635138027,
          1.0287816489937243,
          1.0421737086749883,
          1.0441418922512364,
          1.0219480206632585,
          1.0934876270437472,
          1.0546386796987661,
          1,
          1.0107070766170319,
          1,
          1.0448235395139822,
          1.0016949152542374,
          1,
          1,
          1.0264518524866455,
          1,
          1.015071784018761,
          1.0174715867589914,
          1.0176565008025682,
          1.0359072489869428,
          1.0349193459082353,
          1.032930728241563,
          1,
          1.0030102347983143,
          1.0383688384388121,
          1.0094728469159013,
          1.0597300294443808,
          1.0950477019912117,
          1.0946308324891245,
          1.0579472288852418,
          1.1077654516640254,
          1.0695279480921482,
          1.052541306957864,
          1.0596281614650216,
          1.0394371091035441,
          1.0612094812468178,
          1.0888699117563336,
          1.0959764365899745,
          1.0854939502725702,
          1.0773220831316135,
          1.0855597334916551,
          1.0986926246980246,
          1.1117797606695718,
          1.1272702065714681,
          1.111079904507794,
          1.122417318947888,
          1.1041480360459517,
          1.0959671907040327,
          1.0913302653117953,
          1.0890461997019374,
          1.0736848320245616,
          1.1020846765527617,
          1.067271375464684,
          1.0623305416641562,
          1.1184356128869075,
          1.065772457971189,
          1.08092673689194,
          1.0203896027694654,
          1.0787015413358243,
          1.0593539054966248,
          1.065326633165829,
          1.1180375046416635,
          1.1106462781304096,
          1.0990145471609574,
          1.124481525625745,
          1.0753258845437617,
          1.102879691830695,
          1.0997369271241981,
          1.0088350204226604,
          1.0370526222537209,
          1.0402568922305764,
          1.0606053683609367,
          1.0186993887172084,
          1.067078198996301,
          1.0413154028703808,
          1.0080772261623325,
          1.0276022762916162,
          1.0292559213803723,
          1.0171677485480013,
          1.0269679912627068,
          1.0428840509877788,
          1.0522987001657507,
          1.05622009569378,
          1.012947448591013,
          1.0367097066241298,
          1.0159604096148078,
          1.0396077190762416,
          1.026470526249236,
          1.041878278244942,
          1.0816113718064817,
          1.0720304207473874,
          1.064771617663014,
          1.0233766963558202,
          1.055900450499945,
          1.0160804816223068,
          1.090878576823026,
          1.0767489995860355,
          1.0260068920956278,
          1.094757906301499,
          1.1101090684857595,
          1.1127860445238742,
          1.1036673514418323,
          1.0786253078817734,
          1.0595571693570667,
          1.060065246593744,
          1.0734013338564143,
          1.0580640112684874,
          1.0764868058290666,
          1.0199657178725767,
          1.0048076923076923,
          1.0219611475369879,
          1.0582443058244306,
          1.02518417398263,
          1.0238605515073582,
          1.056419410908066,
          1.0616684776047325,
          1.0351366170154437,
          1,
          1.0641086689556654,
          1.0331932455897526,
          1.0233778996095064,
          1.0553621082692453,
          1.0522036063479585,
          1.035837529715498,
          1.0553739219976832,
          1.04319805362874,
          1.0666632559091374,
          1.0409117036962987,
          1.07380741032975,
          1.0897065639818875,
          1.043734729493892,
          1.0722797221843934,
          1.0327638190954773,
          1.0578804983133496,
          1.0534801674964556,
          1.0771233974358974,
          1.0564281362128496,
          1.105298269021453,
          1.0776376342253282,
          1.0504995705049958,
          1,
          1.0615028678845135,
          1.0267350684017351,
          1.0101836870657657,
          1.0525720490431163,
          1.0705084079063822,
          1.0428149213195943,
          1.0900109769484083,
          1.0688513037350247,
          1.0405093402364793,
          1.107634016278417,
          1.0784313725490196,
          1.1274042413282919,
          1.0635571870726266,
          1.0764952325917365,
          1.1277902621722846,
          1.0498043400924937,
          1.033893672270056,
          1.009427121102248,
          1.048968055738136,
          1.0093743767036767,
          1.0717166581935265,
          1.0360115341765515,
          1,
          1.028688791810654,
          1.075770836138414,
          1.008989285832753,
          1.057332466732802,
          1.109600262123198,
          1.030716368179925,
          1.0233282286881062,
          1.0539653986561557,
          1.0586329270174355,
          1.0763661957669297,
          1.055316054640835,
          1.0715431172727743,
          1.0760839623161258,
          1.0492563569486646,
          1,
          1.058340739191803,
          1.0567022115898506,
          1.042014071458975,
          1.003734756097561,
          1.0431609093443495,
          1.0514270887389725,
          1.030841006752609,
          1.0886858160299546,
          1,
          1.0406539775500243,
          1,
          1.0848320865828427,
          1,
          1.0329089177402375,
          1,
          1.0247026974765543,
          1.0364947710061305,
          1.0246604801196793,
          1,
          1.0260189171354053,
          1.0070704057279236,
          1.0209221955851677,
          1.0053501945525292,
          1.0227885693505865,
          1.0126345061056705,
          1.0913971820495314,
          1.0140512421896022,
          1.0083951818956078,
          1.0170893054024255,
          1.0376754182645709,
          1.0402676144679073,
          1.0547915954902631,
          1.0293338045591094,
          1.0837469772177677,
          1.0462828788477583,
          1.062296363873322,
          1.0512294205687407,
          1.0383475971033576,
          1.0891186607582473,
          1.0560882593298828,
          1.0290418353576247,
          1.0327412796918467,
          1.058699415710885,
          1.0354885882905938,
          1.0314045631016326,
          1.0219480206632585,
          1.025823022536456,
          1.0546386796987661,
          1.0441648894527982,
          1,
          1.0172510834693533,
          1.0456536050605376,
          1.0016949152542374,
          1.0296885435006982,
          1.0038360700979716,
          1.0264518524866455,
          1.0320234214656525,
          1.0098381284676543,
          1.0174715867589914,
          1.0141543849409018,
          1.0178973435389465,
          1.0412314052637408,
          1.03044404973357,
          1.0413239025140308,
          1.000526791089705,
          1.0658140258124709,
          1.025309132981416,
          1.0951015257542733,
          1
         ],
         "y0": " ",
         "yaxis": "y"
        }
       ],
       "layout": {
        "boxmode": "group",
        "legend": {
         "tracegroupgap": 0
        },
        "margin": {
         "t": 60
        },
        "template": {
         "data": {
          "bar": [
           {
            "error_x": {
             "color": "#2a3f5f"
            },
            "error_y": {
             "color": "#2a3f5f"
            },
            "marker": {
             "line": {
              "color": "#E5ECF6",
              "width": 0.5
             }
            },
            "type": "bar"
           }
          ],
          "barpolar": [
           {
            "marker": {
             "line": {
              "color": "#E5ECF6",
              "width": 0.5
             }
            },
            "type": "barpolar"
           }
          ],
          "carpet": [
           {
            "aaxis": {
             "endlinecolor": "#2a3f5f",
             "gridcolor": "white",
             "linecolor": "white",
             "minorgridcolor": "white",
             "startlinecolor": "#2a3f5f"
            },
            "baxis": {
             "endlinecolor": "#2a3f5f",
             "gridcolor": "white",
             "linecolor": "white",
             "minorgridcolor": "white",
             "startlinecolor": "#2a3f5f"
            },
            "type": "carpet"
           }
          ],
          "choropleth": [
           {
            "colorbar": {
             "outlinewidth": 0,
             "ticks": ""
            },
            "type": "choropleth"
           }
          ],
          "contour": [
           {
            "colorbar": {
             "outlinewidth": 0,
             "ticks": ""
            },
            "colorscale": [
             [
              0,
              "#0d0887"
             ],
             [
              0.1111111111111111,
              "#46039f"
             ],
             [
              0.2222222222222222,
              "#7201a8"
             ],
             [
              0.3333333333333333,
              "#9c179e"
             ],
             [
              0.4444444444444444,
              "#bd3786"
             ],
             [
              0.5555555555555556,
              "#d8576b"
             ],
             [
              0.6666666666666666,
              "#ed7953"
             ],
             [
              0.7777777777777778,
              "#fb9f3a"
             ],
             [
              0.8888888888888888,
              "#fdca26"
             ],
             [
              1,
              "#f0f921"
             ]
            ],
            "type": "contour"
           }
          ],
          "contourcarpet": [
           {
            "colorbar": {
             "outlinewidth": 0,
             "ticks": ""
            },
            "type": "contourcarpet"
           }
          ],
          "heatmap": [
           {
            "colorbar": {
             "outlinewidth": 0,
             "ticks": ""
            },
            "colorscale": [
             [
              0,
              "#0d0887"
             ],
             [
              0.1111111111111111,
              "#46039f"
             ],
             [
              0.2222222222222222,
              "#7201a8"
             ],
             [
              0.3333333333333333,
              "#9c179e"
             ],
             [
              0.4444444444444444,
              "#bd3786"
             ],
             [
              0.5555555555555556,
              "#d8576b"
             ],
             [
              0.6666666666666666,
              "#ed7953"
             ],
             [
              0.7777777777777778,
              "#fb9f3a"
             ],
             [
              0.8888888888888888,
              "#fdca26"
             ],
             [
              1,
              "#f0f921"
             ]
            ],
            "type": "heatmap"
           }
          ],
          "heatmapgl": [
           {
            "colorbar": {
             "outlinewidth": 0,
             "ticks": ""
            },
            "colorscale": [
             [
              0,
              "#0d0887"
             ],
             [
              0.1111111111111111,
              "#46039f"
             ],
             [
              0.2222222222222222,
              "#7201a8"
             ],
             [
              0.3333333333333333,
              "#9c179e"
             ],
             [
              0.4444444444444444,
              "#bd3786"
             ],
             [
              0.5555555555555556,
              "#d8576b"
             ],
             [
              0.6666666666666666,
              "#ed7953"
             ],
             [
              0.7777777777777778,
              "#fb9f3a"
             ],
             [
              0.8888888888888888,
              "#fdca26"
             ],
             [
              1,
              "#f0f921"
             ]
            ],
            "type": "heatmapgl"
           }
          ],
          "histogram": [
           {
            "marker": {
             "colorbar": {
              "outlinewidth": 0,
              "ticks": ""
             }
            },
            "type": "histogram"
           }
          ],
          "histogram2d": [
           {
            "colorbar": {
             "outlinewidth": 0,
             "ticks": ""
            },
            "colorscale": [
             [
              0,
              "#0d0887"
             ],
             [
              0.1111111111111111,
              "#46039f"
             ],
             [
              0.2222222222222222,
              "#7201a8"
             ],
             [
              0.3333333333333333,
              "#9c179e"
             ],
             [
              0.4444444444444444,
              "#bd3786"
             ],
             [
              0.5555555555555556,
              "#d8576b"
             ],
             [
              0.6666666666666666,
              "#ed7953"
             ],
             [
              0.7777777777777778,
              "#fb9f3a"
             ],
             [
              0.8888888888888888,
              "#fdca26"
             ],
             [
              1,
              "#f0f921"
             ]
            ],
            "type": "histogram2d"
           }
          ],
          "histogram2dcontour": [
           {
            "colorbar": {
             "outlinewidth": 0,
             "ticks": ""
            },
            "colorscale": [
             [
              0,
              "#0d0887"
             ],
             [
              0.1111111111111111,
              "#46039f"
             ],
             [
              0.2222222222222222,
              "#7201a8"
             ],
             [
              0.3333333333333333,
              "#9c179e"
             ],
             [
              0.4444444444444444,
              "#bd3786"
             ],
             [
              0.5555555555555556,
              "#d8576b"
             ],
             [
              0.6666666666666666,
              "#ed7953"
             ],
             [
              0.7777777777777778,
              "#fb9f3a"
             ],
             [
              0.8888888888888888,
              "#fdca26"
             ],
             [
              1,
              "#f0f921"
             ]
            ],
            "type": "histogram2dcontour"
           }
          ],
          "mesh3d": [
           {
            "colorbar": {
             "outlinewidth": 0,
             "ticks": ""
            },
            "type": "mesh3d"
           }
          ],
          "parcoords": [
           {
            "line": {
             "colorbar": {
              "outlinewidth": 0,
              "ticks": ""
             }
            },
            "type": "parcoords"
           }
          ],
          "pie": [
           {
            "automargin": true,
            "type": "pie"
           }
          ],
          "scatter": [
           {
            "marker": {
             "colorbar": {
              "outlinewidth": 0,
              "ticks": ""
             }
            },
            "type": "scatter"
           }
          ],
          "scatter3d": [
           {
            "line": {
             "colorbar": {
              "outlinewidth": 0,
              "ticks": ""
             }
            },
            "marker": {
             "colorbar": {
              "outlinewidth": 0,
              "ticks": ""
             }
            },
            "type": "scatter3d"
           }
          ],
          "scattercarpet": [
           {
            "marker": {
             "colorbar": {
              "outlinewidth": 0,
              "ticks": ""
             }
            },
            "type": "scattercarpet"
           }
          ],
          "scattergeo": [
           {
            "marker": {
             "colorbar": {
              "outlinewidth": 0,
              "ticks": ""
             }
            },
            "type": "scattergeo"
           }
          ],
          "scattergl": [
           {
            "marker": {
             "colorbar": {
              "outlinewidth": 0,
              "ticks": ""
             }
            },
            "type": "scattergl"
           }
          ],
          "scattermapbox": [
           {
            "marker": {
             "colorbar": {
              "outlinewidth": 0,
              "ticks": ""
             }
            },
            "type": "scattermapbox"
           }
          ],
          "scatterpolar": [
           {
            "marker": {
             "colorbar": {
              "outlinewidth": 0,
              "ticks": ""
             }
            },
            "type": "scatterpolar"
           }
          ],
          "scatterpolargl": [
           {
            "marker": {
             "colorbar": {
              "outlinewidth": 0,
              "ticks": ""
             }
            },
            "type": "scatterpolargl"
           }
          ],
          "scatterternary": [
           {
            "marker": {
             "colorbar": {
              "outlinewidth": 0,
              "ticks": ""
             }
            },
            "type": "scatterternary"
           }
          ],
          "surface": [
           {
            "colorbar": {
             "outlinewidth": 0,
             "ticks": ""
            },
            "colorscale": [
             [
              0,
              "#0d0887"
             ],
             [
              0.1111111111111111,
              "#46039f"
             ],
             [
              0.2222222222222222,
              "#7201a8"
             ],
             [
              0.3333333333333333,
              "#9c179e"
             ],
             [
              0.4444444444444444,
              "#bd3786"
             ],
             [
              0.5555555555555556,
              "#d8576b"
             ],
             [
              0.6666666666666666,
              "#ed7953"
             ],
             [
              0.7777777777777778,
              "#fb9f3a"
             ],
             [
              0.8888888888888888,
              "#fdca26"
             ],
             [
              1,
              "#f0f921"
             ]
            ],
            "type": "surface"
           }
          ],
          "table": [
           {
            "cells": {
             "fill": {
              "color": "#EBF0F8"
             },
             "line": {
              "color": "white"
             }
            },
            "header": {
             "fill": {
              "color": "#C8D4E3"
             },
             "line": {
              "color": "white"
             }
            },
            "type": "table"
           }
          ]
         },
         "layout": {
          "annotationdefaults": {
           "arrowcolor": "#2a3f5f",
           "arrowhead": 0,
           "arrowwidth": 1
          },
          "coloraxis": {
           "colorbar": {
            "outlinewidth": 0,
            "ticks": ""
           }
          },
          "colorscale": {
           "diverging": [
            [
             0,
             "#8e0152"
            ],
            [
             0.1,
             "#c51b7d"
            ],
            [
             0.2,
             "#de77ae"
            ],
            [
             0.3,
             "#f1b6da"
            ],
            [
             0.4,
             "#fde0ef"
            ],
            [
             0.5,
             "#f7f7f7"
            ],
            [
             0.6,
             "#e6f5d0"
            ],
            [
             0.7,
             "#b8e186"
            ],
            [
             0.8,
             "#7fbc41"
            ],
            [
             0.9,
             "#4d9221"
            ],
            [
             1,
             "#276419"
            ]
           ],
           "sequential": [
            [
             0,
             "#0d0887"
            ],
            [
             0.1111111111111111,
             "#46039f"
            ],
            [
             0.2222222222222222,
             "#7201a8"
            ],
            [
             0.3333333333333333,
             "#9c179e"
            ],
            [
             0.4444444444444444,
             "#bd3786"
            ],
            [
             0.5555555555555556,
             "#d8576b"
            ],
            [
             0.6666666666666666,
             "#ed7953"
            ],
            [
             0.7777777777777778,
             "#fb9f3a"
            ],
            [
             0.8888888888888888,
             "#fdca26"
            ],
            [
             1,
             "#f0f921"
            ]
           ],
           "sequentialminus": [
            [
             0,
             "#0d0887"
            ],
            [
             0.1111111111111111,
             "#46039f"
            ],
            [
             0.2222222222222222,
             "#7201a8"
            ],
            [
             0.3333333333333333,
             "#9c179e"
            ],
            [
             0.4444444444444444,
             "#bd3786"
            ],
            [
             0.5555555555555556,
             "#d8576b"
            ],
            [
             0.6666666666666666,
             "#ed7953"
            ],
            [
             0.7777777777777778,
             "#fb9f3a"
            ],
            [
             0.8888888888888888,
             "#fdca26"
            ],
            [
             1,
             "#f0f921"
            ]
           ]
          },
          "colorway": [
           "#636efa",
           "#EF553B",
           "#00cc96",
           "#ab63fa",
           "#FFA15A",
           "#19d3f3",
           "#FF6692",
           "#B6E880",
           "#FF97FF",
           "#FECB52"
          ],
          "font": {
           "color": "#2a3f5f"
          },
          "geo": {
           "bgcolor": "white",
           "lakecolor": "white",
           "landcolor": "#E5ECF6",
           "showlakes": true,
           "showland": true,
           "subunitcolor": "white"
          },
          "hoverlabel": {
           "align": "left"
          },
          "hovermode": "closest",
          "mapbox": {
           "style": "light"
          },
          "paper_bgcolor": "white",
          "plot_bgcolor": "#E5ECF6",
          "polar": {
           "angularaxis": {
            "gridcolor": "white",
            "linecolor": "white",
            "ticks": ""
           },
           "bgcolor": "#E5ECF6",
           "radialaxis": {
            "gridcolor": "white",
            "linecolor": "white",
            "ticks": ""
           }
          },
          "scene": {
           "xaxis": {
            "backgroundcolor": "#E5ECF6",
            "gridcolor": "white",
            "gridwidth": 2,
            "linecolor": "white",
            "showbackground": true,
            "ticks": "",
            "zerolinecolor": "white"
           },
           "yaxis": {
            "backgroundcolor": "#E5ECF6",
            "gridcolor": "white",
            "gridwidth": 2,
            "linecolor": "white",
            "showbackground": true,
            "ticks": "",
            "zerolinecolor": "white"
           },
           "zaxis": {
            "backgroundcolor": "#E5ECF6",
            "gridcolor": "white",
            "gridwidth": 2,
            "linecolor": "white",
            "showbackground": true,
            "ticks": "",
            "zerolinecolor": "white"
           }
          },
          "shapedefaults": {
           "line": {
            "color": "#2a3f5f"
           }
          },
          "ternary": {
           "aaxis": {
            "gridcolor": "white",
            "linecolor": "white",
            "ticks": ""
           },
           "baxis": {
            "gridcolor": "white",
            "linecolor": "white",
            "ticks": ""
           },
           "bgcolor": "#E5ECF6",
           "caxis": {
            "gridcolor": "white",
            "linecolor": "white",
            "ticks": ""
           }
          },
          "title": {
           "x": 0.05
          },
          "xaxis": {
           "automargin": true,
           "gridcolor": "white",
           "linecolor": "white",
           "ticks": "",
           "title": {
            "standoff": 15
           },
           "zerolinecolor": "white",
           "zerolinewidth": 2
          },
          "yaxis": {
           "automargin": true,
           "gridcolor": "white",
           "linecolor": "white",
           "ticks": "",
           "title": {
            "standoff": 15
           },
           "zerolinecolor": "white",
           "zerolinewidth": 2
          }
         }
        },
        "xaxis": {
         "anchor": "y",
         "domain": [
          0,
          1
         ],
         "title": {
          "text": "variable"
         }
        },
        "yaxis": {
         "anchor": "x",
         "domain": [
          0,
          1
         ],
         "title": {
          "text": "value"
         }
        }
       }
      },
      "text/html": [
       "<div>\n",
       "        \n",
       "        \n",
       "            <div id=\"88d53079-5c6c-4a7b-83ba-8bfb01b3349a\" class=\"plotly-graph-div\" style=\"height:525px; width:100%;\"></div>\n",
       "            <script type=\"text/javascript\">\n",
       "                require([\"plotly\"], function(Plotly) {\n",
       "                    window.PLOTLYENV=window.PLOTLYENV || {};\n",
       "                    \n",
       "                if (document.getElementById(\"88d53079-5c6c-4a7b-83ba-8bfb01b3349a\")) {\n",
       "                    Plotly.newPlot(\n",
       "                        '88d53079-5c6c-4a7b-83ba-8bfb01b3349a',\n",
       "                        [{\"alignmentgroup\": \"True\", \"hovertemplate\": \"variable=%{x}<br>value=%{y}<extra></extra>\", \"legendgroup\": \"\", \"marker\": {\"color\": \"#636efa\"}, \"name\": \"\", \"notched\": false, \"offsetgroup\": \"\", \"orientation\": \"v\", \"showlegend\": false, \"type\": \"box\", \"x\": [\"constructive_cost_pct\", \"constructive_cost_pct\", \"constructive_cost_pct\", \"constructive_cost_pct\", \"constructive_cost_pct\", \"constructive_cost_pct\", \"constructive_cost_pct\", \"constructive_cost_pct\", \"constructive_cost_pct\", \"constructive_cost_pct\", \"constructive_cost_pct\", \"constructive_cost_pct\", \"constructive_cost_pct\", \"constructive_cost_pct\", \"constructive_cost_pct\", \"constructive_cost_pct\", \"constructive_cost_pct\", \"constructive_cost_pct\", \"constructive_cost_pct\", \"constructive_cost_pct\", \"constructive_cost_pct\", \"constructive_cost_pct\", \"constructive_cost_pct\", \"constructive_cost_pct\", \"constructive_cost_pct\", \"constructive_cost_pct\", \"constructive_cost_pct\", \"constructive_cost_pct\", \"constructive_cost_pct\", \"constructive_cost_pct\", \"constructive_cost_pct\", \"constructive_cost_pct\", \"constructive_cost_pct\", \"constructive_cost_pct\", \"constructive_cost_pct\", \"constructive_cost_pct\", \"constructive_cost_pct\", \"constructive_cost_pct\", \"constructive_cost_pct\", \"constructive_cost_pct\", \"constructive_cost_pct\", \"constructive_cost_pct\", \"constructive_cost_pct\", \"constructive_cost_pct\", \"constructive_cost_pct\", \"constructive_cost_pct\", \"constructive_cost_pct\", \"constructive_cost_pct\", \"constructive_cost_pct\", \"constructive_cost_pct\", \"constructive_cost_pct\", \"constructive_cost_pct\", \"constructive_cost_pct\", \"constructive_cost_pct\", \"constructive_cost_pct\", \"constructive_cost_pct\", \"constructive_cost_pct\", \"constructive_cost_pct\", \"constructive_cost_pct\", \"constructive_cost_pct\", \"constructive_cost_pct\", \"constructive_cost_pct\", \"constructive_cost_pct\", \"constructive_cost_pct\", \"constructive_cost_pct\", \"constructive_cost_pct\", \"constructive_cost_pct\", \"constructive_cost_pct\", \"constructive_cost_pct\", \"constructive_cost_pct\", \"constructive_cost_pct\", \"constructive_cost_pct\", \"constructive_cost_pct\", \"constructive_cost_pct\", \"constructive_cost_pct\", \"constructive_cost_pct\", \"constructive_cost_pct\", \"constructive_cost_pct\", \"constructive_cost_pct\", \"constructive_cost_pct\", \"constructive_cost_pct\", \"constructive_cost_pct\", \"constructive_cost_pct\", \"constructive_cost_pct\", \"constructive_cost_pct\", \"constructive_cost_pct\", \"constructive_cost_pct\", \"constructive_cost_pct\", \"constructive_cost_pct\", \"constructive_cost_pct\", \"constructive_cost_pct\", \"constructive_cost_pct\", \"constructive_cost_pct\", \"constructive_cost_pct\", \"constructive_cost_pct\", \"constructive_cost_pct\", \"constructive_cost_pct\", \"constructive_cost_pct\", \"constructive_cost_pct\", \"constructive_cost_pct\", \"constructive_cost_pct\", \"constructive_cost_pct\", \"constructive_cost_pct\", \"constructive_cost_pct\", \"constructive_cost_pct\", \"constructive_cost_pct\", \"constructive_cost_pct\", \"constructive_cost_pct\", \"constructive_cost_pct\", \"constructive_cost_pct\", \"constructive_cost_pct\", \"constructive_cost_pct\", \"constructive_cost_pct\", \"constructive_cost_pct\", \"constructive_cost_pct\", \"constructive_cost_pct\", \"constructive_cost_pct\", \"constructive_cost_pct\", \"constructive_cost_pct\", \"constructive_cost_pct\", \"constructive_cost_pct\", \"constructive_cost_pct\", \"constructive_cost_pct\", \"constructive_cost_pct\", \"constructive_cost_pct\", \"constructive_cost_pct\", \"constructive_cost_pct\", \"constructive_cost_pct\", \"constructive_cost_pct\", \"constructive_cost_pct\", \"constructive_cost_pct\", \"constructive_cost_pct\", \"constructive_cost_pct\", \"constructive_cost_pct\", \"constructive_cost_pct\", \"constructive_cost_pct\", \"constructive_cost_pct\", \"constructive_cost_pct\", \"constructive_cost_pct\", \"constructive_cost_pct\", \"constructive_cost_pct\", \"constructive_cost_pct\", \"constructive_cost_pct\", \"constructive_cost_pct\", \"constructive_cost_pct\", \"constructive_cost_pct\", \"constructive_cost_pct\", \"constructive_cost_pct\", \"constructive_cost_pct\", \"constructive_cost_pct\", \"constructive_cost_pct\", \"constructive_cost_pct\", \"constructive_cost_pct\", \"constructive_cost_pct\", \"constructive_cost_pct\", \"constructive_cost_pct\", \"constructive_cost_pct\", \"constructive_cost_pct\", \"constructive_cost_pct\", \"constructive_cost_pct\", \"constructive_cost_pct\", \"constructive_cost_pct\", \"constructive_cost_pct\", \"constructive_cost_pct\", \"constructive_cost_pct\", \"constructive_cost_pct\", \"constructive_cost_pct\", \"constructive_cost_pct\", \"constructive_cost_pct\", \"constructive_cost_pct\", \"constructive_cost_pct\", \"constructive_cost_pct\", \"constructive_cost_pct\", \"constructive_cost_pct\", \"constructive_cost_pct\", \"constructive_cost_pct\", \"constructive_cost_pct\", \"constructive_cost_pct\", \"constructive_cost_pct\", \"constructive_cost_pct\", \"constructive_cost_pct\", \"constructive_cost_pct\", \"constructive_cost_pct\", \"constructive_cost_pct\", \"constructive_cost_pct\", \"constructive_cost_pct\", \"constructive_cost_pct\", \"constructive_cost_pct\", \"constructive_cost_pct\", \"constructive_cost_pct\", \"constructive_cost_pct\", \"constructive_cost_pct\", \"constructive_cost_pct\", \"constructive_cost_pct\", \"constructive_cost_pct\", \"constructive_cost_pct\", \"constructive_cost_pct\", \"constructive_cost_pct\", \"constructive_cost_pct\", \"constructive_cost_pct\", \"constructive_cost_pct\", \"constructive_cost_pct\", \"constructive_cost_pct\", \"constructive_cost_pct\", \"constructive_cost_pct\", \"constructive_cost_pct\", \"constructive_cost_pct\", \"constructive_cost_pct\", \"constructive_cost_pct\", \"constructive_cost_pct\", \"constructive_cost_pct\", \"constructive_cost_pct\", \"constructive_cost_pct\", \"constructive_cost_pct\", \"constructive_cost_pct\", \"constructive_cost_pct\", \"constructive_cost_pct\", \"constructive_cost_pct\", \"constructive_cost_pct\", \"constructive_cost_pct\", \"tabu_cost_pct\", \"tabu_cost_pct\", \"tabu_cost_pct\", \"tabu_cost_pct\", \"tabu_cost_pct\", \"tabu_cost_pct\", \"tabu_cost_pct\", \"tabu_cost_pct\", \"tabu_cost_pct\", \"tabu_cost_pct\", \"tabu_cost_pct\", \"tabu_cost_pct\", \"tabu_cost_pct\", \"tabu_cost_pct\", \"tabu_cost_pct\", \"tabu_cost_pct\", \"tabu_cost_pct\", \"tabu_cost_pct\", \"tabu_cost_pct\", \"tabu_cost_pct\", \"tabu_cost_pct\", \"tabu_cost_pct\", \"tabu_cost_pct\", \"tabu_cost_pct\", \"tabu_cost_pct\", \"tabu_cost_pct\", \"tabu_cost_pct\", \"tabu_cost_pct\", \"tabu_cost_pct\", \"tabu_cost_pct\", \"tabu_cost_pct\", \"tabu_cost_pct\", \"tabu_cost_pct\", \"tabu_cost_pct\", \"tabu_cost_pct\", \"tabu_cost_pct\", \"tabu_cost_pct\", \"tabu_cost_pct\", \"tabu_cost_pct\", \"tabu_cost_pct\", \"tabu_cost_pct\", \"tabu_cost_pct\", \"tabu_cost_pct\", \"tabu_cost_pct\", \"tabu_cost_pct\", \"tabu_cost_pct\", \"tabu_cost_pct\", \"tabu_cost_pct\", \"tabu_cost_pct\", \"tabu_cost_pct\", \"tabu_cost_pct\", \"tabu_cost_pct\", \"tabu_cost_pct\", \"tabu_cost_pct\", \"tabu_cost_pct\", \"tabu_cost_pct\", \"tabu_cost_pct\", \"tabu_cost_pct\", \"tabu_cost_pct\", \"tabu_cost_pct\", \"tabu_cost_pct\", \"tabu_cost_pct\", \"tabu_cost_pct\", \"tabu_cost_pct\", \"tabu_cost_pct\", \"tabu_cost_pct\", \"tabu_cost_pct\", \"tabu_cost_pct\", \"tabu_cost_pct\", \"tabu_cost_pct\", \"tabu_cost_pct\", \"tabu_cost_pct\", \"tabu_cost_pct\", \"tabu_cost_pct\", \"tabu_cost_pct\", \"tabu_cost_pct\", \"tabu_cost_pct\", \"tabu_cost_pct\", \"tabu_cost_pct\", \"tabu_cost_pct\", \"tabu_cost_pct\", \"tabu_cost_pct\", \"tabu_cost_pct\", \"tabu_cost_pct\", \"tabu_cost_pct\", \"tabu_cost_pct\", \"tabu_cost_pct\", \"tabu_cost_pct\", \"tabu_cost_pct\", \"tabu_cost_pct\", \"tabu_cost_pct\", \"tabu_cost_pct\", \"tabu_cost_pct\", \"tabu_cost_pct\", \"tabu_cost_pct\", \"tabu_cost_pct\", \"tabu_cost_pct\", \"tabu_cost_pct\", \"tabu_cost_pct\", \"tabu_cost_pct\", \"tabu_cost_pct\", \"tabu_cost_pct\", \"tabu_cost_pct\", \"tabu_cost_pct\", \"tabu_cost_pct\", \"tabu_cost_pct\", \"tabu_cost_pct\", \"tabu_cost_pct\", \"tabu_cost_pct\", \"tabu_cost_pct\", \"tabu_cost_pct\", \"tabu_cost_pct\", \"tabu_cost_pct\", \"tabu_cost_pct\", \"tabu_cost_pct\", \"tabu_cost_pct\", \"tabu_cost_pct\", \"tabu_cost_pct\", \"tabu_cost_pct\", \"tabu_cost_pct\", \"tabu_cost_pct\", \"tabu_cost_pct\", \"tabu_cost_pct\", \"tabu_cost_pct\", \"tabu_cost_pct\", \"tabu_cost_pct\", \"tabu_cost_pct\", \"tabu_cost_pct\", \"tabu_cost_pct\", \"tabu_cost_pct\", \"tabu_cost_pct\", \"tabu_cost_pct\", \"tabu_cost_pct\", \"tabu_cost_pct\", \"tabu_cost_pct\", \"tabu_cost_pct\", \"tabu_cost_pct\", \"tabu_cost_pct\", \"tabu_cost_pct\", \"tabu_cost_pct\", \"tabu_cost_pct\", \"tabu_cost_pct\", \"tabu_cost_pct\", \"tabu_cost_pct\", \"tabu_cost_pct\", \"tabu_cost_pct\", \"tabu_cost_pct\", \"tabu_cost_pct\", \"tabu_cost_pct\", \"tabu_cost_pct\", \"tabu_cost_pct\", \"tabu_cost_pct\", \"tabu_cost_pct\", \"tabu_cost_pct\", \"tabu_cost_pct\", \"tabu_cost_pct\", \"tabu_cost_pct\", \"tabu_cost_pct\", \"tabu_cost_pct\", \"tabu_cost_pct\", \"tabu_cost_pct\", \"tabu_cost_pct\", \"tabu_cost_pct\", \"tabu_cost_pct\", \"tabu_cost_pct\", \"tabu_cost_pct\", \"tabu_cost_pct\", \"tabu_cost_pct\", \"tabu_cost_pct\", \"tabu_cost_pct\", \"tabu_cost_pct\", \"tabu_cost_pct\", \"tabu_cost_pct\", \"tabu_cost_pct\", \"tabu_cost_pct\", \"tabu_cost_pct\", \"tabu_cost_pct\", \"tabu_cost_pct\", \"tabu_cost_pct\", \"tabu_cost_pct\", \"tabu_cost_pct\", \"tabu_cost_pct\", \"tabu_cost_pct\", \"tabu_cost_pct\", \"tabu_cost_pct\", \"tabu_cost_pct\", \"tabu_cost_pct\", \"tabu_cost_pct\", \"tabu_cost_pct\", \"tabu_cost_pct\", \"tabu_cost_pct\", \"tabu_cost_pct\", \"tabu_cost_pct\", \"tabu_cost_pct\", \"tabu_cost_pct\", \"tabu_cost_pct\", \"tabu_cost_pct\", \"tabu_cost_pct\", \"tabu_cost_pct\", \"tabu_cost_pct\", \"tabu_cost_pct\", \"tabu_cost_pct\", \"tabu_cost_pct\", \"tabu_cost_pct\", \"tabu_cost_pct\", \"tabu_cost_pct\", \"tabu_cost_pct\", \"tabu_cost_pct\", \"tabu_cost_pct\", \"tabu_cost_pct\", \"tabu_cost_pct\", \"tabu_cost_pct\", \"tabu_cost_pct\", \"tabu_cost_pct\", \"tabu_cost_pct\", \"tabu_cost_pct\", \"tabu_cost_pct\", \"tabu_cost_pct\", \"tabu_cost_pct\", \"tabu_cost_pct\", \"grasp_cost_pct\", \"grasp_cost_pct\", \"grasp_cost_pct\", \"grasp_cost_pct\", \"grasp_cost_pct\", \"grasp_cost_pct\", \"grasp_cost_pct\", \"grasp_cost_pct\", \"grasp_cost_pct\", \"grasp_cost_pct\", \"grasp_cost_pct\", \"grasp_cost_pct\", \"grasp_cost_pct\", \"grasp_cost_pct\", \"grasp_cost_pct\", \"grasp_cost_pct\", \"grasp_cost_pct\", \"grasp_cost_pct\", \"grasp_cost_pct\", \"grasp_cost_pct\", \"grasp_cost_pct\", \"grasp_cost_pct\", \"grasp_cost_pct\", \"grasp_cost_pct\", \"grasp_cost_pct\", \"grasp_cost_pct\", \"grasp_cost_pct\", \"grasp_cost_pct\", \"grasp_cost_pct\", \"grasp_cost_pct\", \"grasp_cost_pct\", \"grasp_cost_pct\", \"grasp_cost_pct\", \"grasp_cost_pct\", \"grasp_cost_pct\", \"grasp_cost_pct\", \"grasp_cost_pct\", \"grasp_cost_pct\", \"grasp_cost_pct\", \"grasp_cost_pct\", \"grasp_cost_pct\", \"grasp_cost_pct\", \"grasp_cost_pct\", \"grasp_cost_pct\", \"grasp_cost_pct\", \"grasp_cost_pct\", \"grasp_cost_pct\", \"grasp_cost_pct\", \"grasp_cost_pct\", \"grasp_cost_pct\", \"grasp_cost_pct\", \"grasp_cost_pct\", \"grasp_cost_pct\", \"grasp_cost_pct\", \"grasp_cost_pct\", \"grasp_cost_pct\", \"grasp_cost_pct\", \"grasp_cost_pct\", \"grasp_cost_pct\", \"grasp_cost_pct\", \"grasp_cost_pct\", \"grasp_cost_pct\", \"grasp_cost_pct\", \"grasp_cost_pct\", \"grasp_cost_pct\", \"grasp_cost_pct\", \"grasp_cost_pct\", \"grasp_cost_pct\", \"grasp_cost_pct\", \"grasp_cost_pct\", \"grasp_cost_pct\", \"grasp_cost_pct\", \"grasp_cost_pct\", \"grasp_cost_pct\", \"grasp_cost_pct\", \"grasp_cost_pct\", \"grasp_cost_pct\", \"grasp_cost_pct\", \"grasp_cost_pct\", \"grasp_cost_pct\", \"grasp_cost_pct\", \"grasp_cost_pct\", \"grasp_cost_pct\", \"grasp_cost_pct\", \"grasp_cost_pct\", \"grasp_cost_pct\", \"grasp_cost_pct\", \"grasp_cost_pct\", \"grasp_cost_pct\", \"grasp_cost_pct\", \"grasp_cost_pct\", \"grasp_cost_pct\", \"grasp_cost_pct\", \"grasp_cost_pct\", \"grasp_cost_pct\", \"grasp_cost_pct\", \"grasp_cost_pct\", \"grasp_cost_pct\", \"grasp_cost_pct\", \"grasp_cost_pct\", \"grasp_cost_pct\", \"grasp_cost_pct\", \"grasp_cost_pct\", \"grasp_cost_pct\", \"grasp_cost_pct\", \"grasp_cost_pct\", \"grasp_cost_pct\", \"grasp_cost_pct\", \"grasp_cost_pct\", \"grasp_cost_pct\", \"grasp_cost_pct\", \"grasp_cost_pct\", \"grasp_cost_pct\", \"grasp_cost_pct\", \"grasp_cost_pct\", \"grasp_cost_pct\", \"grasp_cost_pct\", \"grasp_cost_pct\", \"grasp_cost_pct\", \"grasp_cost_pct\", \"grasp_cost_pct\", \"grasp_cost_pct\", \"grasp_cost_pct\", \"grasp_cost_pct\", \"grasp_cost_pct\", \"grasp_cost_pct\", \"grasp_cost_pct\", \"grasp_cost_pct\", \"grasp_cost_pct\", \"grasp_cost_pct\", \"grasp_cost_pct\", \"grasp_cost_pct\", \"grasp_cost_pct\", \"grasp_cost_pct\", \"grasp_cost_pct\", \"grasp_cost_pct\", \"grasp_cost_pct\", \"grasp_cost_pct\", \"grasp_cost_pct\", \"grasp_cost_pct\", \"grasp_cost_pct\", \"grasp_cost_pct\", \"grasp_cost_pct\", \"grasp_cost_pct\", \"grasp_cost_pct\", \"grasp_cost_pct\", \"grasp_cost_pct\", \"grasp_cost_pct\", \"grasp_cost_pct\", \"grasp_cost_pct\", \"grasp_cost_pct\", \"grasp_cost_pct\", \"grasp_cost_pct\", \"grasp_cost_pct\", \"grasp_cost_pct\", \"grasp_cost_pct\", \"grasp_cost_pct\", \"grasp_cost_pct\", \"grasp_cost_pct\", \"grasp_cost_pct\", \"grasp_cost_pct\", \"grasp_cost_pct\", \"grasp_cost_pct\", \"grasp_cost_pct\", \"grasp_cost_pct\", \"grasp_cost_pct\", \"grasp_cost_pct\", \"grasp_cost_pct\", \"grasp_cost_pct\", \"grasp_cost_pct\", \"grasp_cost_pct\", \"grasp_cost_pct\", \"grasp_cost_pct\", \"grasp_cost_pct\", \"grasp_cost_pct\", \"grasp_cost_pct\", \"grasp_cost_pct\", \"grasp_cost_pct\", \"grasp_cost_pct\", \"grasp_cost_pct\", \"grasp_cost_pct\", \"grasp_cost_pct\", \"grasp_cost_pct\", \"grasp_cost_pct\", \"grasp_cost_pct\", \"grasp_cost_pct\", \"grasp_cost_pct\", \"grasp_cost_pct\", \"grasp_cost_pct\", \"grasp_cost_pct\", \"grasp_cost_pct\", \"grasp_cost_pct\", \"grasp_cost_pct\", \"grasp_cost_pct\", \"grasp_cost_pct\", \"grasp_cost_pct\", \"grasp_cost_pct\", \"grasp_cost_pct\", \"grasp_cost_pct\", \"grasp_cost_pct\", \"grasp_cost_pct\", \"grasp_cost_pct\", \"grasp_cost_pct\", \"grasp_cost_pct\", \"grasp_cost_pct\", \"grasp_cost_pct\", \"grasp_cost_pct\", \"grasp_cost_pct\", \"grasp_cost_pct\", \"grasp_cost_pct\", \"grasp_cost_pct\", \"grasp_cost_pct\", \"grasp_cost_pct\", \"grasp_cost_pct\", \"grasp_cost_pct\", \"grasp_cost_pct\", \"grasp_cost_pct\", \"grasp_cost_pct\", \"grasp_cost_pct\", \"grasp_cost_pct\"], \"x0\": \" \", \"xaxis\": \"x\", \"y\": [1.237172993266194, 1.3649160459537937, 1.2146819107991849, 1.2893029346984939, 1.194099822765994, 1.2222098151973648, 1.2514477646513782, 1.0871188550093343, 1.1307714204383719, 1.1690563521173725, 1.2469751362850685, 1.2283698734352306, 1.169668183917145, 1.3356543981810431, 1.1472643010306427, 1.2317343685013171, 1.336118522679399, 1.4133700021155067, 1.2863039141500998, 1.291045796308954, 1.163449362201563, 1.2068740685543964, 1.195902462065301, 1.2042614595806085, 1.20764312267658, 1.1053804904500812, 1.297322077839957, 1.1768969354305134, 1.1980707776068173, 1.1669013671302, 1.1948155067725361, 1.1924783027965284, 1.2424623115577889, 1.1532213145191237, 1.1357472590882862, 1.1280619427498826, 1.2451489868891537, 1.2439478584729982, 1.109738337952741, 1.1807356809895233, 1.137231397620316, 1.1405696314670446, 1.0626118868600072, 1.1285665334094803, 1.069023075361469, 1.2871851659873241, 1.220522092891852, 1.094606426757727, 1.153448044091948, 1.135636972963181, 1.087760505637171, 1.047130975384357, 1.1451005300275965, 1.0893090813923056, 1.1096281373289683, 1.1826569470133828, 1.105020370330452, 1.0947984061013754, 1.0812822946325003, 1.1318046744926131, 1.232842116948353, 1.1405834087977826, 1.224571866280024, 1.184224801996311, 1.1242448933719198, 1.1327326667399187, 1.1186364596535698, 1.1001650303488015, 1.166275700289775, 1.0968662502692226, 1.1286588715373147, 1.2282344779743324, 1.163798127355375, 1.2219051966826449, 1.1399707512315271, 1.0876583652366105, 1.1931682978315103, 1.0997253825029423, 1.2608967837858986, 1.2174478141000393, 1.1452644793703677, 1.0681754221388369, 1.0887708094669364, 1.1488970148897015, 1.1110928048579565, 1.0277896842406058, 1.1670268238831212, 1.1644090305444887, 1.0764187151603766, 1.1481795293889803, 1.1633793639257162, 1.1851423106928052, 1.1624039928624996, 1.0999273528896014, 1.0741414042155948, 1.164106234503208, 1.1680782597502897, 1.1560979397453153, 1.1820321293359255, 1.1283832754354834, 1.151494230200217, 1.2913324063179663, 1.1781151832460732, 1.2354282990603296, 1.2325963149078727, 1.1464880932500585, 1.220515018629035, 1.1607905982905984, 1.2003588111840768, 1.2209192092974264, 1.323376512698142, 1.4610515846105159, 1.3146630430166886, 1.5114956379235551, 1.3047213880547215, 1.4171980584372323, 1.3466950187757318, 1.558314485200118, 1.2300902628005432, 1.388904134650567, 1.1654686398872445, 1.2646750157419715, 1.1381560482739264, 1.1174956469074115, 1.2487259575867171, 1.2879867559202476, 1.1337763652123665, 1.3591011235955057, 1.0686588402703665, 1.1445947792811262, 1.1218603731294086, 1.1415801235703957, 1.1241938700884249, 1.168920521945433, 1.122550625860148, 1.0922473365966023, 1.0861967790311013, 1.1534603473811769, 1.2222111652900787, 1.0761468203742346, 1.1618064657055482, 1.1485839233652644, 1.0782542113323124, 1.2077138775726153, 1.1945173069999486, 1.1749534965562314, 1.1380044668363372, 1.1733485075785008, 1.2527684425100545, 1.189029265952343, 1.1100764963218221, 1.1736630247268545, 1.1086453057796555, 1.1360074113022358, 1.2029725609756097, 1.1728970778315635, 1.1781266216917488, 1.1094413750767342, 1.197245424314629, 1.1318748410073773, 1.08601756954612, 1.0404439565800707, 1.1496896387076236, 1.0857465120270702, 1.084390194997243, 1.0880756820181872, 1.0689113410035773, 1.0837360259646591, 1.1100021037376406, 1.0263912372270823, 1.1135970838701568, 1.1522076372315035, 1.1309505277250225, 1.106426313229572, 1.1848843904360737, 1.083151976786362, 1.1093973061883184, 1.0287303058387396, 1.0897311108407348, 1.1160273893112052, 1.1472459859243964, 1.1410411875392013, 1.2552955244277417, 1.1947340519526417, 1.1640999533324847, 1.172484960259957, 1.2830270645988098, 1.1493692537951679, 1.1272218564845293, 1.1670023723199499, 1.139498774175974, 1.1337921727395412, 1.1583832655681574, 1.0849383250378706, 1.1271217423095001, 1.0441418922512364, 1.2380021948020663, 1.307031595227574, 1.0546386796987661, 1.1325486596657939, 1.0918585261679783, 1.039877300613497, 1.082892062855998, 1.1228813559322033, 1.1218505251654423, 1.0779908927832207, 1.1709943725540606, 1.2264578051430641, 1.1738832008236573, 1.0981973295935956, 1.1006493506493507, 1.095677622692481, 1.1441807242257576, 1.106429840142096, 1.1091335434765894, 1.1584888621312461, 1.1234255947753071, 1.037349049099718, 1.1989216473557416, 1.139345235738886, 1.0450509504797092, 1.1011867188486302, 1.0595992755263755, 1.043276385499137, 1.0177805728660454, 1.0050248450672772, 1.0360203845262914, 1.029020761441421, 1.0287503558212354, 1.0923085472935423, 1.0828347294242786, 1.0361712428245384, 1.0212415066956924, 1.0309791104163706, 1.0566507574185515, 1.0164979897407458, 1.0538547956747648, 1.025315563077357, 1.0293045332599573, 1.085099111414901, 1.0452172838743552, 1.0601092896174864, 1.0467910491822636, 1.0517638389978816, 1.0, 1.0263601855757065, 1.084321350659205, 1.0, 1.0833826488341816, 1.01417004048583, 1.0423166744511911, 1.0379942140790743, 1.069192114418245, 1.0224192350538432, 1.1080977110982881, 1.0299859221022993, 1.014207389749702, 1.0277467411545624, 1.035843472541927, 1.0508146028522638, 1.0338083821701296, 1.0111180014174344, 1.011076799140709, 1.0306796116504855, 1.0186993887172084, 1.0428339184317792, 1.0205220928918521, 1.0080772261623325, 1.0175650849128468, 1.0177528191657987, 1.0, 1.03625136520205, 1.0659468220246178, 1.0449707755386897, 1.0361160077226559, 1.0, 1.0, 1.0130896782210035, 1.002109037224507, 1.0638791123100593, 1.0361890489273722, 1.0, 1.0399135525523882, 1.058994249755886, 1.0577674131100558, 1.0385397209097902, 1.0, 1.0, 1.0, 1.010580443678656, 1.0, 1.0365360157243613, 1.027196083763938, 1.0520048695122879, 1.0006542487684729, 1.0428227493389115, 1.0457493763193244, 1.0145939584150647, 1.0317708740903044, 1.0204017329657344, 1.0384828951498033, 1.007481238273921, 1.0, 1.00052580005258, 1.0, 1.0, 1.0435242166580543, 1.0355668236146325, 1.0144612994608426, 1.0225380071656822, 1.1044585348738127, 1.0107456526662808, 1.020843569784582, 1.013853052431173, 1.0, 1.0142890007924132, 1.0436607027931524, 1.0, 1.043308093727617, 1.0594556769050059, 1.1181904855837197, 1.0267408278960317, 1.0035602094240839, 1.1016614462753642, 1.0385594639865996, 1.0, 1.0705595304823765, 1.0471420940170941, 1.0016248053618577, 1.031705347424599, 1.0, 1.0376599303765992, 1.0, 1.0430905673109365, 1.0060477143810478, 1.0, 1.0008596118174005, 1.0, 1.083233485102644, 1.004024881083059, 1.0472163495419309, 1.049814594556776, 1.0674291327532979, 1.0080248315542433, 1.0191517343416077, 1.061253868854819, 1.0065732447269575, 1.0393258426966292, 1.0, 1.00136668033347, 1.0462456325400489, 1.0502169054817931, 1.0142942623495779, 1.0377224199288255, 1.0355527885182516, 1.059350705441981, 1.0629197365847298, 1.0, 1.0383454406740307, 1.0665001881435363, 1.0433049366535605, 1.019783423573511, 1.0335885655946913, 1.033119940743876, 1.0996759759296404, 1.048162485546227, 1.0338129122734119, 1.0735606021416377, 1.049363671423062, 1.0255877178954103, 1.050248063152235, 1.0, 1.0567022115898506, 1.0769673752472522, 1.0105945121951219, 1.0861444103707834, 1.095096004151531, 1.0214855739717619, 1.087664633028724, 1.0256168913762402, 1.0499023914104442, 1.0116111720941579, 1.0, 1.0192972562096951, 1.0576971276755727, 1.0752175613571917, 1.0, 1.0337300156268783, 1.006170963745588, 1.0263912372270823, 1.0, 1.0070704057279236, 1.0055418910924998, 1.0117035505836576, 1.023243128579654, 1.01662435013904, 1.0593693749612065, 1.0287303058387396, 1.0083951818956078, 1.0188011373527535, 1.0543638585696826, 1.00422329082166, 1.0515886573283224, 1.0217794663368087, 1.0791650757286495, 1.0164668686602556, 1.1001781137321343, 1.0624331836647423, 1.0246872942725478, 1.0675887381943512, 1.062489784799782, 1.0854790823211875, 1.016584635138027, 1.0287816489937243, 1.0421737086749883, 1.0441418922512364, 1.0219480206632585, 1.0934876270437472, 1.0546386796987661, 1.0, 1.0107070766170319, 1.0, 1.0448235395139822, 1.0016949152542374, 1.0, 1.0, 1.0264518524866455, 1.0, 1.015071784018761, 1.0174715867589914, 1.0176565008025682, 1.0359072489869428, 1.0349193459082353, 1.032930728241563, 1.0, 1.0030102347983143, 1.0383688384388121, 1.0094728469159013, 1.0597300294443808, 1.0950477019912117, 1.0946308324891245, 1.0579472288852418, 1.1077654516640254, 1.0695279480921482, 1.052541306957864, 1.0596281614650216, 1.0394371091035441, 1.0612094812468178, 1.0888699117563336, 1.0959764365899745, 1.0854939502725702, 1.0773220831316135, 1.0855597334916551, 1.0986926246980246, 1.1117797606695718, 1.1272702065714681, 1.111079904507794, 1.122417318947888, 1.1041480360459517, 1.0959671907040327, 1.0913302653117953, 1.0890461997019374, 1.0736848320245616, 1.1020846765527617, 1.067271375464684, 1.0623305416641562, 1.1184356128869075, 1.065772457971189, 1.08092673689194, 1.0203896027694654, 1.0787015413358243, 1.0593539054966248, 1.065326633165829, 1.1180375046416635, 1.1106462781304096, 1.0990145471609574, 1.124481525625745, 1.0753258845437617, 1.102879691830695, 1.0997369271241981, 1.0088350204226604, 1.0370526222537209, 1.0402568922305764, 1.0606053683609367, 1.0186993887172084, 1.067078198996301, 1.0413154028703808, 1.0080772261623325, 1.0276022762916162, 1.0292559213803723, 1.0171677485480013, 1.0269679912627068, 1.0428840509877788, 1.0522987001657507, 1.05622009569378, 1.012947448591013, 1.0367097066241298, 1.0159604096148078, 1.0396077190762416, 1.026470526249236, 1.041878278244942, 1.0816113718064817, 1.0720304207473874, 1.064771617663014, 1.0233766963558202, 1.055900450499945, 1.0160804816223068, 1.090878576823026, 1.0767489995860355, 1.0260068920956278, 1.094757906301499, 1.1101090684857595, 1.1127860445238742, 1.1036673514418323, 1.0786253078817734, 1.0595571693570667, 1.060065246593744, 1.0734013338564143, 1.0580640112684874, 1.0764868058290666, 1.0199657178725767, 1.0048076923076923, 1.0219611475369879, 1.0582443058244306, 1.02518417398263, 1.0238605515073582, 1.056419410908066, 1.0616684776047325, 1.0351366170154437, 1.0, 1.0641086689556654, 1.0331932455897526, 1.0233778996095064, 1.0553621082692453, 1.0522036063479585, 1.035837529715498, 1.0553739219976832, 1.04319805362874, 1.0666632559091374, 1.0409117036962987, 1.07380741032975, 1.0897065639818875, 1.043734729493892, 1.0722797221843934, 1.0327638190954773, 1.0578804983133496, 1.0534801674964556, 1.0771233974358974, 1.0564281362128496, 1.105298269021453, 1.0776376342253282, 1.0504995705049958, 1.0, 1.0615028678845135, 1.0267350684017351, 1.0101836870657657, 1.0525720490431163, 1.0705084079063822, 1.0428149213195943, 1.0900109769484083, 1.0688513037350247, 1.0405093402364793, 1.107634016278417, 1.0784313725490196, 1.1274042413282919, 1.0635571870726266, 1.0764952325917365, 1.1277902621722846, 1.0498043400924937, 1.033893672270056, 1.009427121102248, 1.048968055738136, 1.0093743767036767, 1.0717166581935265, 1.0360115341765515, 1.0, 1.028688791810654, 1.075770836138414, 1.008989285832753, 1.057332466732802, 1.109600262123198, 1.030716368179925, 1.0233282286881062, 1.0539653986561557, 1.0586329270174355, 1.0763661957669297, 1.055316054640835, 1.0715431172727743, 1.0760839623161258, 1.0492563569486646, 1.0, 1.058340739191803, 1.0567022115898506, 1.042014071458975, 1.003734756097561, 1.0431609093443495, 1.0514270887389725, 1.030841006752609, 1.0886858160299546, 1.0, 1.0406539775500243, 1.0, 1.0848320865828427, 1.0, 1.0329089177402375, 1.0, 1.0247026974765543, 1.0364947710061305, 1.0246604801196793, 1.0, 1.0260189171354053, 1.0070704057279236, 1.0209221955851677, 1.0053501945525292, 1.0227885693505865, 1.0126345061056705, 1.0913971820495314, 1.0140512421896022, 1.0083951818956078, 1.0170893054024255, 1.0376754182645709, 1.0402676144679073, 1.0547915954902631, 1.0293338045591094, 1.0837469772177677, 1.0462828788477583, 1.062296363873322, 1.0512294205687407, 1.0383475971033576, 1.0891186607582473, 1.0560882593298828, 1.0290418353576247, 1.0327412796918467, 1.058699415710885, 1.0354885882905938, 1.0314045631016326, 1.0219480206632585, 1.025823022536456, 1.0546386796987661, 1.0441648894527982, 1.0, 1.0172510834693533, 1.0456536050605376, 1.0016949152542374, 1.0296885435006982, 1.0038360700979716, 1.0264518524866455, 1.0320234214656525, 1.0098381284676543, 1.0174715867589914, 1.0141543849409018, 1.0178973435389465, 1.0412314052637408, 1.03044404973357, 1.0413239025140308, 1.000526791089705, 1.0658140258124709, 1.025309132981416, 1.0951015257542733, 1.0], \"y0\": \" \", \"yaxis\": \"y\"}],\n",
       "                        {\"boxmode\": \"group\", \"legend\": {\"tracegroupgap\": 0}, \"margin\": {\"t\": 60}, \"template\": {\"data\": {\"bar\": [{\"error_x\": {\"color\": \"#2a3f5f\"}, \"error_y\": {\"color\": \"#2a3f5f\"}, \"marker\": {\"line\": {\"color\": \"#E5ECF6\", \"width\": 0.5}}, \"type\": \"bar\"}], \"barpolar\": [{\"marker\": {\"line\": {\"color\": \"#E5ECF6\", \"width\": 0.5}}, \"type\": \"barpolar\"}], \"carpet\": [{\"aaxis\": {\"endlinecolor\": \"#2a3f5f\", \"gridcolor\": \"white\", \"linecolor\": \"white\", \"minorgridcolor\": \"white\", \"startlinecolor\": \"#2a3f5f\"}, \"baxis\": {\"endlinecolor\": \"#2a3f5f\", \"gridcolor\": \"white\", \"linecolor\": \"white\", \"minorgridcolor\": \"white\", \"startlinecolor\": \"#2a3f5f\"}, \"type\": \"carpet\"}], \"choropleth\": [{\"colorbar\": {\"outlinewidth\": 0, \"ticks\": \"\"}, \"type\": \"choropleth\"}], \"contour\": [{\"colorbar\": {\"outlinewidth\": 0, \"ticks\": \"\"}, \"colorscale\": [[0.0, \"#0d0887\"], [0.1111111111111111, \"#46039f\"], [0.2222222222222222, \"#7201a8\"], [0.3333333333333333, \"#9c179e\"], [0.4444444444444444, \"#bd3786\"], [0.5555555555555556, \"#d8576b\"], [0.6666666666666666, \"#ed7953\"], [0.7777777777777778, \"#fb9f3a\"], [0.8888888888888888, \"#fdca26\"], [1.0, \"#f0f921\"]], \"type\": \"contour\"}], \"contourcarpet\": [{\"colorbar\": {\"outlinewidth\": 0, \"ticks\": \"\"}, \"type\": \"contourcarpet\"}], \"heatmap\": [{\"colorbar\": {\"outlinewidth\": 0, \"ticks\": \"\"}, \"colorscale\": [[0.0, \"#0d0887\"], [0.1111111111111111, \"#46039f\"], [0.2222222222222222, \"#7201a8\"], [0.3333333333333333, \"#9c179e\"], [0.4444444444444444, \"#bd3786\"], [0.5555555555555556, \"#d8576b\"], [0.6666666666666666, \"#ed7953\"], [0.7777777777777778, \"#fb9f3a\"], [0.8888888888888888, \"#fdca26\"], [1.0, \"#f0f921\"]], \"type\": \"heatmap\"}], \"heatmapgl\": [{\"colorbar\": {\"outlinewidth\": 0, \"ticks\": \"\"}, \"colorscale\": [[0.0, \"#0d0887\"], [0.1111111111111111, \"#46039f\"], [0.2222222222222222, \"#7201a8\"], [0.3333333333333333, \"#9c179e\"], [0.4444444444444444, \"#bd3786\"], [0.5555555555555556, \"#d8576b\"], [0.6666666666666666, \"#ed7953\"], [0.7777777777777778, \"#fb9f3a\"], [0.8888888888888888, \"#fdca26\"], [1.0, \"#f0f921\"]], \"type\": \"heatmapgl\"}], \"histogram\": [{\"marker\": {\"colorbar\": {\"outlinewidth\": 0, \"ticks\": \"\"}}, \"type\": \"histogram\"}], \"histogram2d\": [{\"colorbar\": {\"outlinewidth\": 0, \"ticks\": \"\"}, \"colorscale\": [[0.0, \"#0d0887\"], [0.1111111111111111, \"#46039f\"], [0.2222222222222222, \"#7201a8\"], [0.3333333333333333, \"#9c179e\"], [0.4444444444444444, \"#bd3786\"], [0.5555555555555556, \"#d8576b\"], [0.6666666666666666, \"#ed7953\"], [0.7777777777777778, \"#fb9f3a\"], [0.8888888888888888, \"#fdca26\"], [1.0, \"#f0f921\"]], \"type\": \"histogram2d\"}], \"histogram2dcontour\": [{\"colorbar\": {\"outlinewidth\": 0, \"ticks\": \"\"}, \"colorscale\": [[0.0, \"#0d0887\"], [0.1111111111111111, \"#46039f\"], [0.2222222222222222, \"#7201a8\"], [0.3333333333333333, \"#9c179e\"], [0.4444444444444444, \"#bd3786\"], [0.5555555555555556, \"#d8576b\"], [0.6666666666666666, \"#ed7953\"], [0.7777777777777778, \"#fb9f3a\"], [0.8888888888888888, \"#fdca26\"], [1.0, \"#f0f921\"]], \"type\": \"histogram2dcontour\"}], \"mesh3d\": [{\"colorbar\": {\"outlinewidth\": 0, \"ticks\": \"\"}, \"type\": \"mesh3d\"}], \"parcoords\": [{\"line\": {\"colorbar\": {\"outlinewidth\": 0, \"ticks\": \"\"}}, \"type\": \"parcoords\"}], \"pie\": [{\"automargin\": true, \"type\": \"pie\"}], \"scatter\": [{\"marker\": {\"colorbar\": {\"outlinewidth\": 0, \"ticks\": \"\"}}, \"type\": \"scatter\"}], \"scatter3d\": [{\"line\": {\"colorbar\": {\"outlinewidth\": 0, \"ticks\": \"\"}}, \"marker\": {\"colorbar\": {\"outlinewidth\": 0, \"ticks\": \"\"}}, \"type\": \"scatter3d\"}], \"scattercarpet\": [{\"marker\": {\"colorbar\": {\"outlinewidth\": 0, \"ticks\": \"\"}}, \"type\": \"scattercarpet\"}], \"scattergeo\": [{\"marker\": {\"colorbar\": {\"outlinewidth\": 0, \"ticks\": \"\"}}, \"type\": \"scattergeo\"}], \"scattergl\": [{\"marker\": {\"colorbar\": {\"outlinewidth\": 0, \"ticks\": \"\"}}, \"type\": \"scattergl\"}], \"scattermapbox\": [{\"marker\": {\"colorbar\": {\"outlinewidth\": 0, \"ticks\": \"\"}}, \"type\": \"scattermapbox\"}], \"scatterpolar\": [{\"marker\": {\"colorbar\": {\"outlinewidth\": 0, \"ticks\": \"\"}}, \"type\": \"scatterpolar\"}], \"scatterpolargl\": [{\"marker\": {\"colorbar\": {\"outlinewidth\": 0, \"ticks\": \"\"}}, \"type\": \"scatterpolargl\"}], \"scatterternary\": [{\"marker\": {\"colorbar\": {\"outlinewidth\": 0, \"ticks\": \"\"}}, \"type\": \"scatterternary\"}], \"surface\": [{\"colorbar\": {\"outlinewidth\": 0, \"ticks\": \"\"}, \"colorscale\": [[0.0, \"#0d0887\"], [0.1111111111111111, \"#46039f\"], [0.2222222222222222, \"#7201a8\"], [0.3333333333333333, \"#9c179e\"], [0.4444444444444444, \"#bd3786\"], [0.5555555555555556, \"#d8576b\"], [0.6666666666666666, \"#ed7953\"], [0.7777777777777778, \"#fb9f3a\"], [0.8888888888888888, \"#fdca26\"], [1.0, \"#f0f921\"]], \"type\": \"surface\"}], \"table\": [{\"cells\": {\"fill\": {\"color\": \"#EBF0F8\"}, \"line\": {\"color\": \"white\"}}, \"header\": {\"fill\": {\"color\": \"#C8D4E3\"}, \"line\": {\"color\": \"white\"}}, \"type\": \"table\"}]}, \"layout\": {\"annotationdefaults\": {\"arrowcolor\": \"#2a3f5f\", \"arrowhead\": 0, \"arrowwidth\": 1}, \"coloraxis\": {\"colorbar\": {\"outlinewidth\": 0, \"ticks\": \"\"}}, \"colorscale\": {\"diverging\": [[0, \"#8e0152\"], [0.1, \"#c51b7d\"], [0.2, \"#de77ae\"], [0.3, \"#f1b6da\"], [0.4, \"#fde0ef\"], [0.5, \"#f7f7f7\"], [0.6, \"#e6f5d0\"], [0.7, \"#b8e186\"], [0.8, \"#7fbc41\"], [0.9, \"#4d9221\"], [1, \"#276419\"]], \"sequential\": [[0.0, \"#0d0887\"], [0.1111111111111111, \"#46039f\"], [0.2222222222222222, \"#7201a8\"], [0.3333333333333333, \"#9c179e\"], [0.4444444444444444, \"#bd3786\"], [0.5555555555555556, \"#d8576b\"], [0.6666666666666666, \"#ed7953\"], [0.7777777777777778, \"#fb9f3a\"], [0.8888888888888888, \"#fdca26\"], [1.0, \"#f0f921\"]], \"sequentialminus\": [[0.0, \"#0d0887\"], [0.1111111111111111, \"#46039f\"], [0.2222222222222222, \"#7201a8\"], [0.3333333333333333, \"#9c179e\"], [0.4444444444444444, \"#bd3786\"], [0.5555555555555556, \"#d8576b\"], [0.6666666666666666, \"#ed7953\"], [0.7777777777777778, \"#fb9f3a\"], [0.8888888888888888, \"#fdca26\"], [1.0, \"#f0f921\"]]}, \"colorway\": [\"#636efa\", \"#EF553B\", \"#00cc96\", \"#ab63fa\", \"#FFA15A\", \"#19d3f3\", \"#FF6692\", \"#B6E880\", \"#FF97FF\", \"#FECB52\"], \"font\": {\"color\": \"#2a3f5f\"}, \"geo\": {\"bgcolor\": \"white\", \"lakecolor\": \"white\", \"landcolor\": \"#E5ECF6\", \"showlakes\": true, \"showland\": true, \"subunitcolor\": \"white\"}, \"hoverlabel\": {\"align\": \"left\"}, \"hovermode\": \"closest\", \"mapbox\": {\"style\": \"light\"}, \"paper_bgcolor\": \"white\", \"plot_bgcolor\": \"#E5ECF6\", \"polar\": {\"angularaxis\": {\"gridcolor\": \"white\", \"linecolor\": \"white\", \"ticks\": \"\"}, \"bgcolor\": \"#E5ECF6\", \"radialaxis\": {\"gridcolor\": \"white\", \"linecolor\": \"white\", \"ticks\": \"\"}}, \"scene\": {\"xaxis\": {\"backgroundcolor\": \"#E5ECF6\", \"gridcolor\": \"white\", \"gridwidth\": 2, \"linecolor\": \"white\", \"showbackground\": true, \"ticks\": \"\", \"zerolinecolor\": \"white\"}, \"yaxis\": {\"backgroundcolor\": \"#E5ECF6\", \"gridcolor\": \"white\", \"gridwidth\": 2, \"linecolor\": \"white\", \"showbackground\": true, \"ticks\": \"\", \"zerolinecolor\": \"white\"}, \"zaxis\": {\"backgroundcolor\": \"#E5ECF6\", \"gridcolor\": \"white\", \"gridwidth\": 2, \"linecolor\": \"white\", \"showbackground\": true, \"ticks\": \"\", \"zerolinecolor\": \"white\"}}, \"shapedefaults\": {\"line\": {\"color\": \"#2a3f5f\"}}, \"ternary\": {\"aaxis\": {\"gridcolor\": \"white\", \"linecolor\": \"white\", \"ticks\": \"\"}, \"baxis\": {\"gridcolor\": \"white\", \"linecolor\": \"white\", \"ticks\": \"\"}, \"bgcolor\": \"#E5ECF6\", \"caxis\": {\"gridcolor\": \"white\", \"linecolor\": \"white\", \"ticks\": \"\"}}, \"title\": {\"x\": 0.05}, \"xaxis\": {\"automargin\": true, \"gridcolor\": \"white\", \"linecolor\": \"white\", \"ticks\": \"\", \"title\": {\"standoff\": 15}, \"zerolinecolor\": \"white\", \"zerolinewidth\": 2}, \"yaxis\": {\"automargin\": true, \"gridcolor\": \"white\", \"linecolor\": \"white\", \"ticks\": \"\", \"title\": {\"standoff\": 15}, \"zerolinecolor\": \"white\", \"zerolinewidth\": 2}}}, \"xaxis\": {\"anchor\": \"y\", \"domain\": [0.0, 1.0], \"title\": {\"text\": \"variable\"}}, \"yaxis\": {\"anchor\": \"x\", \"domain\": [0.0, 1.0], \"title\": {\"text\": \"value\"}}},\n",
       "                        {\"responsive\": true}\n",
       "                    ).then(function(){\n",
       "                            \n",
       "var gd = document.getElementById('88d53079-5c6c-4a7b-83ba-8bfb01b3349a');\n",
       "var x = new MutationObserver(function (mutations, observer) {{\n",
       "        var display = window.getComputedStyle(gd).display;\n",
       "        if (!display || display === 'none') {{\n",
       "            console.log([gd, 'removed!']);\n",
       "            Plotly.purge(gd);\n",
       "            observer.disconnect();\n",
       "        }}\n",
       "}});\n",
       "\n",
       "// Listen for the removal of the full notebook cells\n",
       "var notebookContainer = gd.closest('#notebook-container');\n",
       "if (notebookContainer) {{\n",
       "    x.observe(notebookContainer, {childList: true});\n",
       "}}\n",
       "\n",
       "// Listen for the clearing of the current output cell\n",
       "var outputEl = gd.closest('.output');\n",
       "if (outputEl) {{\n",
       "    x.observe(outputEl, {childList: true});\n",
       "}}\n",
       "\n",
       "                        })\n",
       "                };\n",
       "                });\n",
       "            </script>\n",
       "        </div>"
      ]
     },
     "metadata": {},
     "output_type": "display_data"
    }
   ],
   "source": [
    "fig = px.box(df_results_cost_pct.melt(), x=\"variable\", y=\"value\")\n",
    "fig.show()"
   ]
  }
 ],
 "metadata": {
  "kernelspec": {
   "display_name": "Python 3",
   "language": "python",
   "name": "python3"
  },
  "language_info": {
   "codemirror_mode": {
    "name": "ipython",
    "version": 3
   },
   "file_extension": ".py",
   "mimetype": "text/x-python",
   "name": "python",
   "nbconvert_exporter": "python",
   "pygments_lexer": "ipython3",
   "version": "3.7.6"
  }
 },
 "nbformat": 4,
 "nbformat_minor": 4
}
